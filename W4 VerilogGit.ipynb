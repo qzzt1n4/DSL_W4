{
  "nbformat": 4,
  "nbformat_minor": 0,
  "metadata": {
    "colab": {
      "provenance": [],
      "toc_visible": true,
      "include_colab_link": true
    },
    "kernelspec": {
      "name": "python3",
      "display_name": "Python 3"
    },
    "language_info": {
      "name": "python"
    }
  },
  "cells": [
    {
      "cell_type": "markdown",
      "metadata": {
        "id": "view-in-github",
        "colab_type": "text"
      },
      "source": [
        "<a href=\"https://colab.research.google.com/github/qzzt1n4/DSL_W4/blob/main/W4%20VerilogGit.ipynb\" target=\"_parent\"><img src=\"https://colab.research.google.com/assets/colab-badge.svg\" alt=\"Open In Colab\"/></a>"
      ]
    },
    {
      "cell_type": "markdown",
      "source": [
        "## Setup"
      ],
      "metadata": {
        "id": "-SOAGkbBjEll"
      }
    },
    {
      "cell_type": "code",
      "source": [
        "!pip install git+https://github.com/pe8sutd/eda4u &> /dev/null\n",
        "!git clone https://github.com/pe8sutd/eda4u &> /dev/null\n",
        "%load_ext plugin"
      ],
      "metadata": {
        "id": "3i_YuG_6jDoN"
      },
      "execution_count": null,
      "outputs": []
    },
    {
      "cell_type": "markdown",
      "source": [
        "## Cover"
      ],
      "metadata": {
        "id": "mRa8NjmDjT78"
      }
    },
    {
      "cell_type": "markdown",
      "source": [
        "![](https://github.com/pe8sutd/DSL2025/blob/main/VerilogColab1/Slide1.PNG?raw=1)"
      ],
      "metadata": {
        "id": "4H7cbD3paJLr"
      }
    },
    {
      "cell_type": "markdown",
      "source": [
        "![](https://github.com/pe8sutd/DSL2025/blob/main/VerilogColab1/Slide2.PNG?raw=1)"
      ],
      "metadata": {
        "id": "dhO_sRn3g_VE"
      }
    },
    {
      "cell_type": "markdown",
      "source": [
        "![](https://github.com/pe8sutd/DSL2025/blob/main/VerilogColab1/Slide3.PNG?raw=1)"
      ],
      "metadata": {
        "id": "WMZHJYtFhCrg"
      }
    },
    {
      "cell_type": "markdown",
      "source": [
        "## Introduction"
      ],
      "metadata": {
        "id": "Hvjtqk8Tk5RF"
      }
    },
    {
      "cell_type": "markdown",
      "source": [
        "![](https://github.com/pe8sutd/DSL2025/blob/main/VerilogColab1/Slide4.PNG?raw=1)"
      ],
      "metadata": {
        "id": "w_kjnXlyhCpO"
      }
    },
    {
      "cell_type": "markdown",
      "source": [
        "![](https://github.com/pe8sutd/DSL2025/blob/main/VerilogColab1/Slide5.PNG?raw=1)"
      ],
      "metadata": {
        "id": "FZhhY0nVhCm6"
      }
    },
    {
      "cell_type": "markdown",
      "source": [
        "![](https://github.com/pe8sutd/DSL2025/blob/main/VerilogColab1/Slide6.PNG?raw=1)"
      ],
      "metadata": {
        "id": "gwg0zPq5hCkj"
      }
    },
    {
      "cell_type": "markdown",
      "source": [
        "![](https://github.com/pe8sutd/DSL2025/blob/main/VerilogColab1/Slide6.PNG?raw=1)"
      ],
      "metadata": {
        "id": "syqzXvfvhCiM"
      }
    },
    {
      "cell_type": "markdown",
      "source": [
        "## Typical Design Flow"
      ],
      "metadata": {
        "id": "0rLiTy-KlA-8"
      }
    },
    {
      "cell_type": "markdown",
      "source": [
        "![](https://github.com/pe8sutd/DSL2025/blob/main/VerilogColab1/Slide7.PNG?raw=1)"
      ],
      "metadata": {
        "id": "WthUXRDfhCfq"
      }
    },
    {
      "cell_type": "markdown",
      "source": [
        "![](https://github.com/pe8sutd/DSL2025/blob/main/VerilogColab1/Slide8.PNG?raw=1)"
      ],
      "metadata": {
        "id": "OBuTZS84hCdj"
      }
    },
    {
      "cell_type": "markdown",
      "source": [
        "![](https://github.com/pe8sutd/DSL2025/blob/main/VerilogColab1/Slide9.PNG?raw=1)"
      ],
      "metadata": {
        "id": "afrKCZ2ChCbT"
      }
    },
    {
      "cell_type": "markdown",
      "source": [
        "![](https://github.com/pe8sutd/DSL2025/blob/main/VerilogColab1/Slide10.PNG?raw=1)"
      ],
      "metadata": {
        "id": "slQRXz7yhCZD"
      }
    },
    {
      "cell_type": "markdown",
      "source": [],
      "metadata": {
        "id": "lt17VxhzlNON"
      }
    },
    {
      "cell_type": "markdown",
      "source": [
        "![](https://github.com/pe8sutd/DSL2025/blob/main/VerilogColab1/Slide11.PNG?raw=1)"
      ],
      "metadata": {
        "id": "WYZww7aqhCWy"
      }
    },
    {
      "cell_type": "markdown",
      "source": [
        "![](https://github.com/pe8sutd/DSL2025/blob/main/VerilogColab1/Slide12.PNG?raw=1)"
      ],
      "metadata": {
        "id": "nh_OLg8ehCUj"
      }
    },
    {
      "cell_type": "markdown",
      "source": [
        "![](https://github.com/pe8sutd/DSL2025/blob/main/VerilogColab1/Slide13.PNG?raw=1)"
      ],
      "metadata": {
        "id": "XY4UEbyVhCSD"
      }
    },
    {
      "cell_type": "markdown",
      "source": [
        "![](https://github.com/pe8sutd/DSL2025/blob/main/VerilogColab1/Slide14.PNG?raw=1)\n"
      ],
      "metadata": {
        "id": "OrP0KK8vhCNr"
      }
    },
    {
      "cell_type": "markdown",
      "source": [
        "## Concept\n"
      ],
      "metadata": {
        "id": "t2y6wwWCjadc"
      }
    },
    {
      "cell_type": "markdown",
      "source": [
        "1. Using %%print_verilog to view the circuit diagram of the above module.\n",
        "2. In Structure Description, \"wire\" for outand is missing. Find a way to add \"wire\" declaration.\n",
        "3. Identify the difference between the Structure and Behavioural designs."
      ],
      "metadata": {
        "id": "iqV0VGFyWhwL"
      }
    },
    {
      "cell_type": "code",
      "source": [
        "%%print_verilog\n",
        "\n",
        "//Structure Description\n",
        "module logicf (OUT,A,B,C);\n",
        "  input A,B,C;\n",
        "  output OUT;\n",
        "  wire outand;\n",
        "\n",
        "  and g1 (outand,A,B);\n",
        "  or g2 (OUT,outand,C);\n",
        "\n",
        "endmodule\n"
      ],
      "metadata": {
        "collapsed": true,
        "id": "hKaftZYBju80",
        "outputId": "06f4ee03-c50c-42e8-c295-eecd2757dbd0",
        "colab": {
          "base_uri": "https://localhost:8080/"
        }
      },
      "execution_count": null,
      "outputs": [
        {
          "output_type": "display_data",
          "data": {
            "text/plain": [
              "<IPython.core.display.SVG object>"
            ],
            "image/svg+xml": "<svg xmlns=\"http://www.w3.org/2000/svg\" xmlns:xlink=\"http://www.w3.org/1999/xlink\" xmlns:s=\"https://github.com/nturley/netlistsvg\" width=\"249\" height=\"129\"><style>svg {\n  stroke:#000;\n  fill:none;\n}\ntext {\n  fill:#000;\n  stroke:none;\n  font-size:10px;\n  font-weight: bold;\n  font-family: &quot;Courier New&quot;, monospace;\n}\nline {\n    stroke-linecap: round;\n}\n.nodelabel {\n  text-anchor: middle;\n}\n.inputPortLabel {\n  text-anchor: end;\n}\n.splitjoinBody {\n  fill:#000;\n}</style><g s:type=\"and\" transform=\"translate(77,27)\" s:width=\"30\" s:height=\"25\" id=\"cell_$and$/content/code.v:7$1\"><s:alias val=\"$and\"/><s:alias val=\"$logic_and\"/><s:alias val=\"$_AND_\"/><s:alias val=\"$reduce_and\"/><path d=\"M0,0 L0,25 L15,25 A15 12.5 0 0 0 15,0 Z\" class=\"cell_$and$/content/code.v:7$1\"/><g s:x=\"0\" s:y=\"5\" s:pid=\"A\"/><g s:x=\"0\" s:y=\"20\" s:pid=\"B\"/><g s:x=\"30\" s:y=\"12.5\" s:pid=\"Y\"/></g><g s:type=\"or\" transform=\"translate(142,34.5)\" s:width=\"30\" s:height=\"25\" id=\"cell_$or$/content/code.v:8$2\"><s:alias val=\"$or\"/><s:alias val=\"$logic_or\"/><s:alias val=\"$_OR_\"/><s:alias val=\"$reduce_or\"/><s:alias val=\"$reduce_bool\"/><path d=\"M0,0 A30 25 0 0 1 0,25 A30 25 0 0 0 30,12.5 A30 25 0 0 0 0,0\" class=\"cell_$or$/content/code.v:8$2\"/><g s:x=\"2\" s:y=\"5\" s:pid=\"A\"/><g s:x=\"2\" s:y=\"20\" s:pid=\"B\"/><g s:x=\"30\" s:y=\"12.5\" s:pid=\"Y\"/></g><g s:type=\"outputExt\" transform=\"translate(207,37)\" s:width=\"30\" s:height=\"20\" id=\"cell_OUT\"><text x=\"15\" y=\"-4\" class=\"nodelabel cell_OUT\" s:attribute=\"ref\">OUT</text><s:alias val=\"$_outputExt_\"/><path d=\"M30,0 L30,20 L15,20 L0,10 L15,0 Z\" class=\"cell_OUT\"/><g s:x=\"0\" s:y=\"10\" s:pid=\"A\"/></g><g s:type=\"inputExt\" transform=\"translate(12,22)\" s:width=\"30\" s:height=\"20\" id=\"cell_A\"><text x=\"15\" y=\"-4\" class=\"nodelabel cell_A\" s:attribute=\"ref\">A</text><s:alias val=\"$_inputExt_\"/><path d=\"M0,0 L0,20 L15,20 L30,10 L15,0 Z\" class=\"cell_A\"/><g s:x=\"30\" s:y=\"10\" s:pid=\"Y\"/></g><g s:type=\"inputExt\" transform=\"translate(12,87)\" s:width=\"30\" s:height=\"20\" id=\"cell_B\"><text x=\"15\" y=\"-4\" class=\"nodelabel cell_B\" s:attribute=\"ref\">B</text><s:alias val=\"$_inputExt_\"/><path d=\"M0,0 L0,20 L15,20 L30,10 L15,0 Z\" class=\"cell_B\"/><g s:x=\"30\" s:y=\"10\" s:pid=\"Y\"/></g><g s:type=\"inputExt\" transform=\"translate(77,97)\" s:width=\"30\" s:height=\"20\" id=\"cell_C\"><text x=\"15\" y=\"-4\" class=\"nodelabel cell_C\" s:attribute=\"ref\">C</text><s:alias val=\"$_inputExt_\"/><path d=\"M0,0 L0,20 L15,20 L30,10 L15,0 Z\" class=\"cell_C\"/><g s:x=\"30\" s:y=\"10\" s:pid=\"Y\"/></g><line x1=\"42\" x2=\"77\" y1=\"32\" y2=\"32\" class=\"net_3 width_1\" style=\"stroke-width: 1\"/><line x1=\"42\" x2=\"52\" y1=\"97\" y2=\"97\" class=\"net_4 width_1\" style=\"stroke-width: 1\"/><line x1=\"52\" x2=\"52\" y1=\"97\" y2=\"47\" class=\"net_4 width_1\" style=\"stroke-width: 1\"/><line x1=\"52\" x2=\"77\" y1=\"47\" y2=\"47\" class=\"net_4 width_1\" style=\"stroke-width: 1\"/><line x1=\"107\" x2=\"144\" y1=\"39.5\" y2=\"39.5\" class=\"net_6 width_1\" style=\"stroke-width: 1\"/><line x1=\"107\" x2=\"117\" y1=\"107\" y2=\"107\" class=\"net_5 width_1\" style=\"stroke-width: 1\"/><line x1=\"117\" x2=\"117\" y1=\"107\" y2=\"54.5\" class=\"net_5 width_1\" style=\"stroke-width: 1\"/><line x1=\"117\" x2=\"144\" y1=\"54.5\" y2=\"54.5\" class=\"net_5 width_1\" style=\"stroke-width: 1\"/><line x1=\"172\" x2=\"207\" y1=\"47\" y2=\"47\" class=\"net_2 width_1\" style=\"stroke-width: 1\"/></svg>"
          },
          "metadata": {}
        }
      ]
    },
    {
      "cell_type": "code",
      "source": [
        "%%print_verilog\n",
        "\n",
        "//Behavioural Description\n",
        "module logicf (OUT,A,B,C);\n",
        "  input A,B,C;\n",
        "  output OUT;\n",
        "  reg OUT;\n",
        "\n",
        "  always @ (A or B or C)\n",
        "      OUT = A & B | C;\n",
        "\n",
        "endmodule\n"
      ],
      "metadata": {
        "collapsed": true,
        "id": "nHFU5c12mCM9",
        "outputId": "12432584-5d0a-4f96-e446-70ad8c4bd9af",
        "colab": {
          "base_uri": "https://localhost:8080/"
        }
      },
      "execution_count": null,
      "outputs": [
        {
          "output_type": "display_data",
          "data": {
            "text/plain": [
              "<IPython.core.display.SVG object>"
            ],
            "image/svg+xml": "<svg xmlns=\"http://www.w3.org/2000/svg\" xmlns:xlink=\"http://www.w3.org/1999/xlink\" xmlns:s=\"https://github.com/nturley/netlistsvg\" width=\"249\" height=\"129\"><style>svg {\n  stroke:#000;\n  fill:none;\n}\ntext {\n  fill:#000;\n  stroke:none;\n  font-size:10px;\n  font-weight: bold;\n  font-family: &quot;Courier New&quot;, monospace;\n}\nline {\n    stroke-linecap: round;\n}\n.nodelabel {\n  text-anchor: middle;\n}\n.inputPortLabel {\n  text-anchor: end;\n}\n.splitjoinBody {\n  fill:#000;\n}</style><g s:type=\"and\" transform=\"translate(77,27)\" s:width=\"30\" s:height=\"25\" id=\"cell_$and$/content/code.v:9$2\"><s:alias val=\"$and\"/><s:alias val=\"$logic_and\"/><s:alias val=\"$_AND_\"/><s:alias val=\"$reduce_and\"/><path d=\"M0,0 L0,25 L15,25 A15 12.5 0 0 0 15,0 Z\" class=\"cell_$and$/content/code.v:9$2\"/><g s:x=\"0\" s:y=\"5\" s:pid=\"A\"/><g s:x=\"0\" s:y=\"20\" s:pid=\"B\"/><g s:x=\"30\" s:y=\"12.5\" s:pid=\"Y\"/></g><g s:type=\"or\" transform=\"translate(142,34.5)\" s:width=\"30\" s:height=\"25\" id=\"cell_$or$/content/code.v:9$3\"><s:alias val=\"$or\"/><s:alias val=\"$logic_or\"/><s:alias val=\"$_OR_\"/><s:alias val=\"$reduce_or\"/><s:alias val=\"$reduce_bool\"/><path d=\"M0,0 A30 25 0 0 1 0,25 A30 25 0 0 0 30,12.5 A30 25 0 0 0 0,0\" class=\"cell_$or$/content/code.v:9$3\"/><g s:x=\"2\" s:y=\"5\" s:pid=\"A\"/><g s:x=\"2\" s:y=\"20\" s:pid=\"B\"/><g s:x=\"30\" s:y=\"12.5\" s:pid=\"Y\"/></g><g s:type=\"outputExt\" transform=\"translate(207,37)\" s:width=\"30\" s:height=\"20\" id=\"cell_OUT\"><text x=\"15\" y=\"-4\" class=\"nodelabel cell_OUT\" s:attribute=\"ref\">OUT</text><s:alias val=\"$_outputExt_\"/><path d=\"M30,0 L30,20 L15,20 L0,10 L15,0 Z\" class=\"cell_OUT\"/><g s:x=\"0\" s:y=\"10\" s:pid=\"A\"/></g><g s:type=\"inputExt\" transform=\"translate(12,22)\" s:width=\"30\" s:height=\"20\" id=\"cell_A\"><text x=\"15\" y=\"-4\" class=\"nodelabel cell_A\" s:attribute=\"ref\">A</text><s:alias val=\"$_inputExt_\"/><path d=\"M0,0 L0,20 L15,20 L30,10 L15,0 Z\" class=\"cell_A\"/><g s:x=\"30\" s:y=\"10\" s:pid=\"Y\"/></g><g s:type=\"inputExt\" transform=\"translate(12,87)\" s:width=\"30\" s:height=\"20\" id=\"cell_B\"><text x=\"15\" y=\"-4\" class=\"nodelabel cell_B\" s:attribute=\"ref\">B</text><s:alias val=\"$_inputExt_\"/><path d=\"M0,0 L0,20 L15,20 L30,10 L15,0 Z\" class=\"cell_B\"/><g s:x=\"30\" s:y=\"10\" s:pid=\"Y\"/></g><g s:type=\"inputExt\" transform=\"translate(77,97)\" s:width=\"30\" s:height=\"20\" id=\"cell_C\"><text x=\"15\" y=\"-4\" class=\"nodelabel cell_C\" s:attribute=\"ref\">C</text><s:alias val=\"$_inputExt_\"/><path d=\"M0,0 L0,20 L15,20 L30,10 L15,0 Z\" class=\"cell_C\"/><g s:x=\"30\" s:y=\"10\" s:pid=\"Y\"/></g><line x1=\"42\" x2=\"77\" y1=\"32\" y2=\"32\" class=\"net_3 width_1\" style=\"stroke-width: 1\"/><line x1=\"42\" x2=\"52\" y1=\"97\" y2=\"97\" class=\"net_4 width_1\" style=\"stroke-width: 1\"/><line x1=\"52\" x2=\"52\" y1=\"97\" y2=\"47\" class=\"net_4 width_1\" style=\"stroke-width: 1\"/><line x1=\"52\" x2=\"77\" y1=\"47\" y2=\"47\" class=\"net_4 width_1\" style=\"stroke-width: 1\"/><line x1=\"107\" x2=\"144\" y1=\"39.5\" y2=\"39.5\" class=\"net_6 width_1\" style=\"stroke-width: 1\"/><line x1=\"107\" x2=\"117\" y1=\"107\" y2=\"107\" class=\"net_5 width_1\" style=\"stroke-width: 1\"/><line x1=\"117\" x2=\"117\" y1=\"107\" y2=\"54.5\" class=\"net_5 width_1\" style=\"stroke-width: 1\"/><line x1=\"117\" x2=\"144\" y1=\"54.5\" y2=\"54.5\" class=\"net_5 width_1\" style=\"stroke-width: 1\"/><line x1=\"172\" x2=\"207\" y1=\"47\" y2=\"47\" class=\"net_2 width_1\" style=\"stroke-width: 1\"/></svg>"
          },
          "metadata": {}
        }
      ]
    },
    {
      "cell_type": "markdown",
      "source": [
        "## Verilog Convention"
      ],
      "metadata": {
        "id": "RmNaDVvZlswU"
      }
    },
    {
      "cell_type": "markdown",
      "source": [
        "![](https://github.com/pe8sutd/DSL2025/blob/main/VerilogColab1/Slide15.PNG?raw=1)\n"
      ],
      "metadata": {
        "id": "S4komjpIhCLL"
      }
    },
    {
      "cell_type": "markdown",
      "source": [
        "![](https://github.com/pe8sutd/DSL2025/blob/main/VerilogColab1/Slide16.PNG?raw=1)\n"
      ],
      "metadata": {
        "id": "PZ9Kw5aShCJC"
      }
    },
    {
      "cell_type": "markdown",
      "source": [
        "![](https://github.com/pe8sutd/DSL2025/blob/main/VerilogColab1/Slide17.PNG?raw=1)"
      ],
      "metadata": {
        "id": "5Y_4Lb0rhCGi"
      }
    },
    {
      "cell_type": "markdown",
      "source": [
        "![](https://github.com/pe8sutd/DSL2025/blob/main/VerilogColab1/Slide18.PNG?raw=1)"
      ],
      "metadata": {
        "id": "8NCMaS7yhCES"
      }
    },
    {
      "cell_type": "markdown",
      "source": [
        "![](https://github.com/pe8sutd/DSL2025/blob/main/VerilogColab1/Slide19.PNG?raw=1)"
      ],
      "metadata": {
        "id": "K6IIYQVJhCB7"
      }
    },
    {
      "cell_type": "code",
      "source": [
        "print('Quotient', 422 // 16) # Floor division (//) for quotient\n",
        "print('Remainder',422 % 16)  # Modulo operator (%) for remainder"
      ],
      "metadata": {
        "id": "zGtLaMNToDtu",
        "outputId": "ce02c945-4870-4891-e838-48c625518882",
        "colab": {
          "base_uri": "https://localhost:8080/"
        }
      },
      "execution_count": null,
      "outputs": [
        {
          "output_type": "stream",
          "name": "stdout",
          "text": [
            "Quotient 26\n",
            "Remainder 6\n"
          ]
        }
      ]
    },
    {
      "cell_type": "markdown",
      "source": [
        "## Operation\n"
      ],
      "metadata": {
        "id": "xqehT8xZpZ_O"
      }
    },
    {
      "cell_type": "markdown",
      "source": [
        "1. Prompt to Gemini \"python code to do division, results Quotient, and Remainder\".\n",
        "2. Run a new code cell for the generated code."
      ],
      "metadata": {
        "id": "F4FH-CYxWp-b"
      }
    },
    {
      "cell_type": "code",
      "source": [
        "def get_quotient_remainder(dividend, divisor):\n",
        "  \"\"\"\n",
        "  Calculates the quotient and remainder of a division.\n",
        "\n",
        "  Args:\n",
        "    dividend: The number being divided.\n",
        "    divisor: The number dividing the dividend.\n",
        "\n",
        "  Returns:\n",
        "    A tuple containing the quotient and remainder.\n",
        "  \"\"\"\n",
        "  quotient = dividend // divisor  # Floor division (//) for quotient\n",
        "  remainder = dividend % divisor  # Modulo operator (%) for remainder\n",
        "  return quotient, remainder\n",
        "\n",
        "# Example usage\n",
        "dividend = 422\n",
        "divisor = 16\n",
        "\n",
        "quotient, remainder = get_quotient_remainder(dividend, divisor)\n",
        "\n",
        "print(\"Quotient:\", quotient)\n",
        "print(\"Remainder:\", remainder)"
      ],
      "metadata": {
        "id": "rnhcCt3ZpMLv",
        "outputId": "6c5b5f4c-f84c-4de1-a739-1b618ae9ebc0",
        "colab": {
          "base_uri": "https://localhost:8080/"
        }
      },
      "execution_count": null,
      "outputs": [
        {
          "output_type": "stream",
          "name": "stdout",
          "text": [
            "Quotient: 26\n",
            "Remainder: 6\n"
          ]
        }
      ]
    },
    {
      "cell_type": "markdown",
      "source": [
        "3. Prompt to Gemini \"continue divide the number till the Quotient is zero, print all the intermediate Quotient and Remainder\"."
      ],
      "metadata": {
        "id": "Bw0O1RQwq8wb"
      }
    },
    {
      "cell_type": "code",
      "source": [
        "def divide_until_zero(dividend, divisor):\n",
        "  \"\"\"\n",
        "  Divides the dividend by the divisor repeatedly until the quotient is zero,\n",
        "  printing intermediate quotients and remainders.\n",
        "\n",
        "  Args:\n",
        "    dividend: The initial number to divide.\n",
        "    divisor: The number to divide by.\n",
        "  \"\"\"\n",
        "  quotient = dividend\n",
        "  while quotient != 0:\n",
        "    remainder = quotient % divisor\n",
        "    quotient //= divisor\n",
        "    print(\"Quotient:\", quotient, \"Remainder:\", remainder)\n",
        "\n",
        "# Example usage\n",
        "dividend = 422\n",
        "divisor = 16\n",
        "\n",
        "divide_until_zero(dividend, divisor)"
      ],
      "metadata": {
        "id": "R3biWhmRp05m",
        "outputId": "174e897f-f419-43cf-a609-5b47f3c6c2ba",
        "colab": {
          "base_uri": "https://localhost:8080/"
        }
      },
      "execution_count": null,
      "outputs": [
        {
          "output_type": "stream",
          "name": "stdout",
          "text": [
            "Quotient: 26 Remainder: 6\n",
            "Quotient: 1 Remainder: 10\n",
            "Quotient: 0 Remainder: 1\n"
          ]
        }
      ]
    },
    {
      "cell_type": "markdown",
      "source": [
        "![](https://github.com/pe8sutd/DSL2025/blob/main/VerilogColab1/Slide20.PNG?raw=1)"
      ],
      "metadata": {
        "id": "DY8onoWHhB_j"
      }
    },
    {
      "cell_type": "markdown",
      "source": [
        "![](https://github.com/pe8sutd/DSL2025/blob/main/VerilogColab1/Slide21.PNG?raw=1)"
      ],
      "metadata": {
        "id": "smHoamgshB9L"
      }
    },
    {
      "cell_type": "markdown",
      "source": [
        "![](https://github.com/pe8sutd/DSL2025/blob/main/VerilogColab1/Slide22.PNG?raw=1)"
      ],
      "metadata": {
        "id": "a3Gu7WtehB67"
      }
    },
    {
      "cell_type": "markdown",
      "source": [
        "![](https://github.com/pe8sutd/DSL2025/blob/main/VerilogColab1/Slide23.PNG?raw=1)"
      ],
      "metadata": {
        "id": "KFoT7YS-hB4b"
      }
    },
    {
      "cell_type": "markdown",
      "source": [
        "![](https://github.com/pe8sutd/DSL2025/blob/main/VerilogColab1/Slide24.PNG?raw=1)"
      ],
      "metadata": {
        "id": "Q9-9IJZzhB1z"
      }
    },
    {
      "cell_type": "markdown",
      "source": [
        "![](https://github.com/pe8sutd/DSL2025/blob/main/VerilogColab1/Slide25.PNG?raw=1)"
      ],
      "metadata": {
        "id": "46EOervLhBzT"
      }
    },
    {
      "cell_type": "markdown",
      "source": [
        "## Structural Description - Examples"
      ],
      "metadata": {
        "id": "hoesIsP8j1ul"
      }
    },
    {
      "cell_type": "markdown",
      "source": [
        "![](https://github.com/pe8sutd/DSL2025/blob/main/VerilogColab1/Slide26.PNG?raw=1)"
      ],
      "metadata": {
        "id": "jRvwDnORhBwb"
      }
    },
    {
      "cell_type": "markdown",
      "source": [
        "![](https://github.com/pe8sutd/DSL2025/blob/main/VerilogColab1/Slide27.PNG?raw=1)"
      ],
      "metadata": {
        "id": "lg35xbh3hBoc"
      }
    },
    {
      "cell_type": "markdown",
      "source": [
        "![](https://github.com/pe8sutd/DSL2025/blob/main/VerilogColab1/Slide28.PNG?raw=1)"
      ],
      "metadata": {
        "id": "Fe6yWPbzhBjb"
      }
    },
    {
      "cell_type": "markdown",
      "source": [
        "![](https://github.com/pe8sutd/DSL2025/blob/main/VerilogColab1/Slide29.PNG?raw=1)"
      ],
      "metadata": {
        "id": "1du0VxvPhBej"
      }
    },
    {
      "cell_type": "markdown",
      "source": [
        "![](https://github.com/pe8sutd/DSL2025/blob/main/VerilogColab1/Slide30.PNG?raw=1)"
      ],
      "metadata": {
        "id": "Hv0kbwSAnsX-"
      }
    },
    {
      "cell_type": "markdown",
      "source": [
        "![](https://github.com/pe8sutd/DSL2025/blob/main/VerilogColab1/Slide31.PNG?raw=1)"
      ],
      "metadata": {
        "id": "musWBiEFnsVw"
      }
    },
    {
      "cell_type": "markdown",
      "source": [
        "![](https://github.com/pe8sutd/DSL2025/blob/main/VerilogColab1/Slide32.PNG?raw=1)"
      ],
      "metadata": {
        "id": "Dmx7lycinsTV"
      }
    },
    {
      "cell_type": "markdown",
      "source": [
        "![](https://github.com/pe8sutd/DSL2025/blob/main/VerilogColab1/Slide33.PNG?raw=1)"
      ],
      "metadata": {
        "id": "t3IY6lHcnsQl"
      }
    },
    {
      "cell_type": "markdown",
      "source": [
        "![](https://github.com/pe8sutd/DSL2025/blob/main/VerilogColab1/Slide34.PNG?raw=1)"
      ],
      "metadata": {
        "id": "E0kdIIqknsOF"
      }
    },
    {
      "cell_type": "markdown",
      "source": [
        "![](https://github.com/pe8sutd/DSL2025/blob/main/VerilogColab1/Slide35.PNG?raw=1)"
      ],
      "metadata": {
        "id": "VDEg72shnsLc"
      }
    },
    {
      "cell_type": "markdown",
      "source": [
        "![](https://github.com/pe8sutd/DSL2025/blob/main/VerilogColab1/Slide36.PNG?raw=1)"
      ],
      "metadata": {
        "id": "G7LYb--5nsGw"
      }
    },
    {
      "cell_type": "markdown",
      "source": [
        "![](https://github.com/pe8sutd/DSL2025/blob/main/VerilogColab1/Slide37.PNG?raw=1)"
      ],
      "metadata": {
        "id": "Wzdsz4vensE1"
      }
    },
    {
      "cell_type": "markdown",
      "source": [
        "![](https://github.com/pe8sutd/DSL2025/blob/main/VerilogColab1/Slide38.PNG?raw=1)"
      ],
      "metadata": {
        "id": "3rsZKp-znsCB"
      }
    },
    {
      "cell_type": "markdown",
      "source": [
        "![](https://github.com/pe8sutd/DSL2025/blob/main/VerilogColab1/Slide39.PNG?raw=1)"
      ],
      "metadata": {
        "id": "yFhI3kfUnr_W"
      }
    },
    {
      "cell_type": "markdown",
      "source": [
        "![](https://github.com/pe8sutd/DSL2025/blob/main/VerilogColab1/Slide40.PNG?raw=1)"
      ],
      "metadata": {
        "id": "pavC2qgPnr9E"
      }
    },
    {
      "cell_type": "markdown",
      "source": [
        "![](https://github.com/pe8sutd/DSL2025/blob/main/VerilogColab1/Slide41.PNG?raw=1)"
      ],
      "metadata": {
        "id": "i38W4tz4nr6g"
      }
    },
    {
      "cell_type": "markdown",
      "source": [
        "![](https://github.com/pe8sutd/DSL2025/blob/main/VerilogColab1/Slide42.PNG?raw=1)"
      ],
      "metadata": {
        "id": "9fYFvzxwnr4P"
      }
    },
    {
      "cell_type": "markdown",
      "source": [
        "![](https://github.com/pe8sutd/DSL2025/blob/main/VerilogColab1/Slide43.PNG?raw=1)"
      ],
      "metadata": {
        "id": "hiIEfqbDnr1l"
      }
    },
    {
      "cell_type": "markdown",
      "source": [
        "![](https://github.com/pe8sutd/DSL2025/blob/main/VerilogColab1/Slide44.PNG?raw=1)"
      ],
      "metadata": {
        "id": "3NNSuMMHnrS0"
      }
    },
    {
      "cell_type": "markdown",
      "source": [
        "![](https://github.com/pe8sutd/DSL2025/blob/main/VerilogColab1/Slide45.PNG?raw=1)"
      ],
      "metadata": {
        "id": "8lXdJvvAsU5u"
      }
    },
    {
      "cell_type": "markdown",
      "source": [
        "![](https://github.com/pe8sutd/DSL2025/blob/main/VerilogColab1/Slide46.PNG?raw=1)"
      ],
      "metadata": {
        "id": "ud4r6kZQsYpm"
      }
    },
    {
      "cell_type": "markdown",
      "source": [
        "![](https://github.com/pe8sutd/DSL2025/blob/main/VerilogColab1/Slide47.PNG?raw=1)"
      ],
      "metadata": {
        "id": "eQgQp-DEsbK-"
      }
    },
    {
      "cell_type": "markdown",
      "source": [
        "![](https://github.com/pe8sutd/DSL2025/blob/main/VerilogColab1/Slide48.PNG?raw=1)"
      ],
      "metadata": {
        "id": "J-T7cR2Isd1e"
      }
    },
    {
      "cell_type": "markdown",
      "source": [
        "![](https://github.com/pe8sutd/DSL2025/blob/main/VerilogColab1/Slide49.PNG?raw=1)"
      ],
      "metadata": {
        "id": "o5gE3qrusjxG"
      }
    },
    {
      "cell_type": "markdown",
      "source": [
        "![](https://github.com/pe8sutd/DSL2025/blob/main/VerilogColab1/Slide50.PNG?raw=1)"
      ],
      "metadata": {
        "id": "I8NbWnSYsmB2"
      }
    },
    {
      "cell_type": "markdown",
      "source": [
        "## Question"
      ],
      "metadata": {
        "id": "0un_M3HBmTrN"
      }
    },
    {
      "cell_type": "markdown",
      "source": [
        "\n",
        "\n",
        "1. Write Verilog module for the NAND Latch. Using %%print_verilog to view the circuit diagram.\n",
        "2. Write Verilog module and its testbench for the NAND Latch.\n",
        "3. Plot the waveform.\n",
        "\n",
        "Modification:\n",
        "1. In the testbench, set the initial value s=0; r=0; (This is the race condition).\n",
        "2. Rerun. What is your observation if the gate delay of g1, g1 are the same at #1?\n",
        "3. Change one of the gate delay to #2, and observe the waveform again."
      ],
      "metadata": {
        "id": "sGeHkkWxzGij"
      }
    },
    {
      "cell_type": "code",
      "source": [
        "%%print_verilog\n",
        "\n",
        "module nand_rs(q,qb,s,r);\n",
        "  output q,qb;\n",
        "  input s,r;\n",
        "\n",
        "  nand #1 g1 (q,s,qb);\n",
        "  nand #1 g2 (qb,q,r);\n",
        "\n",
        "endmodule"
      ],
      "metadata": {
        "collapsed": true,
        "id": "3qVIHJffzGIr",
        "outputId": "204d120a-e476-45c0-da34-bd9984d0084e",
        "colab": {
          "base_uri": "https://localhost:8080/",
          "height": 184
        }
      },
      "execution_count": null,
      "outputs": [
        {
          "output_type": "stream",
          "name": "stdout",
          "text": [
            "Installing. Please wait... done!\n"
          ]
        },
        {
          "output_type": "display_data",
          "data": {
            "text/plain": [
              "<IPython.core.display.SVG object>"
            ],
            "image/svg+xml": "<svg xmlns=\"http://www.w3.org/2000/svg\" xmlns:xlink=\"http://www.w3.org/1999/xlink\" xmlns:s=\"https://github.com/nturley/netlistsvg\" width=\"381\" height=\"145\"><style>svg {\n  stroke:#000;\n  fill:none;\n}\ntext {\n  fill:#000;\n  stroke:none;\n  font-size:10px;\n  font-weight: bold;\n  font-family: &quot;Courier New&quot;, monospace;\n}\nline {\n    stroke-linecap: round;\n}\n.nodelabel {\n  text-anchor: middle;\n}\n.inputPortLabel {\n  text-anchor: end;\n}\n.splitjoinBody {\n  fill:#000;\n}</style><g s:type=\"and\" transform=\"translate(208,38)\" s:width=\"30\" s:height=\"25\" id=\"cell_$and$/content/code.v:6$1\"><s:alias val=\"$and\"/><s:alias val=\"$logic_and\"/><s:alias val=\"$_AND_\"/><s:alias val=\"$reduce_and\"/><path d=\"M0,0 L0,25 L15,25 A15 12.5 0 0 0 15,0 Z\" class=\"cell_$and$/content/code.v:6$1\"/><g s:x=\"0\" s:y=\"5\" s:pid=\"A\"/><g s:x=\"0\" s:y=\"20\" s:pid=\"B\"/><g s:x=\"30\" s:y=\"12.5\" s:pid=\"Y\"/></g><g s:type=\"and\" transform=\"translate(77,103)\" s:width=\"30\" s:height=\"25\" id=\"cell_$and$/content/code.v:7$3\"><s:alias val=\"$and\"/><s:alias val=\"$logic_and\"/><s:alias val=\"$_AND_\"/><s:alias val=\"$reduce_and\"/><path d=\"M0,0 L0,25 L15,25 A15 12.5 0 0 0 15,0 Z\" class=\"cell_$and$/content/code.v:7$3\"/><g s:x=\"0\" s:y=\"5\" s:pid=\"A\"/><g s:x=\"0\" s:y=\"20\" s:pid=\"B\"/><g s:x=\"30\" s:y=\"12.5\" s:pid=\"Y\"/></g><g s:type=\"not\" transform=\"translate(274,40.5)\" s:width=\"30\" s:height=\"20\" id=\"cell_$not$/content/code.v:6$2\"><s:alias val=\"$_NOT_\"/><s:alias val=\"$not\"/><s:alias val=\"$logic_not\"/><path d=\"M0,0 L0,20 L20,10 Z\" class=\"cell_$not$/content/code.v:6$2\"/><circle cx=\"24\" cy=\"10\" r=\"3\" class=\"cell_$not$/content/code.v:6$2\"/><g s:x=\"-1\" s:y=\"10\" s:pid=\"A\"/><g s:x=\"27\" s:y=\"10\" s:pid=\"Y\"/></g><g s:type=\"not\" transform=\"translate(143,105.5)\" s:width=\"30\" s:height=\"20\" id=\"cell_$not$/content/code.v:7$4\"><s:alias val=\"$_NOT_\"/><s:alias val=\"$not\"/><s:alias val=\"$logic_not\"/><path d=\"M0,0 L0,20 L20,10 Z\" class=\"cell_$not$/content/code.v:7$4\"/><circle cx=\"24\" cy=\"10\" r=\"3\" class=\"cell_$not$/content/code.v:7$4\"/><g s:x=\"-1\" s:y=\"10\" s:pid=\"A\"/><g s:x=\"27\" s:y=\"10\" s:pid=\"Y\"/></g><g s:type=\"outputExt\" transform=\"translate(339,40.5)\" s:width=\"30\" s:height=\"20\" id=\"cell_q\"><text x=\"15\" y=\"-4\" class=\"nodelabel cell_q\" s:attribute=\"ref\">q</text><s:alias val=\"$_outputExt_\"/><path d=\"M30,0 L30,20 L15,20 L0,10 L15,0 Z\" class=\"cell_q\"/><g s:x=\"0\" s:y=\"10\" s:pid=\"A\"/></g><g s:type=\"outputExt\" transform=\"translate(339,105.5)\" s:width=\"30\" s:height=\"20\" id=\"cell_qb\"><text x=\"15\" y=\"-4\" class=\"nodelabel cell_qb\" s:attribute=\"ref\">qb</text><s:alias val=\"$_outputExt_\"/><path d=\"M30,0 L30,20 L15,20 L0,10 L15,0 Z\" class=\"cell_qb\"/><g s:x=\"0\" s:y=\"10\" s:pid=\"A\"/></g><g s:type=\"inputExt\" transform=\"translate(143,33)\" s:width=\"30\" s:height=\"20\" id=\"cell_s\"><text x=\"15\" y=\"-4\" class=\"nodelabel cell_s\" s:attribute=\"ref\">s</text><s:alias val=\"$_inputExt_\"/><path d=\"M0,0 L0,20 L15,20 L30,10 L15,0 Z\" class=\"cell_s\"/><g s:x=\"30\" s:y=\"10\" s:pid=\"Y\"/></g><g s:type=\"inputExt\" transform=\"translate(12,113)\" s:width=\"30\" s:height=\"20\" id=\"cell_r\"><text x=\"15\" y=\"-4\" class=\"nodelabel cell_r\" s:attribute=\"ref\">r</text><s:alias val=\"$_inputExt_\"/><path d=\"M0,0 L0,20 L15,20 L30,10 L15,0 Z\" class=\"cell_r\"/><g s:x=\"30\" s:y=\"10\" s:pid=\"Y\"/></g><line x1=\"173\" x2=\"208\" y1=\"43\" y2=\"43\" class=\"net_4 width_1\" style=\"stroke-width: 1\"/><line x1=\"170\" x2=\"183\" y1=\"115.5\" y2=\"115.5\" class=\"net_3 width_1\" style=\"stroke-width: 1\"/><line x1=\"183\" x2=\"183\" y1=\"115.5\" y2=\"58\" class=\"net_3 width_1\" style=\"stroke-width: 1\"/><circle cx=\"183\" cy=\"115.5\" r=\"2\" style=\"fill:#000\" class=\"net_3 width_1\"/><line x1=\"183\" x2=\"208\" y1=\"58\" y2=\"58\" class=\"net_3 width_1\" style=\"stroke-width: 1\"/><line x1=\"170\" x2=\"339\" y1=\"115.5\" y2=\"115.5\" class=\"net_3 width_1\" style=\"stroke-width: 1\"/><line x1=\"301\" x2=\"314\" y1=\"50.5\" y2=\"50.5\" class=\"net_2 width_1\" style=\"stroke-width: 1\"/><line x1=\"314\" x2=\"314\" y1=\"50.5\" y2=\"12\" class=\"net_2 width_1\" style=\"stroke-width: 1\"/><line x1=\"314\" x2=\"52\" y1=\"12\" y2=\"12\" class=\"net_2 width_1\" style=\"stroke-width: 1\"/><line x1=\"52\" x2=\"52\" y1=\"12\" y2=\"108\" class=\"net_2 width_1\" style=\"stroke-width: 1\"/><circle cx=\"314\" cy=\"50.5\" r=\"2\" style=\"fill:#000\" class=\"net_2 width_1\"/><line x1=\"52\" x2=\"77\" y1=\"108\" y2=\"108\" class=\"net_2 width_1\" style=\"stroke-width: 1\"/><line x1=\"301\" x2=\"339\" y1=\"50.5\" y2=\"50.5\" class=\"net_2 width_1\" style=\"stroke-width: 1\"/><line x1=\"42\" x2=\"77\" y1=\"123\" y2=\"123\" class=\"net_5 width_1\" style=\"stroke-width: 1\"/><line x1=\"238\" x2=\"273\" y1=\"50.5\" y2=\"50.5\" class=\"net_6 width_1\" style=\"stroke-width: 1\"/><line x1=\"107\" x2=\"142\" y1=\"115.5\" y2=\"115.5\" class=\"net_7 width_1\" style=\"stroke-width: 1\"/></svg>"
          },
          "metadata": {}
        }
      ]
    },
    {
      "cell_type": "code",
      "source": [
        "%%verilog\n",
        "\n",
        "module nand_rs_tb; //\n",
        "  wire q,qb; reg s,r;\n",
        "\n",
        "  nand_rs i1(q,qb,s,r);\n",
        "\n",
        "  initial begin\n",
        "  $dumpfile(\"nand_rs_tb.vcd\");\n",
        "  $dumpvars;\n",
        "    s = 0; r = 1;\n",
        "    #10 s=1; r=1;\n",
        "    #10 s=1; r=0;\n",
        "    #10 s=1; r=1;\n",
        "    #1 $finish;\n",
        "  $dumpoff;\n",
        "    end\n",
        "\n",
        "endmodule ////\n",
        "\n",
        "module nand_rs(q,qb,s,r); //\n",
        "  output q,qb;\n",
        "  input s,r;\n",
        "\n",
        "  nand #1 g1 (q,s,qb);\n",
        "  nand #1 g2 (qb,q,r);\n",
        "\n",
        "endmodule ////\n"
      ],
      "metadata": {
        "id": "dkmgw44S0dxV",
        "outputId": "5afb807d-f213-463f-9fcd-d6d04130b4a4",
        "colab": {
          "base_uri": "https://localhost:8080/"
        }
      },
      "execution_count": null,
      "outputs": [
        {
          "output_type": "stream",
          "name": "stdout",
          "text": [
            "VCD info: dumpfile nand_rs_tb.vcd opened for output.\n",
            "\n"
          ]
        }
      ]
    },
    {
      "cell_type": "code",
      "source": [
        "%%waveform nand_rs_tb.vcd\n",
        "sign_list = ['nand_rs_tb.q','nand_rs_tb.qb','nand_rs_tb.s','nand_rs_tb.r']\n",
        "time_begin = 0\n",
        "time_end = 31\n",
        "base = 'bin' # bin, dec, dec2, hex, octal"
      ],
      "metadata": {
        "id": "WnmB4v_rOSxr",
        "outputId": "9aa5ca8e-44e9-4a1e-f4a2-069660bf3bbd",
        "colab": {
          "base_uri": "https://localhost:8080/",
          "height": 207
        }
      },
      "execution_count": null,
      "outputs": [
        {
          "output_type": "display_data",
          "data": {
            "text/plain": [
              "<Figure size 3200x500 with 1 Axes>"
            ],
            "image/png": "[encoded data removed]"
          },
          "metadata": {}
        }
      ]
    },
    {
      "cell_type": "markdown",
      "source": [
        "![](https://github.com/pe8sutd/DSL2025/blob/main/VerilogColab1/Slide51.PNG?raw=1)"
      ],
      "metadata": {
        "id": "eO6d9k7qspTe"
      }
    },
    {
      "cell_type": "markdown",
      "source": [
        "![](https://github.com/pe8sutd/DSL2025/blob/main/VerilogColab1/Slide52.PNG?raw=1)"
      ],
      "metadata": {
        "id": "376zKXJRsuxm"
      }
    },
    {
      "cell_type": "markdown",
      "source": [
        "![](https://github.com/pe8sutd/DSL2025/blob/main/VerilogColab1/Slide53.PNG?raw=1)"
      ],
      "metadata": {
        "id": "zcu_DD-YswtG"
      }
    },
    {
      "cell_type": "markdown",
      "source": [
        "![](https://github.com/pe8sutd/DSL2025/blob/main/VerilogColab1/Slide54.PNG?raw=1)"
      ],
      "metadata": {
        "id": "1vr4AQ_us1De"
      }
    },
    {
      "cell_type": "markdown",
      "source": [
        "![](https://github.com/pe8sutd/DSL2025/blob/main/VerilogColab1/Slide55.PNG?raw=1)"
      ],
      "metadata": {
        "id": "1dS4Vszvs3RP"
      }
    },
    {
      "cell_type": "markdown",
      "source": [
        "![](https://github.com/pe8sutd/DSL2025/blob/main/VerilogColab1/Slide56.PNG?raw=1)"
      ],
      "metadata": {
        "id": "XallS1Pms6lP"
      }
    },
    {
      "cell_type": "markdown",
      "source": [
        "## Modification"
      ],
      "metadata": {
        "id": "SgubhbRuXtyx"
      }
    },
    {
      "cell_type": "code",
      "source": [
        "%%verilog\n",
        "\n",
        "module nand_rs_tb; //\n",
        "  wire q,qb; reg s,r;\n",
        "\n",
        "  nand_rs i1(q,qb,s,r);\n",
        "\n",
        "  initial begin\n",
        "  $dumpfile(\"nand_rs_tb.vcd\");\n",
        "  $dumpvars;\n",
        "    s = 0; r = 0;\n",
        "    #10 s=1; r=1;\n",
        "    #10 s=1; r=0;\n",
        "    #10 s=1; r=1;\n",
        "    #1 $finish;\n",
        "  $dumpoff;\n",
        "    end\n",
        "\n",
        "endmodule ////\n",
        "\n",
        "module nand_rs(q,qb,s,r); //\n",
        "  output q,qb;\n",
        "  input s,r;\n",
        "\n",
        "  nand #1 g1 (q,s,qb);\n",
        "  nand #1 g2 (qb,q,r);\n",
        "\n",
        "endmodule ////"
      ],
      "metadata": {
        "colab": {
          "base_uri": "https://localhost:8080/"
        },
        "id": "kNXOdumAXtWR",
        "outputId": "4390915e-9381-49c7-f321-472eeca6f908"
      },
      "execution_count": null,
      "outputs": [
        {
          "output_type": "stream",
          "name": "stdout",
          "text": [
            "VCD info: dumpfile nand_rs_tb.vcd opened for output.\n",
            "\n"
          ]
        }
      ]
    },
    {
      "cell_type": "code",
      "source": [
        "%%waveform nand_rs_tb.vcd\n",
        "sign_list = ['nand_rs_tb.q','nand_rs_tb.qb','nand_rs_tb.s','nand_rs_tb.r']\n",
        "time_begin = 0\n",
        "time_end = 31\n",
        "base = 'bin' # bin, dec, dec2, hex, octal"
      ],
      "metadata": {
        "colab": {
          "base_uri": "https://localhost:8080/",
          "height": 207
        },
        "id": "M56dKXLZX6rp",
        "outputId": "88b692ab-9b98-4259-b47b-8407dd84b4fd"
      },
      "execution_count": null,
      "outputs": [
        {
          "output_type": "display_data",
          "data": {
            "text/plain": [
              "<Figure size 3200x500 with 1 Axes>"
            ],
            "image/png": "[encoded data removed]"
          },
          "metadata": {}
        }
      ]
    },
    {
      "cell_type": "markdown",
      "source": [
        "## Other Verilog Syntex"
      ],
      "metadata": {
        "id": "pbznXGjnhwMk"
      }
    },
    {
      "cell_type": "markdown",
      "source": [
        "![](https://github.com/pe8sutd/DSL2025/blob/main/VerilogColab1/Slide57.PNG?raw=1)"
      ],
      "metadata": {
        "id": "CnK0MaQQs89e"
      }
    },
    {
      "cell_type": "markdown",
      "source": [
        "![](https://github.com/pe8sutd/DSL2025/blob/main/VerilogColab1/Slide58.PNG?raw=1)"
      ],
      "metadata": {
        "id": "kCFs73Q0s_SG"
      }
    },
    {
      "cell_type": "markdown",
      "source": [
        "![](https://github.com/pe8sutd/DSL2025/blob/main/VerilogColab1/Slide59.PNG?raw=1)"
      ],
      "metadata": {
        "id": "-A4dFQagtB_m"
      }
    },
    {
      "cell_type": "markdown",
      "source": [
        "![](https://github.com/pe8sutd/DSL2025/blob/main/VerilogColab1/Slide60.PNG?raw=1)"
      ],
      "metadata": {
        "id": "dR4ZXJCMtEG2"
      }
    },
    {
      "cell_type": "markdown",
      "source": [
        "![](https://github.com/pe8sutd/DSL2025/blob/main/VerilogColab1/Slide61.PNG?raw=1)"
      ],
      "metadata": {
        "id": "-8kUIgi3tHEe"
      }
    },
    {
      "cell_type": "markdown",
      "source": [
        "![](https://github.com/pe8sutd/DSL2025/blob/main/VerilogColab1/Slide62.PNG?raw=1)"
      ],
      "metadata": {
        "id": "xf3zi0YXtQEe"
      }
    },
    {
      "cell_type": "markdown",
      "source": [
        "![](https://github.com/pe8sutd/DSL2025/blob/main/VerilogColab1/Slide63.PNG?raw=1)"
      ],
      "metadata": {
        "id": "VBFDy-yStSPe"
      }
    },
    {
      "cell_type": "markdown",
      "source": [
        "![](https://github.com/pe8sutd/DSL2025/blob/main/VerilogColab1/Slide64.PNG?raw=1)"
      ],
      "metadata": {
        "id": "fb1o-vFqtVNG"
      }
    },
    {
      "cell_type": "markdown",
      "source": [
        "![](https://github.com/pe8sutd/DSL2025/blob/main/VerilogColab1/Slide65.PNG?raw=1)"
      ],
      "metadata": {
        "id": "88-WjaigtXk2"
      }
    },
    {
      "cell_type": "markdown",
      "source": [
        "## $monitor"
      ],
      "metadata": {
        "id": "_a2mLbqThpMt"
      }
    },
    {
      "cell_type": "markdown",
      "source": [
        "![](https://github.com/pe8sutd/DSL2025/blob/main/VerilogColab1/Slide66.PNG?raw=1)"
      ],
      "metadata": {
        "id": "suQTxWLatZ1m"
      }
    },
    {
      "cell_type": "markdown",
      "source": [
        "![](https://github.com/pe8sutd/DSL2025/blob/main/VerilogColab1/Slide67.PNG?raw=1)"
      ],
      "metadata": {
        "id": "2xFXwBeFtcEG"
      }
    },
    {
      "cell_type": "code",
      "source": [
        "%%verilog\n",
        "\n",
        "module nand_rs_tb; //\n",
        "  wire q,qb; reg s,r;\n",
        "\n",
        "  nand_rs i1(q,qb,s,r);\n",
        "\n",
        "  initial begin\n",
        "  $dumpfile(\"tb.vcd\");\n",
        "  $dumpvars;\n",
        "    s = 0; r = 1;\n",
        "    #10 s=1; r=1;\n",
        "    #10 s=1; r=0;\n",
        "    #10 s=1; r=1;\n",
        "    #1 $finish;\n",
        "  $dumpoff;\n",
        "    end\n",
        "\n",
        "  initial begin\n",
        "    $monitor(\"%d q=%b qb=%b s=%b r=%b\",$time,q,qb,s,r);\n",
        "  end\n",
        "\n",
        "endmodule ////\n",
        "\n",
        "module nand_rs(q,qb,s,r); //\n",
        "  output q,qb;\n",
        "  input s,r;\n",
        "\n",
        "  nand #1 g1 (q,s,qb);\n",
        "  nand #1 g2 (qb,q,r);\n",
        "\n",
        "endmodule ////"
      ],
      "metadata": {
        "colab": {
          "base_uri": "https://localhost:8080/"
        },
        "id": "cZQBRX51Y_Uq",
        "outputId": "cfc42388-e037-4650-bc29-80e3754a6f79"
      },
      "execution_count": null,
      "outputs": [
        {
          "output_type": "stream",
          "name": "stdout",
          "text": [
            "VCD info: dumpfile tb.vcd opened for output.\n",
            "                   0 q=x qb=x s=0 r=1\n",
            "                   1 q=1 qb=x s=0 r=1\n",
            "                   2 q=1 qb=0 s=0 r=1\n",
            "                  10 q=1 qb=0 s=1 r=1\n",
            "                  20 q=1 qb=0 s=1 r=0\n",
            "                  21 q=1 qb=1 s=1 r=0\n",
            "                  22 q=0 qb=1 s=1 r=0\n",
            "                  30 q=0 qb=1 s=1 r=1\n",
            "\n"
          ]
        }
      ]
    },
    {
      "cell_type": "code",
      "source": [
        "%%waveform tb.vcd\n",
        "sign_list = ['nand_rs_tb.q','nand_rs_tb.qb','nand_rs_tb.s','nand_rs_tb.r']\n",
        "time_begin = 0\n",
        "time_end = 31\n",
        "base = 'bin' # bin, dec, dec2, hex, octal"
      ],
      "metadata": {
        "colab": {
          "base_uri": "https://localhost:8080/",
          "height": 465
        },
        "id": "aN5NgqKXgGWi",
        "outputId": "a43af1d3-71a1-4db9-b141-e91d57444b11"
      },
      "execution_count": null,
      "outputs": [
        {
          "output_type": "display_data",
          "data": {
            "text/plain": [
              "<Figure size 3200x500 with 1 Axes>"
            ],
            "image/png": "[encoded data removed]"
          },
          "metadata": {}
        }
      ]
    },
    {
      "cell_type": "markdown",
      "source": [
        "![](https://github.com/pe8sutd/DSL2025/blob/main/VerilogColab1/Slide68.PNG?raw=1)"
      ],
      "metadata": {
        "id": "cM5LVvbNteWv"
      }
    },
    {
      "cell_type": "markdown",
      "source": [
        "![](https://github.com/pe8sutd/DSL2025/blob/main/VerilogColab1/Slide69.PNG?raw=1)"
      ],
      "metadata": {
        "id": "prKce6D6tgid"
      }
    },
    {
      "cell_type": "markdown",
      "source": [
        "## Handson Verilog - NOR Latch"
      ],
      "metadata": {
        "id": "QHFPhL1qhKt0"
      }
    },
    {
      "cell_type": "markdown",
      "source": [
        "![](https://github.com/pe8sutd/DSL2025/blob/main/VerilogColab1/Slide70.PNG?raw=1)"
      ],
      "metadata": {
        "id": "O7cwzBNBtio2"
      }
    },
    {
      "cell_type": "markdown",
      "source": [
        "![](https://github.com/pe8sutd/DSL2025/blob/main/VerilogColab1/Slide71.PNG?raw=1)"
      ],
      "metadata": {
        "id": "GTlCA3u6tm2-"
      }
    },
    {
      "cell_type": "markdown",
      "source": [
        "![](https://github.com/pe8sutd/DSL2025/blob/main/VerilogColab1/Slide72.PNG?raw=1)"
      ],
      "metadata": {
        "id": "n_7MQPxetrvG"
      }
    },
    {
      "cell_type": "markdown",
      "source": [
        "![](https://github.com/pe8sutd/DSL2025/blob/main/VerilogColab1/Slide73.PNG?raw=1)"
      ],
      "metadata": {
        "id": "5dkdHrvktviO"
      }
    },
    {
      "cell_type": "markdown",
      "source": [
        "![](https://github.com/pe8sutd/DSL2025/blob/main/VerilogColab1/Slide74.PNG?raw=1)"
      ],
      "metadata": {
        "id": "PaPUEzj-tyDu"
      }
    },
    {
      "cell_type": "markdown",
      "source": [
        "![](https://github.com/pe8sutd/DSL2025/blob/main/VerilogColab1/Slide75.PNG?raw=1)"
      ],
      "metadata": {
        "id": "iCRo0G5Bt05G"
      }
    },
    {
      "cell_type": "code",
      "source": [
        "%%verilog\n",
        "\n",
        "//\n",
        "module nor_rs_tb;\n",
        "  wire q,qb;\n",
        "  reg r,s;\n",
        "\n",
        "  nor_rs i1(q,qb,r,s);\n",
        "\n",
        "initial begin\n",
        "  $dumpfile(\"tb.vcd\");\n",
        "  $dumpvars();\n",
        "\n",
        "  r=1; s=0;\n",
        "  #10 r=0; s=0;\n",
        "  #10 r=0; s=1;\n",
        "  #10 r=0; s=0;\n",
        "  #1 $finish;\n",
        "  $dumpoff;\n",
        "end\n",
        "\n",
        "initial begin\n",
        "  $monitor(\"%d q=%b qb=%b r=%b s=%b\",$time,q,qb,r,s);\n",
        "end\n",
        "\n",
        "endmodule\n",
        "////\n",
        "\n",
        "//\n",
        "module nor_rs (q,qb,r,s);\n",
        "  output q,qb;\n",
        "  input r,s;\n",
        "\n",
        "  nor #1 g1 (q,r,qb);\n",
        "  nor #2 g2 (qb,q,s);\n",
        "\n",
        "endmodule\n",
        "////\n"
      ],
      "metadata": {
        "colab": {
          "base_uri": "https://localhost:8080/"
        },
        "id": "XDCYj-EldS1a",
        "outputId": "46fd1619-f25d-4772-a340-465a8afe4b41"
      },
      "execution_count": null,
      "outputs": [
        {
          "output_type": "stream",
          "name": "stderr",
          "text": [
            "UsageError: Cell magic `%%verilog` not found.\n"
          ]
        }
      ]
    },
    {
      "cell_type": "code",
      "source": [
        "%%waveform tb.vcd\n",
        "sign_list = ['nor_rs_tb.q','nor_rs_tb.qb','nor_rs_tb.s','nor_rs_tb.r']\n",
        "time_begin = 0\n",
        "time_end = 31\n",
        "base = 'bin' # bin, dec, dec2, hex, octal"
      ],
      "metadata": {
        "colab": {
          "base_uri": "https://localhost:8080/"
        },
        "id": "k7KY6ifkf_Cr",
        "outputId": "0f881ab0-71a3-42ef-e8f9-f7dfc259611d"
      },
      "execution_count": null,
      "outputs": [
        {
          "output_type": "stream",
          "name": "stderr",
          "text": [
            "UsageError: Cell magic `%%waveform` not found.\n"
          ]
        }
      ]
    },
    {
      "cell_type": "markdown",
      "source": [
        "![](https://github.com/pe8sutd/DSL2025/blob/main/VerilogColab1/Slide76.PNG?raw=1)"
      ],
      "metadata": {
        "id": "W0_26JpBt3NO"
      }
    },
    {
      "cell_type": "markdown",
      "source": [
        "## D-latch from SR-latch"
      ],
      "metadata": {
        "id": "KuYBLvJTPciJ"
      }
    },
    {
      "cell_type": "markdown",
      "source": [
        "Additional Exercise: Design a D-latch based on the NAND SR latch. You can refer to the slide above for D-latch. The task is to write a Verilog module and also the testbench. The testbench needs to have Clock signal beside data, D, and output Q, Qb."
      ],
      "metadata": {
        "id": "VttaCUDNU7zx"
      }
    },
    {
      "cell_type": "markdown",
      "source": [
        "![](https://github.com/pe8sutd/DSL2025/blob/main/VerilogColab3/Slide76-1.PNG?raw=1)"
      ],
      "metadata": {
        "id": "BawKwHUJRdqT"
      }
    },
    {
      "cell_type": "code",
      "source": [
        "%%print_verilog\n",
        "\n",
        "module dlatch(D, Clock, Q, Qb);\n",
        "output Q, Qb;\n",
        "input D, Clock;\n",
        "wire S, R, Y;\n",
        "\n",
        "not i1(Y, D);\n",
        "nand n1(Q, S, Qb);\n",
        "nand n2(Qb, Q, R);\n",
        "nand n3(S, D, Clock);\n",
        "nand n4(R, Clock, Y);\n",
        "\n",
        "endmodule\n"
      ],
      "metadata": {
        "id": "lmg0xlJauK-b",
        "outputId": "44c1877b-9f54-470f-a4a8-7d4eb7f6bde9",
        "colab": {
          "base_uri": "https://localhost:8080/",
          "height": 231
        }
      },
      "execution_count": null,
      "outputs": [
        {
          "output_type": "display_data",
          "data": {
            "text/plain": [
              "<IPython.core.display.SVG object>"
            ],
            "image/svg+xml": "<svg xmlns=\"http://www.w3.org/2000/svg\" xmlns:xlink=\"http://www.w3.org/1999/xlink\" xmlns:s=\"https://github.com/nturley/netlistsvg\" width=\"512\" height=\"210\"><style>svg {\n  stroke:#000;\n  fill:none;\n}\ntext {\n  fill:#000;\n  stroke:none;\n  font-size:10px;\n  font-weight: bold;\n  font-family: &quot;Courier New&quot;, monospace;\n}\nline {\n    stroke-linecap: round;\n}\n.nodelabel {\n  text-anchor: middle;\n}\n.inputPortLabel {\n  text-anchor: end;\n}\n.splitjoinBody {\n  fill:#000;\n}</style><g s:type=\"and\" transform=\"translate(77,154.5)\" s:width=\"30\" s:height=\"25\" id=\"cell_$and$/content/code.v:10$6\"><s:alias val=\"$and\"/><s:alias val=\"$logic_and\"/><s:alias val=\"$_AND_\"/><s:alias val=\"$reduce_and\"/><path d=\"M0,0 L0,25 L15,25 A15 12.5 0 0 0 15,0 Z\" class=\"cell_$and$/content/code.v:10$6\"/><g s:x=\"0\" s:y=\"5\" s:pid=\"A\"/><g s:x=\"0\" s:y=\"20\" s:pid=\"B\"/><g s:x=\"30\" s:y=\"12.5\" s:pid=\"Y\"/></g><g s:type=\"and\" transform=\"translate(208,92)\" s:width=\"30\" s:height=\"25\" id=\"cell_$and$/content/code.v:11$8\"><s:alias val=\"$and\"/><s:alias val=\"$logic_and\"/><s:alias val=\"$_AND_\"/><s:alias val=\"$reduce_and\"/><path d=\"M0,0 L0,25 L15,25 A15 12.5 0 0 0 15,0 Z\" class=\"cell_$and$/content/code.v:11$8\"/><g s:x=\"0\" s:y=\"5\" s:pid=\"A\"/><g s:x=\"0\" s:y=\"20\" s:pid=\"B\"/><g s:x=\"30\" s:y=\"12.5\" s:pid=\"Y\"/></g><g s:type=\"and\" transform=\"translate(208,162)\" s:width=\"30\" s:height=\"25\" id=\"cell_$and$/content/code.v:8$2\"><s:alias val=\"$and\"/><s:alias val=\"$logic_and\"/><s:alias val=\"$_AND_\"/><s:alias val=\"$reduce_and\"/><path d=\"M0,0 L0,25 L15,25 A15 12.5 0 0 0 15,0 Z\" class=\"cell_$and$/content/code.v:8$2\"/><g s:x=\"0\" s:y=\"5\" s:pid=\"A\"/><g s:x=\"0\" s:y=\"20\" s:pid=\"B\"/><g s:x=\"30\" s:y=\"12.5\" s:pid=\"Y\"/></g><g s:type=\"and\" transform=\"translate(339,84.5)\" s:width=\"30\" s:height=\"25\" id=\"cell_$and$/content/code.v:9$4\"><s:alias val=\"$and\"/><s:alias val=\"$logic_and\"/><s:alias val=\"$_AND_\"/><s:alias val=\"$reduce_and\"/><path d=\"M0,0 L0,25 L15,25 A15 12.5 0 0 0 15,0 Z\" class=\"cell_$and$/content/code.v:9$4\"/><g s:x=\"0\" s:y=\"5\" s:pid=\"A\"/><g s:x=\"0\" s:y=\"20\" s:pid=\"B\"/><g s:x=\"30\" s:y=\"12.5\" s:pid=\"Y\"/></g><g s:type=\"not\" transform=\"translate(143,157)\" s:width=\"30\" s:height=\"20\" id=\"cell_$not$/content/code.v:10$7\"><s:alias val=\"$_NOT_\"/><s:alias val=\"$not\"/><s:alias val=\"$logic_not\"/><path d=\"M0,0 L0,20 L20,10 Z\" class=\"cell_$not$/content/code.v:10$7\"/><circle cx=\"24\" cy=\"10\" r=\"3\" class=\"cell_$not$/content/code.v:10$7\"/><g s:x=\"-1\" s:y=\"10\" s:pid=\"A\"/><g s:x=\"27\" s:y=\"10\" s:pid=\"Y\"/></g><g s:type=\"not\" transform=\"translate(274,94.5)\" s:width=\"30\" s:height=\"20\" id=\"cell_$not$/content/code.v:11$9\"><s:alias val=\"$_NOT_\"/><s:alias val=\"$not\"/><s:alias val=\"$logic_not\"/><path d=\"M0,0 L0,20 L20,10 Z\" class=\"cell_$not$/content/code.v:11$9\"/><circle cx=\"24\" cy=\"10\" r=\"3\" class=\"cell_$not$/content/code.v:11$9\"/><g s:x=\"-1\" s:y=\"10\" s:pid=\"A\"/><g s:x=\"27\" s:y=\"10\" s:pid=\"Y\"/></g><g s:type=\"not\" transform=\"translate(143,102)\" s:width=\"30\" s:height=\"20\" id=\"cell_$not$/content/code.v:7$1\"><s:alias val=\"$_NOT_\"/><s:alias val=\"$not\"/><s:alias val=\"$logic_not\"/><path d=\"M0,0 L0,20 L20,10 Z\" class=\"cell_$not$/content/code.v:7$1\"/><circle cx=\"24\" cy=\"10\" r=\"3\" class=\"cell_$not$/content/code.v:7$1\"/><g s:x=\"-1\" s:y=\"10\" s:pid=\"A\"/><g s:x=\"27\" s:y=\"10\" s:pid=\"Y\"/></g><g s:type=\"not\" transform=\"translate(274,22)\" s:width=\"30\" s:height=\"20\" id=\"cell_$not$/content/code.v:8$3\"><s:alias val=\"$_NOT_\"/><s:alias val=\"$not\"/><s:alias val=\"$logic_not\"/><path d=\"M0,0 L0,20 L20,10 Z\" class=\"cell_$not$/content/code.v:8$3\"/><circle cx=\"24\" cy=\"10\" r=\"3\" class=\"cell_$not$/content/code.v:8$3\"/><g s:x=\"-1\" s:y=\"10\" s:pid=\"A\"/><g s:x=\"27\" s:y=\"10\" s:pid=\"Y\"/></g><g s:type=\"not\" transform=\"translate(405,87)\" s:width=\"30\" s:height=\"20\" id=\"cell_$not$/content/code.v:9$5\"><s:alias val=\"$_NOT_\"/><s:alias val=\"$not\"/><s:alias val=\"$logic_not\"/><path d=\"M0,0 L0,20 L20,10 Z\" class=\"cell_$not$/content/code.v:9$5\"/><circle cx=\"24\" cy=\"10\" r=\"3\" class=\"cell_$not$/content/code.v:9$5\"/><g s:x=\"-1\" s:y=\"10\" s:pid=\"A\"/><g s:x=\"27\" s:y=\"10\" s:pid=\"Y\"/></g><g s:type=\"inputExt\" transform=\"translate(12,149.5)\" s:width=\"30\" s:height=\"20\" id=\"cell_D\"><text x=\"15\" y=\"-4\" class=\"nodelabel cell_D\" s:attribute=\"ref\">D</text><s:alias val=\"$_inputExt_\"/><path d=\"M0,0 L0,20 L15,20 L30,10 L15,0 Z\" class=\"cell_D\"/><g s:x=\"30\" s:y=\"10\" s:pid=\"Y\"/></g><g s:type=\"inputExt\" transform=\"translate(12,81)\" s:width=\"30\" s:height=\"20\" id=\"cell_Clock\"><text x=\"15\" y=\"-4\" class=\"nodelabel cell_Clock\" s:attribute=\"ref\">Clock</text><s:alias val=\"$_inputExt_\"/><path d=\"M0,0 L0,20 L15,20 L30,10 L15,0 Z\" class=\"cell_Clock\"/><g s:x=\"30\" s:y=\"10\" s:pid=\"Y\"/></g><g s:type=\"outputExt\" transform=\"translate(470,22)\" s:width=\"30\" s:height=\"20\" id=\"cell_Q\"><text x=\"15\" y=\"-4\" class=\"nodelabel cell_Q\" s:attribute=\"ref\">Q</text><s:alias val=\"$_outputExt_\"/><path d=\"M30,0 L30,20 L15,20 L0,10 L15,0 Z\" class=\"cell_Q\"/><g s:x=\"0\" s:y=\"10\" s:pid=\"A\"/></g><g s:type=\"outputExt\" transform=\"translate(470,87)\" s:width=\"30\" s:height=\"20\" id=\"cell_Qb\"><text x=\"15\" y=\"-4\" class=\"nodelabel cell_Qb\" s:attribute=\"ref\">Qb</text><s:alias val=\"$_outputExt_\"/><path d=\"M30,0 L30,20 L15,20 L0,10 L15,0 Z\" class=\"cell_Qb\"/><g s:x=\"0\" s:y=\"10\" s:pid=\"A\"/></g><line x1=\"42\" x2=\"77\" y1=\"159.5\" y2=\"159.5\" class=\"net_2 width_1\" style=\"stroke-width: 1\"/><line x1=\"42\" x2=\"62\" y1=\"159.5\" y2=\"159.5\" class=\"net_2 width_1\" style=\"stroke-width: 1\"/><line x1=\"62\" x2=\"62\" y1=\"159.5\" y2=\"112\" class=\"net_2 width_1\" style=\"stroke-width: 1\"/><circle cx=\"62\" cy=\"159.5\" r=\"2\" style=\"fill:#000\" class=\"net_2 width_1\"/><line x1=\"62\" x2=\"142\" y1=\"112\" y2=\"112\" class=\"net_2 width_1\" style=\"stroke-width: 1\"/><line x1=\"42\" x2=\"52\" y1=\"91\" y2=\"91\" class=\"net_3 width_1\" style=\"stroke-width: 1\"/><line x1=\"52\" x2=\"52\" y1=\"91\" y2=\"174.5\" class=\"net_3 width_1\" style=\"stroke-width: 1\"/><circle cx=\"52\" cy=\"91\" r=\"2\" style=\"fill:#000\" class=\"net_3 width_1\"/><line x1=\"52\" x2=\"77\" y1=\"174.5\" y2=\"174.5\" class=\"net_3 width_1\" style=\"stroke-width: 1\"/><line x1=\"42\" x2=\"183\" y1=\"91\" y2=\"91\" class=\"net_3 width_1\" style=\"stroke-width: 1\"/><line x1=\"183\" x2=\"183\" y1=\"91\" y2=\"97\" class=\"net_3 width_1\" style=\"stroke-width: 1\"/><line x1=\"183\" x2=\"208\" y1=\"97\" y2=\"97\" class=\"net_3 width_1\" style=\"stroke-width: 1\"/><line x1=\"170\" x2=\"208\" y1=\"112\" y2=\"112\" class=\"net_7 width_1\" style=\"stroke-width: 1\"/><line x1=\"170\" x2=\"208\" y1=\"167\" y2=\"167\" class=\"net_9 width_1\" style=\"stroke-width: 1\"/><line x1=\"432\" x2=\"445\" y1=\"97\" y2=\"97\" class=\"net_5 width_1\" style=\"stroke-width: 1\"/><line x1=\"445\" x2=\"445\" y1=\"97\" y2=\"197\" class=\"net_5 width_1\" style=\"stroke-width: 1\"/><line x1=\"445\" x2=\"183\" y1=\"197\" y2=\"197\" class=\"net_5 width_1\" style=\"stroke-width: 1\"/><line x1=\"183\" x2=\"183\" y1=\"197\" y2=\"182\" class=\"net_5 width_1\" style=\"stroke-width: 1\"/><circle cx=\"445\" cy=\"97\" r=\"2\" style=\"fill:#000\" class=\"net_5 width_1\"/><line x1=\"183\" x2=\"208\" y1=\"182\" y2=\"182\" class=\"net_5 width_1\" style=\"stroke-width: 1\"/><line x1=\"432\" x2=\"470\" y1=\"97\" y2=\"97\" class=\"net_5 width_1\" style=\"stroke-width: 1\"/><line x1=\"301\" x2=\"314\" y1=\"32\" y2=\"32\" class=\"net_4 width_1\" style=\"stroke-width: 1\"/><line x1=\"314\" x2=\"314\" y1=\"32\" y2=\"89.5\" class=\"net_4 width_1\" style=\"stroke-width: 1\"/><circle cx=\"314\" cy=\"32\" r=\"2\" style=\"fill:#000\" class=\"net_4 width_1\"/><line x1=\"314\" x2=\"339\" y1=\"89.5\" y2=\"89.5\" class=\"net_4 width_1\" style=\"stroke-width: 1\"/><line x1=\"301\" x2=\"470\" y1=\"32\" y2=\"32\" class=\"net_4 width_1\" style=\"stroke-width: 1\"/><line x1=\"301\" x2=\"339\" y1=\"104.5\" y2=\"104.5\" class=\"net_11 width_1\" style=\"stroke-width: 1\"/><line x1=\"107\" x2=\"142\" y1=\"167\" y2=\"167\" class=\"net_6 width_1\" style=\"stroke-width: 1\"/><line x1=\"238\" x2=\"273\" y1=\"104.5\" y2=\"104.5\" class=\"net_8 width_1\" style=\"stroke-width: 1\"/><line x1=\"238\" x2=\"248\" y1=\"174.5\" y2=\"174.5\" class=\"net_10 width_1\" style=\"stroke-width: 1\"/><line x1=\"248\" x2=\"248\" y1=\"174.5\" y2=\"32\" class=\"net_10 width_1\" style=\"stroke-width: 1\"/><line x1=\"248\" x2=\"273\" y1=\"32\" y2=\"32\" class=\"net_10 width_1\" style=\"stroke-width: 1\"/><line x1=\"369\" x2=\"404\" y1=\"97\" y2=\"97\" class=\"net_12 width_1\" style=\"stroke-width: 1\"/></svg>"
          },
          "metadata": {}
        }
      ]
    },
    {
      "cell_type": "code",
      "source": [
        "%%print_verilog\n",
        "\n",
        "module dlatch(Q,Qb,D,Clock);\n",
        "  output Q,Qb;\n",
        "  input D,Clock;\n",
        "  wire Y,R,S;\n",
        "\n",
        "  not i1(Y,D);\n",
        "  nand n3(S,D,Clock);\n",
        "  nand n4(R,Clock,Y);\n",
        "  nand n1(Q,S,Qb);\n",
        "  nand n2(Qb,Q,R);\n",
        "\n",
        "endmodule"
      ],
      "metadata": {
        "id": "JwLF2rlJRc8I",
        "collapsed": true,
        "colab": {
          "base_uri": "https://localhost:8080/",
          "height": 225
        },
        "outputId": "908da95b-5d23-44b8-f9de-0b119445cd52"
      },
      "execution_count": null,
      "outputs": [
        {
          "output_type": "display_data",
          "data": {
            "text/plain": [
              "<IPython.core.display.SVG object>"
            ],
            "image/svg+xml": "<svg xmlns=\"http://www.w3.org/2000/svg\" xmlns:xlink=\"http://www.w3.org/1999/xlink\" xmlns:s=\"https://github.com/nturley/netlistsvg\" width=\"457\" height=\"204\"><style>svg {\n  stroke:#000;\n  fill:none;\n}\ntext {\n  fill:#000;\n  stroke:none;\n  font-size:10px;\n  font-weight: bold;\n  font-family: &quot;Courier New&quot;, monospace;\n}\nline {\n    stroke-linecap: round;\n}\n.nodelabel {\n  text-anchor: middle;\n}\n.inputPortLabel {\n  text-anchor: end;\n}\n.splitjoinBody {\n  fill:#000;\n}</style><g s:type=\"and\" transform=\"translate(405,87)\" s:width=\"30\" s:height=\"25\" id=\"cell_$and$/content/code.v:10$6\"><s:alias val=\"$and\"/><s:alias val=\"$logic_and\"/><s:alias val=\"$_AND_\"/><s:alias val=\"$reduce_and\"/><path d=\"M0,0 L0,25 L15,25 A15 12.5 0 0 0 15,0 Z\" class=\"cell_$and$/content/code.v:10$6\"/><g s:x=\"0\" s:y=\"5\" s:pid=\"A\"/><g s:x=\"0\" s:y=\"20\" s:pid=\"B\"/><g s:x=\"30\" s:y=\"12.5\" s:pid=\"Y\"/></g><g s:type=\"and\" transform=\"translate(274,154.5)\" s:width=\"30\" s:height=\"25\" id=\"cell_$and$/content/code.v:11$8\"><s:alias val=\"$and\"/><s:alias val=\"$logic_and\"/><s:alias val=\"$_AND_\"/><s:alias val=\"$reduce_and\"/><path d=\"M0,0 L0,25 L15,25 A15 12.5 0 0 0 15,0 Z\" class=\"cell_$and$/content/code.v:11$8\"/><g s:x=\"0\" s:y=\"5\" s:pid=\"A\"/><g s:x=\"0\" s:y=\"20\" s:pid=\"B\"/><g s:x=\"30\" s:y=\"12.5\" s:pid=\"Y\"/></g><g s:type=\"and\" transform=\"translate(274,79.5)\" s:width=\"30\" s:height=\"25\" id=\"cell_$and$/content/code.v:8$2\"><s:alias val=\"$and\"/><s:alias val=\"$logic_and\"/><s:alias val=\"$_AND_\"/><s:alias val=\"$reduce_and\"/><path d=\"M0,0 L0,25 L15,25 A15 12.5 0 0 0 15,0 Z\" class=\"cell_$and$/content/code.v:8$2\"/><g s:x=\"0\" s:y=\"5\" s:pid=\"A\"/><g s:x=\"0\" s:y=\"20\" s:pid=\"B\"/><g s:x=\"30\" s:y=\"12.5\" s:pid=\"Y\"/></g><g s:type=\"and\" transform=\"translate(143,162)\" s:width=\"30\" s:height=\"25\" id=\"cell_$and$/content/code.v:9$4\"><s:alias val=\"$and\"/><s:alias val=\"$logic_and\"/><s:alias val=\"$_AND_\"/><s:alias val=\"$reduce_and\"/><path d=\"M0,0 L0,25 L15,25 A15 12.5 0 0 0 15,0 Z\" class=\"cell_$and$/content/code.v:9$4\"/><g s:x=\"0\" s:y=\"5\" s:pid=\"A\"/><g s:x=\"0\" s:y=\"20\" s:pid=\"B\"/><g s:x=\"30\" s:y=\"12.5\" s:pid=\"Y\"/></g><g s:type=\"not\" transform=\"translate(209,32)\" s:width=\"30\" s:height=\"20\" id=\"cell_$not$/content/code.v:10$7\"><s:alias val=\"$_NOT_\"/><s:alias val=\"$not\"/><s:alias val=\"$logic_not\"/><path d=\"M0,0 L0,20 L20,10 Z\" class=\"cell_$not$/content/code.v:10$7\"/><circle cx=\"24\" cy=\"10\" r=\"3\" class=\"cell_$not$/content/code.v:10$7\"/><g s:x=\"-1\" s:y=\"10\" s:pid=\"A\"/><g s:x=\"27\" s:y=\"10\" s:pid=\"Y\"/></g><g s:type=\"not\" transform=\"translate(340,157)\" s:width=\"30\" s:height=\"20\" id=\"cell_$not$/content/code.v:11$9\"><s:alias val=\"$_NOT_\"/><s:alias val=\"$not\"/><s:alias val=\"$logic_not\"/><path d=\"M0,0 L0,20 L20,10 Z\" class=\"cell_$not$/content/code.v:11$9\"/><circle cx=\"24\" cy=\"10\" r=\"3\" class=\"cell_$not$/content/code.v:11$9\"/><g s:x=\"-1\" s:y=\"10\" s:pid=\"A\"/><g s:x=\"27\" s:y=\"10\" s:pid=\"Y\"/></g><g s:type=\"not\" transform=\"translate(78,172)\" s:width=\"30\" s:height=\"20\" id=\"cell_$not$/content/code.v:7$1\"><s:alias val=\"$_NOT_\"/><s:alias val=\"$not\"/><s:alias val=\"$logic_not\"/><path d=\"M0,0 L0,20 L20,10 Z\" class=\"cell_$not$/content/code.v:7$1\"/><circle cx=\"24\" cy=\"10\" r=\"3\" class=\"cell_$not$/content/code.v:7$1\"/><g s:x=\"-1\" s:y=\"10\" s:pid=\"A\"/><g s:x=\"27\" s:y=\"10\" s:pid=\"Y\"/></g><g s:type=\"not\" transform=\"translate(340,82)\" s:width=\"30\" s:height=\"20\" id=\"cell_$not$/content/code.v:8$3\"><s:alias val=\"$_NOT_\"/><s:alias val=\"$not\"/><s:alias val=\"$logic_not\"/><path d=\"M0,0 L0,20 L20,10 Z\" class=\"cell_$not$/content/code.v:8$3\"/><circle cx=\"24\" cy=\"10\" r=\"3\" class=\"cell_$not$/content/code.v:8$3\"/><g s:x=\"-1\" s:y=\"10\" s:pid=\"A\"/><g s:x=\"27\" s:y=\"10\" s:pid=\"Y\"/></g><g s:type=\"not\" transform=\"translate(209,164.5)\" s:width=\"30\" s:height=\"20\" id=\"cell_$not$/content/code.v:9$5\"><s:alias val=\"$_NOT_\"/><s:alias val=\"$not\"/><s:alias val=\"$logic_not\"/><path d=\"M0,0 L0,20 L20,10 Z\" class=\"cell_$not$/content/code.v:9$5\"/><circle cx=\"24\" cy=\"10\" r=\"3\" class=\"cell_$not$/content/code.v:9$5\"/><g s:x=\"-1\" s:y=\"10\" s:pid=\"A\"/><g s:x=\"27\" s:y=\"10\" s:pid=\"Y\"/></g><g s:type=\"outputExt\" transform=\"translate(405,32)\" s:width=\"30\" s:height=\"20\" id=\"cell_Q\"><text x=\"15\" y=\"-4\" class=\"nodelabel cell_Q\" s:attribute=\"ref\">Q</text><s:alias val=\"$_outputExt_\"/><path d=\"M30,0 L30,20 L15,20 L0,10 L15,0 Z\" class=\"cell_Q\"/><g s:x=\"0\" s:y=\"10\" s:pid=\"A\"/></g><g s:type=\"outputExt\" transform=\"translate(405,157)\" s:width=\"30\" s:height=\"20\" id=\"cell_Qb\"><text x=\"15\" y=\"-4\" class=\"nodelabel cell_Qb\" s:attribute=\"ref\">Qb</text><s:alias val=\"$_outputExt_\"/><path d=\"M30,0 L30,20 L15,20 L0,10 L15,0 Z\" class=\"cell_Qb\"/><g s:x=\"0\" s:y=\"10\" s:pid=\"A\"/></g><g s:type=\"inputExt\" transform=\"translate(12,74.5)\" s:width=\"30\" s:height=\"20\" id=\"cell_D\"><text x=\"15\" y=\"-4\" class=\"nodelabel cell_D\" s:attribute=\"ref\">D</text><s:alias val=\"$_inputExt_\"/><path d=\"M0,0 L0,20 L15,20 L30,10 L15,0 Z\" class=\"cell_D\"/><g s:x=\"30\" s:y=\"10\" s:pid=\"Y\"/></g><g s:type=\"inputExt\" transform=\"translate(78,105.5)\" s:width=\"30\" s:height=\"20\" id=\"cell_Clock\"><text x=\"15\" y=\"-4\" class=\"nodelabel cell_Clock\" s:attribute=\"ref\">Clock</text><s:alias val=\"$_inputExt_\"/><path d=\"M0,0 L0,20 L15,20 L30,10 L15,0 Z\" class=\"cell_Clock\"/><g s:x=\"30\" s:y=\"10\" s:pid=\"Y\"/></g><line x1=\"367\" x2=\"405\" y1=\"92\" y2=\"92\" class=\"net_6 width_1\" style=\"stroke-width: 1\"/><line x1=\"367\" x2=\"380\" y1=\"167\" y2=\"167\" class=\"net_3 width_1\" style=\"stroke-width: 1\"/><line x1=\"380\" x2=\"380\" y1=\"167\" y2=\"107\" class=\"net_3 width_1\" style=\"stroke-width: 1\"/><circle cx=\"380\" cy=\"167\" r=\"2\" style=\"fill:#000\" class=\"net_3 width_1\"/><line x1=\"380\" x2=\"405\" y1=\"107\" y2=\"107\" class=\"net_3 width_1\" style=\"stroke-width: 1\"/><line x1=\"367\" x2=\"405\" y1=\"167\" y2=\"167\" class=\"net_3 width_1\" style=\"stroke-width: 1\"/><line x1=\"236\" x2=\"259\" y1=\"42\" y2=\"42\" class=\"net_2 width_1\" style=\"stroke-width: 1\"/><line x1=\"259\" x2=\"259\" y1=\"42\" y2=\"159.5\" class=\"net_2 width_1\" style=\"stroke-width: 1\"/><circle cx=\"259\" cy=\"42\" r=\"2\" style=\"fill:#000\" class=\"net_2 width_1\"/><line x1=\"259\" x2=\"274\" y1=\"159.5\" y2=\"159.5\" class=\"net_2 width_1\" style=\"stroke-width: 1\"/><line x1=\"236\" x2=\"405\" y1=\"42\" y2=\"42\" class=\"net_2 width_1\" style=\"stroke-width: 1\"/><line x1=\"236\" x2=\"274\" y1=\"174.5\" y2=\"174.5\" class=\"net_8 width_1\" style=\"stroke-width: 1\"/><line x1=\"42\" x2=\"274\" y1=\"84.5\" y2=\"84.5\" class=\"net_4 width_1\" style=\"stroke-width: 1\"/><line x1=\"42\" x2=\"52\" y1=\"84.5\" y2=\"84.5\" class=\"net_4 width_1\" style=\"stroke-width: 1\"/><line x1=\"52\" x2=\"52\" y1=\"84.5\" y2=\"182\" class=\"net_4 width_1\" style=\"stroke-width: 1\"/><circle cx=\"52\" cy=\"84.5\" r=\"2\" style=\"fill:#000\" class=\"net_4 width_1\"/><line x1=\"52\" x2=\"77\" y1=\"182\" y2=\"182\" class=\"net_4 width_1\" style=\"stroke-width: 1\"/><line x1=\"108\" x2=\"249\" y1=\"115.5\" y2=\"115.5\" class=\"net_5 width_1\" style=\"stroke-width: 1\"/><line x1=\"249\" x2=\"249\" y1=\"115.5\" y2=\"99.5\" class=\"net_5 width_1\" style=\"stroke-width: 1\"/><line x1=\"249\" x2=\"274\" y1=\"99.5\" y2=\"99.5\" class=\"net_5 width_1\" style=\"stroke-width: 1\"/><line x1=\"108\" x2=\"118\" y1=\"115.5\" y2=\"115.5\" class=\"net_5 width_1\" style=\"stroke-width: 1\"/><line x1=\"118\" x2=\"118\" y1=\"115.5\" y2=\"167\" class=\"net_5 width_1\" style=\"stroke-width: 1\"/><circle cx=\"118\" cy=\"115.5\" r=\"2\" style=\"fill:#000\" class=\"net_5 width_1\"/><line x1=\"118\" x2=\"143\" y1=\"167\" y2=\"167\" class=\"net_5 width_1\" style=\"stroke-width: 1\"/><line x1=\"105\" x2=\"143\" y1=\"182\" y2=\"182\" class=\"net_11 width_1\" style=\"stroke-width: 1\"/><line x1=\"435\" x2=\"445\" y1=\"99.5\" y2=\"99.5\" class=\"net_7 width_1\" style=\"stroke-width: 1\"/><line x1=\"445\" x2=\"445\" y1=\"99.5\" y2=\"12\" class=\"net_7 width_1\" style=\"stroke-width: 1\"/><line x1=\"445\" x2=\"183\" y1=\"12\" y2=\"12\" class=\"net_7 width_1\" style=\"stroke-width: 1\"/><line x1=\"183\" x2=\"183\" y1=\"12\" y2=\"42\" class=\"net_7 width_1\" style=\"stroke-width: 1\"/><line x1=\"183\" x2=\"208\" y1=\"42\" y2=\"42\" class=\"net_7 width_1\" style=\"stroke-width: 1\"/><line x1=\"304\" x2=\"339\" y1=\"167\" y2=\"167\" class=\"net_9 width_1\" style=\"stroke-width: 1\"/><line x1=\"304\" x2=\"339\" y1=\"92\" y2=\"92\" class=\"net_10 width_1\" style=\"stroke-width: 1\"/><line x1=\"173\" x2=\"208\" y1=\"174.5\" y2=\"174.5\" class=\"net_12 width_1\" style=\"stroke-width: 1\"/></svg>"
          },
          "metadata": {}
        }
      ]
    },
    {
      "cell_type": "code",
      "source": [
        "%%verilog\n",
        "\n",
        "module tb;\n",
        "wire Q, Qb;\n",
        "reg D, Clock;\n",
        "dlatch i1(Q, Qb, D, Clock);\n",
        "\n"
      ],
      "metadata": {
        "id": "vZCewaz6vIvo"
      },
      "execution_count": null,
      "outputs": []
    },
    {
      "cell_type": "code",
      "source": [
        "%%verilog\n",
        "////////////////////////////////////////////////////\n",
        "module tb;\n",
        "  wire Q,Qb;\n",
        "  reg D,Clock;\n",
        "\n",
        "  dlatch i1(Q,Qb,D,Clock);\n",
        "\n",
        "  initial Clock=0; always #2 Clock=~Clock;\n",
        "  initial begin\n",
        "    $dumpfile(\"tb.vcd\");\n",
        "    $dumpvars();\n",
        "\n",
        "    D=0;\n",
        "    #3 D=1;\n",
        "    #2 D=0;\n",
        "    #2 D=1;\n",
        "    #1 $finish;\n",
        "\n",
        "    $dumpoff;\n",
        "    $monitor(\"%d D=%b, Q=%b, Clock=%b\",$time,D,Qb,Clock);\n",
        "  end\n",
        "\n",
        "endmodule\n",
        "////////////////////////////////////////////////////\n",
        "\n",
        "////////////////////////////////////////////////////\n",
        "module dlatch(Q,Qb,D,Clock);\n",
        "  output Q,Qb;\n",
        "  input D,Clock;\n",
        "  wire Y,R,S;\n",
        "\n",
        "  not i1(Y,D);\n",
        "  nand n3(S,D,Clock);\n",
        "  nand n4(R,Clock,Y);\n",
        "  nand n1(Q,S,Qb);\n",
        "  nand n2(Qb,Q,R);\n",
        "\n",
        "endmodule\n",
        "////////////////////////////////////////////////////"
      ],
      "metadata": {
        "id": "I5WmB94JVufi",
        "colab": {
          "base_uri": "https://localhost:8080/"
        },
        "outputId": "5c2b08d2-1afa-4142-86da-6f0a5226eb44"
      },
      "execution_count": null,
      "outputs": [
        {
          "output_type": "stream",
          "name": "stdout",
          "text": [
            "VCD info: dumpfile tb.vcd opened for output.\n",
            "\n"
          ]
        }
      ]
    },
    {
      "cell_type": "code",
      "source": [
        "%%waveform tb.vcd\n",
        "sign_list = ['tb.Q','tb.D','tb.Clock']\n",
        "time_begin = 0\n",
        "time_end = 8\n",
        "base = 'bin' # bin, dec, dec2, hex, octal"
      ],
      "metadata": {
        "id": "Rj0pByB3V2rI",
        "collapsed": true,
        "colab": {
          "base_uri": "https://localhost:8080/",
          "height": 368
        },
        "outputId": "5de07310-a7f3-45e1-eae7-4d03de240f5b"
      },
      "execution_count": null,
      "outputs": [
        {
          "output_type": "display_data",
          "data": {
            "text/plain": [
              "<Figure size 900x400 with 1 Axes>"
            ],
            "image/png": "[encoded data removed]"
          },
          "metadata": {}
        }
      ]
    },
    {
      "cell_type": "markdown",
      "source": [
        "## D Flip-Flop from D-latch"
      ],
      "metadata": {
        "id": "UMDX6coDbi2K"
      }
    },
    {
      "cell_type": "markdown",
      "source": [
        "### Q1 nDFF"
      ],
      "metadata": {
        "id": "gynj3FfYU66W"
      }
    },
    {
      "cell_type": "markdown",
      "source": [
        "DFF (D Flip-Flop) can be built up using two D-latch in series connection as the above diagram. Write a Verilog module of this DFF, and it testbench. Verify if the output changes on Posedge Edge or Negative Edge of the Clock signal?"
      ],
      "metadata": {
        "id": "x7E3p-ltbyuB"
      }
    },
    {
      "cell_type": "markdown",
      "source": [
        "![](https://github.com/pe8sutd/DSL2025/blob/main/VerilogColab3/Slide76-2.PNG?raw=1)"
      ],
      "metadata": {
        "id": "N9kiEWcSbqtx"
      }
    },
    {
      "cell_type": "code",
      "source": [
        "%%print_verilog\n",
        "module dff(Q,Qb,D,Clock); /////////////////////\n",
        "  output Q,Qb; input D,Clock;\n",
        "  wire Y,Yb,ClockS;\n",
        "dlatch master (Y,Yb,D,Clock);\n",
        "dlatch slave (Q,Qb,Y,ClockS);\n",
        "not i1(ClockS,Clock);\n",
        "endmodule ///////////////////////////////////////\n",
        "\n",
        "module dlatch(Q,Qb,D,Clock); /////////////////////\n",
        "  output Q,Qb; input D,Clock;\n",
        "  wire Y,R,S;\n",
        "  not i1(Y,D);\n",
        "  nand n3(S,D,Clock); nand n4(R,Clock,Y);\n",
        "  nand n1(Q,S,Qb); nand n2(Qb,Q,R);\n",
        "endmodule ///////////////////////////////////////\n"
      ],
      "metadata": {
        "id": "IShz6_mDcNZQ",
        "collapsed": true,
        "outputId": "73b27c5b-6842-4a9f-bfe8-e0445c67a427",
        "colab": {
          "base_uri": "https://localhost:8080/",
          "height": 291
        }
      },
      "execution_count": null,
      "outputs": [
        {
          "output_type": "display_data",
          "data": {
            "text/plain": [
              "<IPython.core.display.SVG object>"
            ],
            "image/svg+xml": "<svg xmlns=\"http://www.w3.org/2000/svg\" xmlns:xlink=\"http://www.w3.org/1999/xlink\" xmlns:s=\"https://github.com/nturley/netlistsvg\" width=\"722\" height=\"269.5\"><style>svg {\n  stroke:#000;\n  fill:none;\n}\ntext {\n  fill:#000;\n  stroke:none;\n  font-size:10px;\n  font-weight: bold;\n  font-family: &quot;Courier New&quot;, monospace;\n}\nline {\n    stroke-linecap: round;\n}\n.nodelabel {\n  text-anchor: middle;\n}\n.inputPortLabel {\n  text-anchor: end;\n}\n.splitjoinBody {\n  fill:#000;\n}</style><g s:type=\"not\" transform=\"translate(209,94.5)\" s:width=\"30\" s:height=\"20\" id=\"cell_$not$/content/code.v:6$1\"><s:alias val=\"$_NOT_\"/><s:alias val=\"$not\"/><s:alias val=\"$logic_not\"/><path d=\"M0,0 L0,20 L20,10 Z\" class=\"cell_$not$/content/code.v:6$1\"/><circle cx=\"24\" cy=\"10\" r=\"3\" class=\"cell_$not$/content/code.v:6$1\"/><g s:x=\"-1\" s:y=\"10\" s:pid=\"A\"/><g s:x=\"27\" s:y=\"10\" s:pid=\"Y\"/></g><g s:type=\"and\" transform=\"translate(77,173)\" s:width=\"30\" s:height=\"25\" id=\"cell_$techmap\\master.$and$/content/code.v:13$3\"><s:alias val=\"$and\"/><s:alias val=\"$logic_and\"/><s:alias val=\"$_AND_\"/><s:alias val=\"$reduce_and\"/><path d=\"M0,0 L0,25 L15,25 A15 12.5 0 0 0 15,0 Z\" class=\"cell_$techmap\\master.$and$/content/code.v:13$3\"/><g s:x=\"0\" s:y=\"5\" s:pid=\"A\"/><g s:x=\"0\" s:y=\"20\" s:pid=\"B\"/><g s:x=\"30\" s:y=\"12.5\" s:pid=\"Y\"/></g><g s:type=\"and\" transform=\"translate(471.6666666666667,210.5)\" s:width=\"30\" s:height=\"25\" id=\"cell_$techmap\\master.$and$/content/code.v:13$5\"><s:alias val=\"$and\"/><s:alias val=\"$logic_and\"/><s:alias val=\"$_AND_\"/><s:alias val=\"$reduce_and\"/><path d=\"M0,0 L0,25 L15,25 A15 12.5 0 0 0 15,0 Z\" class=\"cell_$techmap\\master.$and$/content/code.v:13$5\"/><g s:x=\"0\" s:y=\"5\" s:pid=\"A\"/><g s:x=\"0\" s:y=\"20\" s:pid=\"B\"/><g s:x=\"30\" s:y=\"12.5\" s:pid=\"Y\"/></g><g s:type=\"and\" transform=\"translate(208.66666666666666,180.5)\" s:width=\"30\" s:height=\"25\" id=\"cell_$techmap\\master.$and$/content/code.v:14$7\"><s:alias val=\"$and\"/><s:alias val=\"$logic_and\"/><s:alias val=\"$_AND_\"/><s:alias val=\"$reduce_and\"/><path d=\"M0,0 L0,25 L15,25 A15 12.5 0 0 0 15,0 Z\" class=\"cell_$techmap\\master.$and$/content/code.v:14$7\"/><g s:x=\"0\" s:y=\"5\" s:pid=\"A\"/><g s:x=\"0\" s:y=\"20\" s:pid=\"B\"/><g s:x=\"30\" s:y=\"12.5\" s:pid=\"Y\"/></g><g s:type=\"and\" transform=\"translate(603.6666666666666,188)\" s:width=\"30\" s:height=\"25\" id=\"cell_$techmap\\master.$and$/content/code.v:14$9\"><s:alias val=\"$and\"/><s:alias val=\"$logic_and\"/><s:alias val=\"$_AND_\"/><s:alias val=\"$reduce_and\"/><path d=\"M0,0 L0,25 L15,25 A15 12.5 0 0 0 15,0 Z\" class=\"cell_$techmap\\master.$and$/content/code.v:14$9\"/><g s:x=\"0\" s:y=\"5\" s:pid=\"A\"/><g s:x=\"0\" s:y=\"20\" s:pid=\"B\"/><g s:x=\"30\" s:y=\"12.5\" s:pid=\"Y\"/></g><g s:type=\"not\" transform=\"translate(406,226.5)\" s:width=\"30\" s:height=\"20\" id=\"cell_$techmap\\master.$not$/content/code.v:12$2\"><s:alias val=\"$_NOT_\"/><s:alias val=\"$not\"/><s:alias val=\"$logic_not\"/><path d=\"M0,0 L0,20 L20,10 Z\" class=\"cell_$techmap\\master.$not$/content/code.v:12$2\"/><circle cx=\"24\" cy=\"10\" r=\"3\" class=\"cell_$techmap\\master.$not$/content/code.v:12$2\"/><g s:x=\"-1\" s:y=\"10\" s:pid=\"A\"/><g s:x=\"27\" s:y=\"10\" s:pid=\"Y\"/></g><g s:type=\"not\" transform=\"translate(143,175.5)\" s:width=\"30\" s:height=\"20\" id=\"cell_$techmap\\master.$not$/content/code.v:13$4\"><s:alias val=\"$_NOT_\"/><s:alias val=\"$not\"/><s:alias val=\"$logic_not\"/><path d=\"M0,0 L0,20 L20,10 Z\" class=\"cell_$techmap\\master.$not$/content/code.v:13$4\"/><circle cx=\"24\" cy=\"10\" r=\"3\" class=\"cell_$techmap\\master.$not$/content/code.v:13$4\"/><g s:x=\"-1\" s:y=\"10\" s:pid=\"A\"/><g s:x=\"27\" s:y=\"10\" s:pid=\"Y\"/></g><g s:type=\"not\" transform=\"translate(538,213)\" s:width=\"30\" s:height=\"20\" id=\"cell_$techmap\\master.$not$/content/code.v:13$6\"><s:alias val=\"$_NOT_\"/><s:alias val=\"$not\"/><s:alias val=\"$logic_not\"/><path d=\"M0,0 L0,20 L20,10 Z\" class=\"cell_$techmap\\master.$not$/content/code.v:13$6\"/><circle cx=\"24\" cy=\"10\" r=\"3\" class=\"cell_$techmap\\master.$not$/content/code.v:13$6\"/><g s:x=\"-1\" s:y=\"10\" s:pid=\"A\"/><g s:x=\"27\" s:y=\"10\" s:pid=\"Y\"/></g><g s:type=\"not\" transform=\"translate(670,190.5)\" s:width=\"30\" s:height=\"20\" id=\"cell_$techmap\\master.$not$/content/code.v:14$10\"><s:alias val=\"$_NOT_\"/><s:alias val=\"$not\"/><s:alias val=\"$logic_not\"/><path d=\"M0,0 L0,20 L20,10 Z\" class=\"cell_$techmap\\master.$not$/content/code.v:14$10\"/><circle cx=\"24\" cy=\"10\" r=\"3\" class=\"cell_$techmap\\master.$not$/content/code.v:14$10\"/><g s:x=\"-1\" s:y=\"10\" s:pid=\"A\"/><g s:x=\"27\" s:y=\"10\" s:pid=\"Y\"/></g><g s:type=\"not\" transform=\"translate(340,183)\" s:width=\"30\" s:height=\"20\" id=\"cell_$techmap\\master.$not$/content/code.v:14$8\"><s:alias val=\"$_NOT_\"/><s:alias val=\"$not\"/><s:alias val=\"$logic_not\"/><path d=\"M0,0 L0,20 L20,10 Z\" class=\"cell_$techmap\\master.$not$/content/code.v:14$8\"/><circle cx=\"24\" cy=\"10\" r=\"3\" class=\"cell_$techmap\\master.$not$/content/code.v:14$8\"/><g s:x=\"-1\" s:y=\"10\" s:pid=\"A\"/><g s:x=\"27\" s:y=\"10\" s:pid=\"Y\"/></g><g s:type=\"and\" transform=\"translate(405.6666666666667,152)\" s:width=\"30\" s:height=\"25\" id=\"cell_$techmap\\slave.$and$/content/code.v:13$3\"><s:alias val=\"$and\"/><s:alias val=\"$logic_and\"/><s:alias val=\"$_AND_\"/><s:alias val=\"$reduce_and\"/><path d=\"M0,0 L0,25 L15,25 A15 12.5 0 0 0 15,0 Z\" class=\"cell_$techmap\\slave.$and$/content/code.v:13$3\"/><g s:x=\"0\" s:y=\"5\" s:pid=\"A\"/><g s:x=\"0\" s:y=\"20\" s:pid=\"B\"/><g s:x=\"30\" s:y=\"12.5\" s:pid=\"Y\"/></g><g s:type=\"and\" transform=\"translate(274,99.5)\" s:width=\"30\" s:height=\"25\" id=\"cell_$techmap\\slave.$and$/content/code.v:13$5\"><s:alias val=\"$and\"/><s:alias val=\"$logic_and\"/><s:alias val=\"$_AND_\"/><s:alias val=\"$reduce_and\"/><path d=\"M0,0 L0,25 L15,25 A15 12.5 0 0 0 15,0 Z\" class=\"cell_$techmap\\slave.$and$/content/code.v:13$5\"/><g s:x=\"0\" s:y=\"5\" s:pid=\"A\"/><g s:x=\"0\" s:y=\"20\" s:pid=\"B\"/><g s:x=\"30\" s:y=\"12.5\" s:pid=\"Y\"/></g><g s:type=\"and\" transform=\"translate(537.6666666666666,84.5)\" s:width=\"30\" s:height=\"25\" id=\"cell_$techmap\\slave.$and$/content/code.v:14$7\"><s:alias val=\"$and\"/><s:alias val=\"$logic_and\"/><s:alias val=\"$_AND_\"/><s:alias val=\"$reduce_and\"/><path d=\"M0,0 L0,25 L15,25 A15 12.5 0 0 0 15,0 Z\" class=\"cell_$techmap\\slave.$and$/content/code.v:14$7\"/><g s:x=\"0\" s:y=\"5\" s:pid=\"A\"/><g s:x=\"0\" s:y=\"20\" s:pid=\"B\"/><g s:x=\"30\" s:y=\"12.5\" s:pid=\"Y\"/></g><g s:type=\"and\" transform=\"translate(405.6666666666667,92)\" s:width=\"30\" s:height=\"25\" id=\"cell_$techmap\\slave.$and$/content/code.v:14$9\"><s:alias val=\"$and\"/><s:alias val=\"$logic_and\"/><s:alias val=\"$_AND_\"/><s:alias val=\"$reduce_and\"/><path d=\"M0,0 L0,25 L15,25 A15 12.5 0 0 0 15,0 Z\" class=\"cell_$techmap\\slave.$and$/content/code.v:14$9\"/><g s:x=\"0\" s:y=\"5\" s:pid=\"A\"/><g s:x=\"0\" s:y=\"20\" s:pid=\"B\"/><g s:x=\"30\" s:y=\"12.5\" s:pid=\"Y\"/></g><g s:type=\"not\" transform=\"translate(472,154.5)\" s:width=\"30\" s:height=\"20\" id=\"cell_$techmap\\slave.$not$/content/code.v:13$4\"><s:alias val=\"$_NOT_\"/><s:alias val=\"$not\"/><s:alias val=\"$logic_not\"/><path d=\"M0,0 L0,20 L20,10 Z\" class=\"cell_$techmap\\slave.$not$/content/code.v:13$4\"/><circle cx=\"24\" cy=\"10\" r=\"3\" class=\"cell_$techmap\\slave.$not$/content/code.v:13$4\"/><g s:x=\"-1\" s:y=\"10\" s:pid=\"A\"/><g s:x=\"27\" s:y=\"10\" s:pid=\"Y\"/></g><g s:type=\"not\" transform=\"translate(340,102)\" s:width=\"30\" s:height=\"20\" id=\"cell_$techmap\\slave.$not$/content/code.v:13$6\"><s:alias val=\"$_NOT_\"/><s:alias val=\"$not\"/><s:alias val=\"$logic_not\"/><path d=\"M0,0 L0,20 L20,10 Z\" class=\"cell_$techmap\\slave.$not$/content/code.v:13$6\"/><circle cx=\"24\" cy=\"10\" r=\"3\" class=\"cell_$techmap\\slave.$not$/content/code.v:13$6\"/><g s:x=\"-1\" s:y=\"10\" s:pid=\"A\"/><g s:x=\"27\" s:y=\"10\" s:pid=\"Y\"/></g><g s:type=\"not\" transform=\"translate(472,94.5)\" s:width=\"30\" s:height=\"20\" id=\"cell_$techmap\\slave.$not$/content/code.v:14$10\"><s:alias val=\"$_NOT_\"/><s:alias val=\"$not\"/><s:alias val=\"$logic_not\"/><path d=\"M0,0 L0,20 L20,10 Z\" class=\"cell_$techmap\\slave.$not$/content/code.v:14$10\"/><circle cx=\"24\" cy=\"10\" r=\"3\" class=\"cell_$techmap\\slave.$not$/content/code.v:14$10\"/><g s:x=\"-1\" s:y=\"10\" s:pid=\"A\"/><g s:x=\"27\" s:y=\"10\" s:pid=\"Y\"/></g><g s:type=\"not\" transform=\"translate(604,87)\" s:width=\"30\" s:height=\"20\" id=\"cell_$techmap\\slave.$not$/content/code.v:14$8\"><s:alias val=\"$_NOT_\"/><s:alias val=\"$not\"/><s:alias val=\"$logic_not\"/><path d=\"M0,0 L0,20 L20,10 Z\" class=\"cell_$techmap\\slave.$not$/content/code.v:14$8\"/><circle cx=\"24\" cy=\"10\" r=\"3\" class=\"cell_$techmap\\slave.$not$/content/code.v:14$8\"/><g s:x=\"-1\" s:y=\"10\" s:pid=\"A\"/><g s:x=\"27\" s:y=\"10\" s:pid=\"Y\"/></g><g s:type=\"outputExt\" transform=\"translate(670,87)\" s:width=\"30\" s:height=\"20\" id=\"cell_Q\"><text x=\"15\" y=\"-4\" class=\"nodelabel cell_Q\" s:attribute=\"ref\">Q</text><s:alias val=\"$_outputExt_\"/><path d=\"M30,0 L30,20 L15,20 L0,10 L15,0 Z\" class=\"cell_Q\"/><g s:x=\"0\" s:y=\"10\" s:pid=\"A\"/></g><g s:type=\"outputExt\" transform=\"translate(670,22)\" s:width=\"30\" s:height=\"20\" id=\"cell_Qb\"><text x=\"15\" y=\"-4\" class=\"nodelabel cell_Qb\" s:attribute=\"ref\">Qb</text><s:alias val=\"$_outputExt_\"/><path d=\"M30,0 L30,20 L15,20 L0,10 L15,0 Z\" class=\"cell_Qb\"/><g s:x=\"0\" s:y=\"10\" s:pid=\"A\"/></g><g s:type=\"inputExt\" transform=\"translate(12,168)\" s:width=\"30\" s:height=\"20\" id=\"cell_D\"><text x=\"15\" y=\"-4\" class=\"nodelabel cell_D\" s:attribute=\"ref\">D</text><s:alias val=\"$_inputExt_\"/><path d=\"M0,0 L0,20 L15,20 L30,10 L15,0 Z\" class=\"cell_D\"/><g s:x=\"30\" s:y=\"10\" s:pid=\"Y\"/></g><g s:type=\"inputExt\" transform=\"translate(12,94.5)\" s:width=\"30\" s:height=\"20\" id=\"cell_Clock\"><text x=\"15\" y=\"-4\" class=\"nodelabel cell_Clock\" s:attribute=\"ref\">Clock</text><s:alias val=\"$_inputExt_\"/><path d=\"M0,0 L0,20 L15,20 L30,10 L15,0 Z\" class=\"cell_Clock\"/><g s:x=\"30\" s:y=\"10\" s:pid=\"Y\"/></g><line x1=\"42\" x2=\"208\" y1=\"104.5\" y2=\"104.5\" class=\"net_5 width_1\" style=\"stroke-width: 1\"/><line x1=\"42\" x2=\"62\" y1=\"104.5\" y2=\"104.5\" class=\"net_5 width_1\" style=\"stroke-width: 1\"/><line x1=\"62\" x2=\"62\" y1=\"104.5\" y2=\"193\" class=\"net_5 width_1\" style=\"stroke-width: 1\"/><circle cx=\"62\" cy=\"104.5\" r=\"2\" style=\"fill:#000\" class=\"net_5 width_1\"/><circle cx=\"62\" cy=\"193\" r=\"2\" style=\"fill:#000\" class=\"net_5 width_1\"/><line x1=\"62\" x2=\"77\" y1=\"193\" y2=\"193\" class=\"net_5 width_1\" style=\"stroke-width: 1\"/><line x1=\"42\" x2=\"62\" y1=\"104.5\" y2=\"104.5\" class=\"net_5 width_1\" style=\"stroke-width: 1\"/><line x1=\"62\" x2=\"62\" y1=\"104.5\" y2=\"215.5\" class=\"net_5 width_1\" style=\"stroke-width: 1\"/><line x1=\"62\" x2=\"471.6666666666667\" y1=\"215.5\" y2=\"215.5\" class=\"net_5 width_1\" style=\"stroke-width: 1\"/><line x1=\"42\" x2=\"77\" y1=\"178\" y2=\"178\" class=\"net_4 width_1\" style=\"stroke-width: 1\"/><line x1=\"42\" x2=\"52\" y1=\"178\" y2=\"178\" class=\"net_4 width_1\" style=\"stroke-width: 1\"/><line x1=\"52\" x2=\"52\" y1=\"178\" y2=\"236.5\" class=\"net_4 width_1\" style=\"stroke-width: 1\"/><circle cx=\"52\" cy=\"178\" r=\"2\" style=\"fill:#000\" class=\"net_4 width_1\"/><line x1=\"52\" x2=\"405\" y1=\"236.5\" y2=\"236.5\" class=\"net_4 width_1\" style=\"stroke-width: 1\"/><line x1=\"433\" x2=\"446\" y1=\"236.5\" y2=\"236.5\" class=\"net_8 width_1\" style=\"stroke-width: 1\"/><line x1=\"446\" x2=\"446\" y1=\"236.5\" y2=\"230.5\" class=\"net_8 width_1\" style=\"stroke-width: 1\"/><line x1=\"446\" x2=\"471.6666666666667\" y1=\"230.5\" y2=\"230.5\" class=\"net_8 width_1\" style=\"stroke-width: 1\"/><line x1=\"170\" x2=\"208.66666666666666\" y1=\"185.5\" y2=\"185.5\" class=\"net_10 width_1\" style=\"stroke-width: 1\"/><line x1=\"697\" x2=\"710\" y1=\"200.5\" y2=\"200.5\" class=\"net_11 width_1\" style=\"stroke-width: 1\"/><line x1=\"710\" x2=\"710\" y1=\"200.5\" y2=\"256.5\" class=\"net_11 width_1\" style=\"stroke-width: 1\"/><line x1=\"710\" x2=\"183\" y1=\"256.5\" y2=\"256.5\" class=\"net_11 width_1\" style=\"stroke-width: 1\"/><line x1=\"183\" x2=\"183\" y1=\"256.5\" y2=\"200.5\" class=\"net_11 width_1\" style=\"stroke-width: 1\"/><line x1=\"183\" x2=\"208.66666666666666\" y1=\"200.5\" y2=\"200.5\" class=\"net_11 width_1\" style=\"stroke-width: 1\"/><line x1=\"367\" x2=\"603.6666666666666\" y1=\"193\" y2=\"193\" class=\"net_13 width_1\" style=\"stroke-width: 1\"/><line x1=\"367\" x2=\"380\" y1=\"193\" y2=\"193\" class=\"net_13 width_1\" style=\"stroke-width: 1\"/><line x1=\"380\" x2=\"380\" y1=\"193\" y2=\"157\" class=\"net_13 width_1\" style=\"stroke-width: 1\"/><circle cx=\"380\" cy=\"193\" r=\"2\" style=\"fill:#000\" class=\"net_13 width_1\"/><line x1=\"380\" x2=\"405.6666666666667\" y1=\"157\" y2=\"157\" class=\"net_13 width_1\" style=\"stroke-width: 1\"/><line x1=\"565\" x2=\"578\" y1=\"223\" y2=\"223\" class=\"net_14 width_1\" style=\"stroke-width: 1\"/><line x1=\"578\" x2=\"578\" y1=\"223\" y2=\"208\" class=\"net_14 width_1\" style=\"stroke-width: 1\"/><line x1=\"578\" x2=\"603.6666666666666\" y1=\"208\" y2=\"208\" class=\"net_14 width_1\" style=\"stroke-width: 1\"/><line x1=\"107\" x2=\"142\" y1=\"185.5\" y2=\"185.5\" class=\"net_7 width_1\" style=\"stroke-width: 1\"/><line x1=\"501.6666666666667\" x2=\"537\" y1=\"223\" y2=\"223\" class=\"net_9 width_1\" style=\"stroke-width: 1\"/><line x1=\"633.6666666666666\" x2=\"669\" y1=\"200.5\" y2=\"200.5\" class=\"net_15 width_1\" style=\"stroke-width: 1\"/><line x1=\"238.66666666666666\" x2=\"339\" y1=\"193\" y2=\"193\" class=\"net_12 width_1\" style=\"stroke-width: 1\"/><line x1=\"238.66666666666666\" x2=\"249\" y1=\"193\" y2=\"193\" class=\"net_12 width_1\" style=\"stroke-width: 1\"/><line x1=\"249\" x2=\"249\" y1=\"193\" y2=\"119.5\" class=\"net_12 width_1\" style=\"stroke-width: 1\"/><circle cx=\"249\" cy=\"193\" r=\"2\" style=\"fill:#000\" class=\"net_12 width_1\"/><line x1=\"249\" x2=\"274\" y1=\"119.5\" y2=\"119.5\" class=\"net_12 width_1\" style=\"stroke-width: 1\"/><line x1=\"236\" x2=\"259\" y1=\"104.5\" y2=\"104.5\" class=\"net_6 width_1\" style=\"stroke-width: 1\"/><line x1=\"259\" x2=\"259\" y1=\"104.5\" y2=\"172\" class=\"net_6 width_1\" style=\"stroke-width: 1\"/><circle cx=\"259\" cy=\"104.5\" r=\"2\" style=\"fill:#000\" class=\"net_6 width_1\"/><line x1=\"259\" x2=\"405.6666666666667\" y1=\"172\" y2=\"172\" class=\"net_6 width_1\" style=\"stroke-width: 1\"/><line x1=\"236\" x2=\"274\" y1=\"104.5\" y2=\"104.5\" class=\"net_6 width_1\" style=\"stroke-width: 1\"/><line x1=\"499\" x2=\"522\" y1=\"164.5\" y2=\"164.5\" class=\"net_18 width_1\" style=\"stroke-width: 1\"/><line x1=\"522\" x2=\"522\" y1=\"164.5\" y2=\"89.5\" class=\"net_18 width_1\" style=\"stroke-width: 1\"/><line x1=\"522\" x2=\"537.6666666666666\" y1=\"89.5\" y2=\"89.5\" class=\"net_18 width_1\" style=\"stroke-width: 1\"/><line x1=\"499\" x2=\"537.6666666666666\" y1=\"104.5\" y2=\"104.5\" class=\"net_3 width_1\" style=\"stroke-width: 1\"/><line x1=\"499\" x2=\"512\" y1=\"104.5\" y2=\"104.5\" class=\"net_3 width_1\" style=\"stroke-width: 1\"/><line x1=\"512\" x2=\"512\" y1=\"104.5\" y2=\"32\" class=\"net_3 width_1\" style=\"stroke-width: 1\"/><circle cx=\"512\" cy=\"104.5\" r=\"2\" style=\"fill:#000\" class=\"net_3 width_1\"/><line x1=\"512\" x2=\"670\" y1=\"32\" y2=\"32\" class=\"net_3 width_1\" style=\"stroke-width: 1\"/><line x1=\"631\" x2=\"644\" y1=\"97\" y2=\"97\" class=\"net_2 width_1\" style=\"stroke-width: 1\"/><line x1=\"644\" x2=\"644\" y1=\"97\" y2=\"73.5\" class=\"net_2 width_1\" style=\"stroke-width: 1\"/><line x1=\"644\" x2=\"380\" y1=\"73.5\" y2=\"73.5\" class=\"net_2 width_1\" style=\"stroke-width: 1\"/><line x1=\"380\" x2=\"380\" y1=\"73.5\" y2=\"97\" class=\"net_2 width_1\" style=\"stroke-width: 1\"/><circle cx=\"644\" cy=\"97\" r=\"2\" style=\"fill:#000\" class=\"net_2 width_1\"/><line x1=\"380\" x2=\"405.6666666666667\" y1=\"97\" y2=\"97\" class=\"net_2 width_1\" style=\"stroke-width: 1\"/><line x1=\"631\" x2=\"670\" y1=\"97\" y2=\"97\" class=\"net_2 width_1\" style=\"stroke-width: 1\"/><line x1=\"367\" x2=\"405.6666666666667\" y1=\"112\" y2=\"112\" class=\"net_20 width_1\" style=\"stroke-width: 1\"/><line x1=\"435.6666666666667\" x2=\"471\" y1=\"164.5\" y2=\"164.5\" class=\"net_16 width_1\" style=\"stroke-width: 1\"/><line x1=\"304\" x2=\"339\" y1=\"112\" y2=\"112\" class=\"net_17 width_1\" style=\"stroke-width: 1\"/><line x1=\"435.6666666666667\" x2=\"471\" y1=\"104.5\" y2=\"104.5\" class=\"net_21 width_1\" style=\"stroke-width: 1\"/><line x1=\"567.6666666666666\" x2=\"603\" y1=\"97\" y2=\"97\" class=\"net_19 width_1\" style=\"stroke-width: 1\"/></svg>"
          },
          "metadata": {}
        }
      ]
    },
    {
      "cell_type": "code",
      "source": [
        "%%verilog\n",
        "\n",
        "module tb; ////////////////////////////////////////\n",
        "  wire Q,Qb;\n",
        "  reg D,Clock;\n",
        "\n",
        "  dff i1(Q,Qb,D,Clock);\n",
        "\n",
        "  initial Clock=0; always #2 Clock=~Clock;\n",
        "  initial begin\n",
        "    $monitor(\"%d D=%b, Q=%b, Clock=%b\",$time,D,Qb,Clock);\n",
        "\n",
        "    $dumpfile(\"tb.vcd\");\n",
        "    $dumpvars();\n",
        "\n",
        "    D=0;\n",
        "    #1 D=1;\n",
        "    #2 D=0;\n",
        "    #2 D=1;\n",
        "    #4 D=0;\n",
        "    #2 D=1;\n",
        "    #1 $finish;\n",
        "\n",
        "    $dumpoff;\n",
        "\n",
        "  end\n",
        "endmodule ///////////////////////////////////////\n",
        "\n",
        "module dff(Q,Qb,D,Clock); /////////////////////\n",
        "  output Q,Qb; input D,Clock;\n",
        "  wire Y,Yb,iClock;\n",
        "dlatch master (Y,Yb,D,Clock);\n",
        "dlatch slave (Q,Qb,Y,iClock);\n",
        "not i1(iClock,Clock);\n",
        "endmodule ///////////////////////////////////////\n",
        "\n",
        "module dlatch(Q,Qb,D,Clock); /////////////////////\n",
        "  output Q,Qb; input D,Clock;\n",
        "  wire Y,R,S;\n",
        "  not i1(Y,D);\n",
        "  nand n3(S,D,Clock); nand n4(R,Clock,Y);\n",
        "  nand n1(Q,S,Qb); nand n2(Qb,Q,R);\n",
        "endmodule ///////////////////////////////////////\n"
      ],
      "metadata": {
        "id": "FyZitFYFcNIx",
        "outputId": "afd7a6b7-0db9-4b61-dbb8-27722c19e20f",
        "colab": {
          "base_uri": "https://localhost:8080/"
        }
      },
      "execution_count": null,
      "outputs": [
        {
          "output_type": "stream",
          "name": "stdout",
          "text": [
            "VCD info: dumpfile tb.vcd opened for output.\n",
            "                   0 D=0, Q=x, Clock=0\n",
            "                   1 D=1, Q=x, Clock=0\n",
            "                   2 D=1, Q=x, Clock=1\n",
            "                   3 D=0, Q=x, Clock=1\n",
            "                   4 D=0, Q=1, Clock=0\n",
            "                   5 D=1, Q=1, Clock=0\n",
            "                   6 D=1, Q=1, Clock=1\n",
            "                   8 D=1, Q=0, Clock=0\n",
            "                   9 D=0, Q=0, Clock=0\n",
            "                  10 D=0, Q=0, Clock=1\n",
            "                  11 D=1, Q=0, Clock=1\n",
            "                  12 D=1, Q=0, Clock=0\n",
            "\n"
          ]
        }
      ]
    },
    {
      "cell_type": "code",
      "source": [
        "%%waveform tb.vcd\n",
        "sign_list = ['tb.Q','tb.D','tb.Clock']\n",
        "time_begin = 0\n",
        "time_end = 12\n",
        "base = 'bin' # bin, dec, dec2, hex, octal"
      ],
      "metadata": {
        "id": "_BranDDjcM0B",
        "colab": {
          "base_uri": "https://localhost:8080/",
          "height": 292
        },
        "outputId": "a4dbd73e-d9ba-4eca-ffcd-a73a8f1557bc"
      },
      "execution_count": null,
      "outputs": [
        {
          "output_type": "display_data",
          "data": {
            "text/plain": [
              "<Figure size 1300x400 with 1 Axes>"
            ],
            "image/png": "[encoded data removed]"
          },
          "metadata": {}
        }
      ]
    },
    {
      "cell_type": "markdown",
      "source": [
        "Verify if the output changes on Posedge Edge or Negative Edge of the Clock signal? \\\n",
        "Answer: Negetive Edge\n",
        "As can be concluded from the waveform above,\n",
        "1. at time 2,6,10, rising edge, Q does not follow D,\n",
        "2. at time 4,8 falling edge, Q follows D"
      ],
      "metadata": {
        "id": "1cf9yX2YvZ_c"
      }
    },
    {
      "cell_type": "markdown",
      "source": [
        "### Q2 pDFF"
      ],
      "metadata": {
        "id": "9fk0xpfhVAW9"
      }
    },
    {
      "cell_type": "markdown",
      "source": [
        "Additional question: How to change the design of the above DFF to be 'sensitive' to rising edge of the clock? Verified your design with %%verilog, %%waveform, and $monitor. Sketch the circuit diagram of the posedge edge trigger DFF by modifying the negative edge trigger DFF."
      ],
      "metadata": {
        "id": "kGt16n5XKQZV"
      }
    },
    {
      "cell_type": "code",
      "source": [
        "%%verilog\n",
        "\n",
        "module tb; ////////////////////////////////////////\n",
        "  wire Q,Qb;\n",
        "  reg D,Clock;\n",
        "\n",
        "  dff i1(Q,Qb,D,Clock);\n",
        "\n",
        "  initial Clock=0; always #2 Clock=~Clock;\n",
        "  initial begin\n",
        "    $monitor(\"%d D=%b, Q=%b, Clock=%b\",$time,D,Qb,Clock);\n",
        "    $dumpfile(\"tb.vcd\");\n",
        "    $dumpvars();\n",
        "    #0 D=0; #1 D=1; #2 D=0; #4 D=1; #4 D=0;\n",
        "    #1 $finish;\n",
        "    $dumpoff;\n",
        "  end\n",
        "\n",
        "endmodule ///////////////////////////////////////\n",
        "\n",
        "module dff(Q,Qb,D,Clock); /////////////////////\n",
        "  output Q,Qb; input D,Clock;\n",
        "  wire Y,Yb,ClockS,ClockM;\n",
        "dlatch master (Y,Yb,D,ClockM);\n",
        "dlatch slave (Q,Qb,Y,ClockS);\n",
        "not i1(ClockS,ClockM);\n",
        "not i0(ClockM,Clock);\n",
        "endmodule ///////////////////////////////////////\n",
        "\n",
        "module dlatch(Q,Qb,D,Clock); /////////////////////\n",
        "  output Q,Qb; input D,Clock;\n",
        "  wire Y,R,S;\n",
        "  not i1(Y,D);\n",
        "  nand n3(S,D,Clock); nand n4(R,Clock,Y);\n",
        "  nand n1(Q,S,Qb); nand n2(Qb,Q,R);\n",
        "endmodule ///////////////////////////////////////\n"
      ],
      "metadata": {
        "colab": {
          "base_uri": "https://localhost:8080/"
        },
        "outputId": "b6ef2847-95b4-4103-9791-c574ba56ed03",
        "id": "G2ERL5t0KzGO"
      },
      "execution_count": null,
      "outputs": [
        {
          "output_type": "stream",
          "name": "stdout",
          "text": [
            "VCD info: dumpfile tb.vcd opened for output.\n",
            "                   0 D=0, Q=x, Clock=0\n",
            "                   1 D=1, Q=x, Clock=0\n",
            "                   2 D=1, Q=0, Clock=1\n",
            "                   3 D=0, Q=0, Clock=1\n",
            "                   4 D=0, Q=0, Clock=0\n",
            "                   6 D=0, Q=1, Clock=1\n",
            "                   7 D=1, Q=1, Clock=1\n",
            "                   8 D=1, Q=1, Clock=0\n",
            "                  10 D=1, Q=0, Clock=1\n",
            "                  11 D=0, Q=0, Clock=1\n",
            "                  12 D=0, Q=0, Clock=0\n",
            "\n"
          ]
        }
      ]
    },
    {
      "cell_type": "code",
      "source": [
        "%%waveform tb.vcd\n",
        "sign_list = ['tb.Q','tb.D','tb.Clock']\n",
        "time_begin = 0\n",
        "time_end = 12\n",
        "base = 'bin' # bin, dec, dec2, hex, octal"
      ],
      "metadata": {
        "id": "B9w1cKdbKnpe",
        "outputId": "ab7d3593-9b63-42e0-956e-1a411e33329d",
        "colab": {
          "base_uri": "https://localhost:8080/",
          "height": 292
        }
      },
      "execution_count": null,
      "outputs": [
        {
          "output_type": "display_data",
          "data": {
            "text/plain": [
              "<Figure size 1300x400 with 1 Axes>"
            ],
            "image/png": "[encoded data removed]"
          },
          "metadata": {}
        }
      ]
    },
    {
      "cell_type": "markdown",
      "source": [
        "![](https://github.com/pe8sutd/DSL2025/blob/main/VerilogColab3/Slide76-3.PNG?raw=1)"
      ],
      "metadata": {
        "id": "ypiO4h5xVHdM"
      }
    },
    {
      "cell_type": "markdown",
      "source": [
        "### Q3 PIPO"
      ],
      "metadata": {
        "id": "eXqc4re7dRSk"
      }
    },
    {
      "cell_type": "markdown",
      "source": [
        "Using the above DFF, deisgn a PIPO (parallel in parallel out) register as depicted in the diagram below, and verify the design."
      ],
      "metadata": {
        "id": "KgLvyy-fdcvM"
      }
    },
    {
      "cell_type": "markdown",
      "source": [
        "![](https://github.com/pe8sutd/DSL2025/blob/main/VerilogColab3/qpipo.png?raw=1)\n"
      ],
      "metadata": {
        "id": "51vFeKh5dTJF"
      }
    },
    {
      "cell_type": "code",
      "source": [
        "%%verilog\n",
        "module tb;\n",
        "wire[3:0]po;\n",
        "reg[3:0]pi;\n",
        "reg Clock;\n",
        "pipo p0(po,pi,Clock);\n",
        "initial Clock=0; always #1 Clock=~Clock;\n",
        "initial begin $dumpfile(\"tb.vcd\");$dumpvars();pi=4'b1011; #3 pi=4'b0011; #3 $finish; end\n",
        "initial begin $monitor(\"%d po=%b pi=%b Clock=%b\",$time,po,pi,Clock); end\n",
        "endmodule\n",
        "\n",
        "module pipo(output[3:0]po, input[3:0]pi, input Clock);\n",
        "dff FlipFlop1(po[3],,pi[3], Clock);\n",
        "dff FlipFlop2(po[2],,pi[2], Clock);\n",
        "dff FlipFlop3(.Q(po[1]),.Qb(),.D(pi[1]),.Clock(Clock));\n",
        "dff FlipFlop4(.Q(po[0]),.Qb(),.D(pi[0]),.Clock(Clock));\n",
        "endmodule\n",
        "\n",
        "module dff(Q,Qb,D,Clock);\n",
        "output Q,Qb;\n",
        "input D,Clock;\n",
        "wire Y,Yb,ClockS,ClockM;\n",
        "dlatch master (Y, Yb,D,ClockM);\n",
        "dlatch slave (Q, Qb, Y, ClockS);\n",
        "not i1(ClockS, ClockM);\n",
        "not i0(ClockM,Clock);\n",
        "endmodule\n",
        "\n",
        "module dlatch(Q,Qb,D, Clock);\n",
        "output Q, Qb;\n",
        "input D, Clock;\n",
        "wire Y,R,S;\n",
        "not i1(Y, D);\n",
        "nand n3(S,D,Clock);\n",
        "nand n4(R,Clock,Y);\n",
        "nand n1(Q,S,Qb);\n",
        "nand n2(Qb,Q,R);\n",
        "endmodule"
      ],
      "metadata": {
        "id": "qGi9ZGlsOBP7",
        "outputId": "8a5431ea-fbe9-4637-d2f5-c2f7aaedfcb1",
        "colab": {
          "base_uri": "https://localhost:8080/"
        }
      },
      "execution_count": null,
      "outputs": [
        {
          "output_type": "stream",
          "name": "stdout",
          "text": [
            "VCD info: dumpfile tb.vcd opened for output.\n",
            "                   0 po=xxxx pi=1011 Clock=0\n",
            "                   1 po=1011 pi=1011 Clock=1\n",
            "                   2 po=1011 pi=1011 Clock=0\n",
            "                   3 po=1011 pi=0011 Clock=1\n",
            "                   4 po=1011 pi=0011 Clock=0\n",
            "                   5 po=0011 pi=0011 Clock=1\n",
            "                   6 po=0011 pi=0011 Clock=0\n",
            "\n"
          ]
        }
      ]
    },
    {
      "cell_type": "markdown",
      "source": [
        "### Q4 SIPO"
      ],
      "metadata": {
        "id": "dOZ1F6v-NI57"
      }
    },
    {
      "cell_type": "markdown",
      "source": [
        "Using the above DFF, deisgn a SIPO (serial in parallel out) register as depicted in the diagram below, and verify the design. Ignore Clear signal in this structure Verilog HDL design."
      ],
      "metadata": {
        "id": "ieM_T7lzNOBE"
      }
    },
    {
      "cell_type": "markdown",
      "source": [
        "![](https://github.com/pe8sutd/DSL2025/blob/main/VerilogColab3/qsipo.png?raw=1)"
      ],
      "metadata": {
        "id": "W489k5yhN3Md"
      }
    },
    {
      "cell_type": "code",
      "source": [
        "%%verilog\n"
      ],
      "metadata": {
        "id": "HN87cA_jN_wW"
      },
      "execution_count": null,
      "outputs": []
    },
    {
      "cell_type": "code",
      "source": [],
      "metadata": {
        "id": "FqHYMHIDN_cs"
      },
      "execution_count": null,
      "outputs": []
    },
    {
      "cell_type": "markdown",
      "source": [
        "## Behavioral Modelling"
      ],
      "metadata": {
        "id": "bFhViPIGdDQq"
      }
    },
    {
      "cell_type": "markdown",
      "source": [
        "![](https://github.com/pe8sutd/DSL2025/blob/main/VerilogColab1/Slide77.PNG?raw=1)"
      ],
      "metadata": {
        "id": "0ERwwmQmt5T2"
      }
    },
    {
      "cell_type": "markdown",
      "source": [
        "![](https://github.com/pe8sutd/DSL2025/blob/main/VerilogColab1/Slide78.PNG?raw=1)"
      ],
      "metadata": {
        "id": "wJWPF__St7zG"
      }
    },
    {
      "cell_type": "markdown",
      "source": [
        "![](https://github.com/pe8sutd/DSL2025/blob/main/VerilogColab1/Slide79.PNG?raw=1)"
      ],
      "metadata": {
        "id": "vNnYBVg-t-Hu"
      }
    },
    {
      "cell_type": "markdown",
      "source": [
        "![](https://github.com/pe8sutd/DSL2025/blob/main/VerilogColab1/Slide80.PNG?raw=1)"
      ],
      "metadata": {
        "id": "xtB5m9XduAc2"
      }
    },
    {
      "cell_type": "markdown",
      "source": [
        "![](https://github.com/pe8sutd/DSL2025/blob/main/VerilogColab1/Slide81.PNG?raw=1)"
      ],
      "metadata": {
        "id": "jrVzqHCNuDE_"
      }
    },
    {
      "cell_type": "markdown",
      "source": [
        "![](https://github.com/pe8sutd/DSL2025/blob/main/VerilogColab1/Slide82.PNG?raw=1)"
      ],
      "metadata": {
        "id": "vMxXaDYQuFKf"
      }
    },
    {
      "cell_type": "markdown",
      "source": [
        "![](https://github.com/pe8sutd/DSL2025/blob/main/VerilogColab1/Slide83.PNG?raw=1)"
      ],
      "metadata": {
        "id": "tVnTjBy4uI-P"
      }
    },
    {
      "cell_type": "markdown",
      "source": [
        "![](https://github.com/pe8sutd/DSL2025/blob/main/VerilogColab1/Slide84.PNG?raw=1)"
      ],
      "metadata": {
        "id": "riK_sCHsuO_e"
      }
    },
    {
      "cell_type": "markdown",
      "source": [
        "![](https://github.com/pe8sutd/DSL2025/blob/main/VerilogColab1/Slide85.PNG?raw=1)"
      ],
      "metadata": {
        "id": "K02ln7j4uRPn"
      }
    },
    {
      "cell_type": "markdown",
      "source": [
        "### Q1"
      ],
      "metadata": {
        "id": "0jvk-xtUOGTH"
      }
    },
    {
      "cell_type": "markdown",
      "source": [
        "Code the above modules. can you find any differences, using %%print_verilog"
      ],
      "metadata": {
        "id": "9Os6nK8SdNnt"
      }
    },
    {
      "cell_type": "code",
      "source": [
        "%%print_verilog\n",
        "module logicfs(out,a,b,c); output out; input a,b,c; wire ab;\n",
        "  and g1 (ab,a,b); or g2 (out,ab,c);\n",
        "endmodule"
      ],
      "metadata": {
        "collapsed": true,
        "id": "-mFnfMG2cs0-",
        "outputId": "fa910ac1-b515-4946-e73e-fc9b54a8283b",
        "colab": {
          "base_uri": "https://localhost:8080/",
          "height": 150
        }
      },
      "execution_count": null,
      "outputs": [
        {
          "output_type": "display_data",
          "data": {
            "text/plain": [
              "<IPython.core.display.SVG object>"
            ],
            "image/svg+xml": "<svg xmlns=\"http://www.w3.org/2000/svg\" xmlns:xlink=\"http://www.w3.org/1999/xlink\" xmlns:s=\"https://github.com/nturley/netlistsvg\" width=\"249\" height=\"129\"><style>svg {\n  stroke:#000;\n  fill:none;\n}\ntext {\n  fill:#000;\n  stroke:none;\n  font-size:10px;\n  font-weight: bold;\n  font-family: &quot;Courier New&quot;, monospace;\n}\nline {\n    stroke-linecap: round;\n}\n.nodelabel {\n  text-anchor: middle;\n}\n.inputPortLabel {\n  text-anchor: end;\n}\n.splitjoinBody {\n  fill:#000;\n}</style><g s:type=\"and\" transform=\"translate(77,27)\" s:width=\"30\" s:height=\"25\" id=\"cell_$and$/content/code.v:6$4\"><s:alias val=\"$and\"/><s:alias val=\"$logic_and\"/><s:alias val=\"$_AND_\"/><s:alias val=\"$reduce_and\"/><path d=\"M0,0 L0,25 L15,25 A15 12.5 0 0 0 15,0 Z\" class=\"cell_$and$/content/code.v:6$4\"/><g s:x=\"0\" s:y=\"5\" s:pid=\"A\"/><g s:x=\"0\" s:y=\"20\" s:pid=\"B\"/><g s:x=\"30\" s:y=\"12.5\" s:pid=\"Y\"/></g><g s:type=\"or\" transform=\"translate(142,34.5)\" s:width=\"30\" s:height=\"25\" id=\"cell_$or$/content/code.v:6$5\"><s:alias val=\"$or\"/><s:alias val=\"$logic_or\"/><s:alias val=\"$_OR_\"/><s:alias val=\"$reduce_or\"/><s:alias val=\"$reduce_bool\"/><path d=\"M0,0 A30 25 0 0 1 0,25 A30 25 0 0 0 30,12.5 A30 25 0 0 0 0,0\" class=\"cell_$or$/content/code.v:6$5\"/><g s:x=\"2\" s:y=\"5\" s:pid=\"A\"/><g s:x=\"2\" s:y=\"20\" s:pid=\"B\"/><g s:x=\"30\" s:y=\"12.5\" s:pid=\"Y\"/></g><g s:type=\"outputExt\" transform=\"translate(207,37)\" s:width=\"30\" s:height=\"20\" id=\"cell_out\"><text x=\"15\" y=\"-4\" class=\"nodelabel cell_out\" s:attribute=\"ref\">out</text><s:alias val=\"$_outputExt_\"/><path d=\"M30,0 L30,20 L15,20 L0,10 L15,0 Z\" class=\"cell_out\"/><g s:x=\"0\" s:y=\"10\" s:pid=\"A\"/></g><g s:type=\"inputExt\" transform=\"translate(12,22)\" s:width=\"30\" s:height=\"20\" id=\"cell_a\"><text x=\"15\" y=\"-4\" class=\"nodelabel cell_a\" s:attribute=\"ref\">a</text><s:alias val=\"$_inputExt_\"/><path d=\"M0,0 L0,20 L15,20 L30,10 L15,0 Z\" class=\"cell_a\"/><g s:x=\"30\" s:y=\"10\" s:pid=\"Y\"/></g><g s:type=\"inputExt\" transform=\"translate(12,87)\" s:width=\"30\" s:height=\"20\" id=\"cell_b\"><text x=\"15\" y=\"-4\" class=\"nodelabel cell_b\" s:attribute=\"ref\">b</text><s:alias val=\"$_inputExt_\"/><path d=\"M0,0 L0,20 L15,20 L30,10 L15,0 Z\" class=\"cell_b\"/><g s:x=\"30\" s:y=\"10\" s:pid=\"Y\"/></g><g s:type=\"inputExt\" transform=\"translate(77,97)\" s:width=\"30\" s:height=\"20\" id=\"cell_c\"><text x=\"15\" y=\"-4\" class=\"nodelabel cell_c\" s:attribute=\"ref\">c</text><s:alias val=\"$_inputExt_\"/><path d=\"M0,0 L0,20 L15,20 L30,10 L15,0 Z\" class=\"cell_c\"/><g s:x=\"30\" s:y=\"10\" s:pid=\"Y\"/></g><line x1=\"42\" x2=\"77\" y1=\"32\" y2=\"32\" class=\"net_3 width_1\" style=\"stroke-width: 1\"/><line x1=\"42\" x2=\"52\" y1=\"97\" y2=\"97\" class=\"net_4 width_1\" style=\"stroke-width: 1\"/><line x1=\"52\" x2=\"52\" y1=\"97\" y2=\"47\" class=\"net_4 width_1\" style=\"stroke-width: 1\"/><line x1=\"52\" x2=\"77\" y1=\"47\" y2=\"47\" class=\"net_4 width_1\" style=\"stroke-width: 1\"/><line x1=\"107\" x2=\"144\" y1=\"39.5\" y2=\"39.5\" class=\"net_6 width_1\" style=\"stroke-width: 1\"/><line x1=\"107\" x2=\"117\" y1=\"107\" y2=\"107\" class=\"net_5 width_1\" style=\"stroke-width: 1\"/><line x1=\"117\" x2=\"117\" y1=\"107\" y2=\"54.5\" class=\"net_5 width_1\" style=\"stroke-width: 1\"/><line x1=\"117\" x2=\"144\" y1=\"54.5\" y2=\"54.5\" class=\"net_5 width_1\" style=\"stroke-width: 1\"/><line x1=\"172\" x2=\"207\" y1=\"47\" y2=\"47\" class=\"net_2 width_1\" style=\"stroke-width: 1\"/></svg>"
          },
          "metadata": {}
        }
      ]
    },
    {
      "cell_type": "code",
      "source": [
        "%%print_verilog\n",
        "module logicfb(out,a,b,c); output out; reg out; input a,b,c;\n",
        "  always @ (a or b or c) begin out = a & b | c; end\n",
        "endmodule"
      ],
      "metadata": {
        "collapsed": true,
        "id": "OGbwwaHWepM2",
        "outputId": "4e5b9bb3-bc9e-41e0-a7e1-9679afae681f",
        "colab": {
          "base_uri": "https://localhost:8080/",
          "height": 150
        }
      },
      "execution_count": null,
      "outputs": [
        {
          "output_type": "display_data",
          "data": {
            "text/plain": [
              "<IPython.core.display.SVG object>"
            ],
            "image/svg+xml": "<svg xmlns=\"http://www.w3.org/2000/svg\" xmlns:xlink=\"http://www.w3.org/1999/xlink\" xmlns:s=\"https://github.com/nturley/netlistsvg\" width=\"249\" height=\"129\"><style>svg {\n  stroke:#000;\n  fill:none;\n}\ntext {\n  fill:#000;\n  stroke:none;\n  font-size:10px;\n  font-weight: bold;\n  font-family: &quot;Courier New&quot;, monospace;\n}\nline {\n    stroke-linecap: round;\n}\n.nodelabel {\n  text-anchor: middle;\n}\n.inputPortLabel {\n  text-anchor: end;\n}\n.splitjoinBody {\n  fill:#000;\n}</style><g s:type=\"and\" transform=\"translate(77,27)\" s:width=\"30\" s:height=\"25\" id=\"cell_$and$/content/code.v:2$2\"><s:alias val=\"$and\"/><s:alias val=\"$logic_and\"/><s:alias val=\"$_AND_\"/><s:alias val=\"$reduce_and\"/><path d=\"M0,0 L0,25 L15,25 A15 12.5 0 0 0 15,0 Z\" class=\"cell_$and$/content/code.v:2$2\"/><g s:x=\"0\" s:y=\"5\" s:pid=\"A\"/><g s:x=\"0\" s:y=\"20\" s:pid=\"B\"/><g s:x=\"30\" s:y=\"12.5\" s:pid=\"Y\"/></g><g s:type=\"or\" transform=\"translate(142,34.5)\" s:width=\"30\" s:height=\"25\" id=\"cell_$or$/content/code.v:2$3\"><s:alias val=\"$or\"/><s:alias val=\"$logic_or\"/><s:alias val=\"$_OR_\"/><s:alias val=\"$reduce_or\"/><s:alias val=\"$reduce_bool\"/><path d=\"M0,0 A30 25 0 0 1 0,25 A30 25 0 0 0 30,12.5 A30 25 0 0 0 0,0\" class=\"cell_$or$/content/code.v:2$3\"/><g s:x=\"2\" s:y=\"5\" s:pid=\"A\"/><g s:x=\"2\" s:y=\"20\" s:pid=\"B\"/><g s:x=\"30\" s:y=\"12.5\" s:pid=\"Y\"/></g><g s:type=\"outputExt\" transform=\"translate(207,37)\" s:width=\"30\" s:height=\"20\" id=\"cell_out\"><text x=\"15\" y=\"-4\" class=\"nodelabel cell_out\" s:attribute=\"ref\">out</text><s:alias val=\"$_outputExt_\"/><path d=\"M30,0 L30,20 L15,20 L0,10 L15,0 Z\" class=\"cell_out\"/><g s:x=\"0\" s:y=\"10\" s:pid=\"A\"/></g><g s:type=\"inputExt\" transform=\"translate(12,22)\" s:width=\"30\" s:height=\"20\" id=\"cell_a\"><text x=\"15\" y=\"-4\" class=\"nodelabel cell_a\" s:attribute=\"ref\">a</text><s:alias val=\"$_inputExt_\"/><path d=\"M0,0 L0,20 L15,20 L30,10 L15,0 Z\" class=\"cell_a\"/><g s:x=\"30\" s:y=\"10\" s:pid=\"Y\"/></g><g s:type=\"inputExt\" transform=\"translate(12,87)\" s:width=\"30\" s:height=\"20\" id=\"cell_b\"><text x=\"15\" y=\"-4\" class=\"nodelabel cell_b\" s:attribute=\"ref\">b</text><s:alias val=\"$_inputExt_\"/><path d=\"M0,0 L0,20 L15,20 L30,10 L15,0 Z\" class=\"cell_b\"/><g s:x=\"30\" s:y=\"10\" s:pid=\"Y\"/></g><g s:type=\"inputExt\" transform=\"translate(77,97)\" s:width=\"30\" s:height=\"20\" id=\"cell_c\"><text x=\"15\" y=\"-4\" class=\"nodelabel cell_c\" s:attribute=\"ref\">c</text><s:alias val=\"$_inputExt_\"/><path d=\"M0,0 L0,20 L15,20 L30,10 L15,0 Z\" class=\"cell_c\"/><g s:x=\"30\" s:y=\"10\" s:pid=\"Y\"/></g><line x1=\"42\" x2=\"77\" y1=\"32\" y2=\"32\" class=\"net_3 width_1\" style=\"stroke-width: 1\"/><line x1=\"42\" x2=\"52\" y1=\"97\" y2=\"97\" class=\"net_4 width_1\" style=\"stroke-width: 1\"/><line x1=\"52\" x2=\"52\" y1=\"97\" y2=\"47\" class=\"net_4 width_1\" style=\"stroke-width: 1\"/><line x1=\"52\" x2=\"77\" y1=\"47\" y2=\"47\" class=\"net_4 width_1\" style=\"stroke-width: 1\"/><line x1=\"107\" x2=\"144\" y1=\"39.5\" y2=\"39.5\" class=\"net_6 width_1\" style=\"stroke-width: 1\"/><line x1=\"107\" x2=\"117\" y1=\"107\" y2=\"107\" class=\"net_5 width_1\" style=\"stroke-width: 1\"/><line x1=\"117\" x2=\"117\" y1=\"107\" y2=\"54.5\" class=\"net_5 width_1\" style=\"stroke-width: 1\"/><line x1=\"117\" x2=\"144\" y1=\"54.5\" y2=\"54.5\" class=\"net_5 width_1\" style=\"stroke-width: 1\"/><line x1=\"172\" x2=\"207\" y1=\"47\" y2=\"47\" class=\"net_2 width_1\" style=\"stroke-width: 1\"/></svg>"
          },
          "metadata": {}
        }
      ]
    },
    {
      "cell_type": "markdown",
      "source": [
        "![](https://github.com/pe8sutd/DSL2025/blob/main/VerilogColab1/Slide86.PNG?raw=1)"
      ],
      "metadata": {
        "id": "A5qLZdsTuTZO"
      }
    },
    {
      "cell_type": "markdown",
      "source": [
        "### Q2"
      ],
      "metadata": {
        "id": "pvDEDE0RH_6u"
      }
    },
    {
      "cell_type": "markdown",
      "source": [
        "Create a testbench to verify the both logicfs, and logicfc. Can you find the difference?"
      ],
      "metadata": {
        "id": "9jAySuVCIHKv"
      }
    },
    {
      "cell_type": "code",
      "source": [
        "%%verilog\n",
        "module tb; wire outb, outs; reg a,b,c;\n",
        "  logicfb i1(outb,a,b,c); logicfs i2(outs,a,b,c);\n",
        "  initial c=0; always #4 c=~c;\n",
        "  initial b=0; always #2 b=~b;\n",
        "  initial a=0; always #1 a=~a;\n",
        "  initial begin $dumpfile(\"tb.vcd\"); $dumpvars(); #10 $finish; $dumpoff; end\n",
        "  initial begin $monitor(\"%d outs=%b outb=%b a=%b b=%b c=%b\",$time,outs,outb,a,b,c); end\n",
        "endmodule\n",
        "\n",
        "module logicfs(out,a,b,c); output out; input a,b,c; wire ab;\n",
        "  and g1 (ab,a,b); or g2 (out,ab,c);\n",
        "endmodule\n",
        "\n",
        "module logicfb(out,a,b,c); output out; reg out; input a,b,c;\n",
        "  always @ (a or b or c) begin out = a & b | c; end\n",
        "endmodule"
      ],
      "metadata": {
        "collapsed": true,
        "id": "Zi4EEHlLE8EW",
        "outputId": "40f1ff94-8edd-4ad5-dbc3-5e14481e6bc3",
        "colab": {
          "base_uri": "https://localhost:8080/"
        }
      },
      "execution_count": null,
      "outputs": [
        {
          "output_type": "stream",
          "name": "stdout",
          "text": [
            "VCD info: dumpfile tb.vcd opened for output.\n",
            "                   0 outs=0 outb=0 a=0 b=0 c=0\n",
            "                   1 outs=0 outb=0 a=1 b=0 c=0\n",
            "                   2 outs=0 outb=0 a=0 b=1 c=0\n",
            "                   3 outs=1 outb=1 a=1 b=1 c=0\n",
            "                   4 outs=1 outb=1 a=0 b=0 c=1\n",
            "                   5 outs=1 outb=1 a=1 b=0 c=1\n",
            "                   6 outs=1 outb=1 a=0 b=1 c=1\n",
            "                   7 outs=1 outb=1 a=1 b=1 c=1\n",
            "                   8 outs=0 outb=0 a=0 b=0 c=0\n",
            "                   9 outs=0 outb=0 a=1 b=0 c=0\n",
            "                  10 outs=0 outb=0 a=0 b=1 c=0\n",
            "\n"
          ]
        }
      ]
    },
    {
      "cell_type": "code",
      "source": [
        "%%waveform tb.vcd\n",
        "sign_list = ['tb.outs','tb.outb','tb.a','tb.b','tb.c']\n",
        "time_begin = 0\n",
        "time_end = 13\n",
        "base = 'bin' # bin, dec, dec2, hex, octal"
      ],
      "metadata": {
        "id": "Aw-ShKmYHCgV",
        "outputId": "a1d9c6b3-e505-4377-8396-cd33b5b3b007",
        "colab": {
          "base_uri": "https://localhost:8080/",
          "height": 408
        }
      },
      "execution_count": null,
      "outputs": [
        {
          "output_type": "display_data",
          "data": {
            "text/plain": [
              "<Figure size 1400x600 with 1 Axes>"
            ],
            "image/png": "[encoded data removed]"
          },
          "metadata": {}
        }
      ]
    },
    {
      "cell_type": "markdown",
      "source": [
        "![](https://github.com/pe8sutd/DSL2025/blob/main/VerilogColab1/Slide87.PNG?raw=1)"
      ],
      "metadata": {
        "id": "rNtOsPF8uW2m"
      }
    },
    {
      "cell_type": "markdown",
      "source": [
        "![](https://github.com/pe8sutd/DSL2025/blob/main/VerilogColab1/Slide88.PNG?raw=1)"
      ],
      "metadata": {
        "id": "BdUz5n2PuZTP"
      }
    },
    {
      "cell_type": "markdown",
      "source": [
        "### Q3"
      ],
      "metadata": {
        "id": "PCrq49c2Jd5d"
      }
    },
    {
      "cell_type": "markdown",
      "source": [
        "![](https://github.com/pe8sutd/DSL2025/blob/main/VerilogColab1/Slide89.PNG?raw=1)"
      ],
      "metadata": {
        "id": "cZD6t8p3ufLZ"
      }
    },
    {
      "cell_type": "markdown",
      "source": [
        "Modify the logicfb to only have \"c\" in the always statement. Redo Q1 to verify if there is any difference?"
      ],
      "metadata": {
        "id": "Lm_DXoGVJgDm"
      }
    },
    {
      "cell_type": "code",
      "source": [
        "%%verilog\n",
        "module tb; wire outb, outs; reg a,b,c;\n",
        "  logicfb i1(outb,a,b,c); logicfs i2(outs,a,b,c);\n",
        "  initial c=0; always #4 c=~c;\n",
        "  initial b=0; always #2 b=~b;\n",
        "  initial a=0; always #1 a=~a;\n",
        "  initial begin $dumpfile(\"tb.vcd\"); $dumpvars(); #10 $finish; $dumpoff; end\n",
        "  initial begin $monitor(\"%d outs=%b outb=%b a=%b b=%b c=%b\",$time,outs,outb,a,b,c); end\n",
        "endmodule\n",
        "\n",
        "module logicfs(out,a,b,c); output out; input a,b,c; wire ab;\n",
        "  and g1 (ab,a,b); or g2 (out,ab,c);\n",
        "endmodule\n",
        "\n",
        "module logicfb(out,a,b,c); output out; reg out; input a,b,c;\n",
        "  always @ (c) begin out = a & b | c; end //always only has \"c\"\n",
        "endmodule"
      ],
      "metadata": {
        "collapsed": true,
        "id": "9A1EaGBnJu4l",
        "outputId": "b072459e-2c33-4afe-97a8-4da69bf2e941",
        "colab": {
          "base_uri": "https://localhost:8080/"
        }
      },
      "execution_count": null,
      "outputs": [
        {
          "output_type": "stream",
          "name": "stdout",
          "text": [
            "VCD info: dumpfile tb.vcd opened for output.\n",
            "                   0 outs=0 outb=0 a=0 b=0 c=0\n",
            "                   1 outs=0 outb=0 a=1 b=0 c=0\n",
            "                   2 outs=0 outb=0 a=0 b=1 c=0\n",
            "                   3 outs=1 outb=0 a=1 b=1 c=0\n",
            "                   4 outs=1 outb=1 a=0 b=0 c=1\n",
            "                   5 outs=1 outb=1 a=1 b=0 c=1\n",
            "                   6 outs=1 outb=1 a=0 b=1 c=1\n",
            "                   7 outs=1 outb=1 a=1 b=1 c=1\n",
            "                   8 outs=0 outb=0 a=0 b=0 c=0\n",
            "                   9 outs=0 outb=0 a=1 b=0 c=0\n",
            "                  10 outs=0 outb=0 a=0 b=1 c=0\n",
            "\n"
          ]
        }
      ]
    },
    {
      "cell_type": "code",
      "source": [
        "%%waveform tb.vcd\n",
        "sign_list = ['tb.outs','tb.outb','tb.a','tb.b','tb.c']\n",
        "time_begin = 0\n",
        "time_end = 13\n",
        "base = 'bin' # bin, dec, dec2, hex, octal"
      ],
      "metadata": {
        "id": "2fI_hYH2J7W1",
        "outputId": "dcaa44f6-6423-458d-c058-c1c5585c2795",
        "colab": {
          "base_uri": "https://localhost:8080/",
          "height": 408
        }
      },
      "execution_count": null,
      "outputs": [
        {
          "output_type": "display_data",
          "data": {
            "text/plain": [
              "<Figure size 1400x600 with 1 Axes>"
            ],
            "image/png": "[encoded data removed]"
          },
          "metadata": {}
        }
      ]
    },
    {
      "cell_type": "markdown",
      "source": [
        "## Multiplexor"
      ],
      "metadata": {
        "id": "rQ1yI8qcPuGx"
      }
    },
    {
      "cell_type": "markdown",
      "source": [
        "![](https://github.com/pe8sutd/DSL2025/blob/main/VerilogColab1/Slide90.PNG?raw=1)"
      ],
      "metadata": {
        "id": "OgQQm9meuhm3"
      }
    },
    {
      "cell_type": "markdown",
      "source": [
        "![](https://github.com/pe8sutd/DSL2025/blob/main/VerilogColab1/Slide91.PNG?raw=1)"
      ],
      "metadata": {
        "id": "YL4RXUOGuk6n"
      }
    },
    {
      "cell_type": "markdown",
      "source": [
        "### Q1"
      ],
      "metadata": {
        "id": "-ME7NWeWX324"
      }
    },
    {
      "cell_type": "markdown",
      "source": [
        "Implement the multiplexor, with a,b,c in the sensitivity list."
      ],
      "metadata": {
        "id": "WWu9O_DemDcW"
      }
    },
    {
      "cell_type": "code",
      "source": [
        "%%print_verilog\n",
        "module mux2(out,a,b,s); output out; reg out; input a,b,s;\n",
        "  always @ (a or b or s) begin if (s==1'b1) out=a; else out=b; end\n",
        "endmodule"
      ],
      "metadata": {
        "collapsed": true,
        "colab": {
          "base_uri": "https://localhost:8080/",
          "height": 205
        },
        "id": "FBTGkOdtTPBx",
        "outputId": "e9ca7355-40e3-4f69-ba7a-7e5da9cad864"
      },
      "execution_count": null,
      "outputs": [
        {
          "output_type": "display_data",
          "data": {
            "text/plain": [
              "<IPython.core.display.SVG object>"
            ],
            "image/svg+xml": "<svg xmlns=\"http://www.w3.org/2000/svg\" xmlns:xlink=\"http://www.w3.org/1999/xlink\" xmlns:s=\"https://github.com/nturley/netlistsvg\" width=\"174\" height=\"184\"><style>svg {\n  stroke:#000;\n  fill:none;\n}\ntext {\n  fill:#000;\n  stroke:none;\n  font-size:10px;\n  font-weight: bold;\n  font-family: &quot;Courier New&quot;, monospace;\n}\nline {\n    stroke-linecap: round;\n}\n.nodelabel {\n  text-anchor: middle;\n}\n.inputPortLabel {\n  text-anchor: end;\n}\n.splitjoinBody {\n  fill:#000;\n}</style><g s:type=\"mux\" transform=\"translate(77,22)\" s:width=\"20\" s:height=\"40\" id=\"cell_$procmux$4\"><s:alias val=\"$pmux\"/><s:alias val=\"$mux\"/><s:alias val=\"$_MUX_\"/><path d=\"M0,0 L20,10 L20,30 L0,40 Z\" class=\"cell_$procmux$4\"/><text x=\"5\" y=\"32\" class=\"nodelabel cell_$procmux$4\" s:attribute=\"\">1</text><text x=\"5\" y=\"13\" class=\"nodelabel cell_$procmux$4\" s:attribute=\"\">0</text><g s:x=\"0\" s:y=\"10\" s:pid=\"A\"/><g s:x=\"0\" s:y=\"30\" s:pid=\"B\"/><g s:x=\"10\" s:y=\"35\" s:pid=\"S\"/><g s:x=\"20\" s:y=\"20\" s:pid=\"Y\"/></g><g s:type=\"outputExt\" transform=\"translate(132,32)\" s:width=\"30\" s:height=\"20\" id=\"cell_out\"><text x=\"15\" y=\"-4\" class=\"nodelabel cell_out\" s:attribute=\"ref\">out</text><s:alias val=\"$_outputExt_\"/><path d=\"M30,0 L30,20 L15,20 L0,10 L15,0 Z\" class=\"cell_out\"/><g s:x=\"0\" s:y=\"10\" s:pid=\"A\"/></g><g s:type=\"inputExt\" transform=\"translate(12,87)\" s:width=\"30\" s:height=\"20\" id=\"cell_a\"><text x=\"15\" y=\"-4\" class=\"nodelabel cell_a\" s:attribute=\"ref\">a</text><s:alias val=\"$_inputExt_\"/><path d=\"M0,0 L0,20 L15,20 L30,10 L15,0 Z\" class=\"cell_a\"/><g s:x=\"30\" s:y=\"10\" s:pid=\"Y\"/></g><g s:type=\"inputExt\" transform=\"translate(12,22)\" s:width=\"30\" s:height=\"20\" id=\"cell_b\"><text x=\"15\" y=\"-4\" class=\"nodelabel cell_b\" s:attribute=\"ref\">b</text><s:alias val=\"$_inputExt_\"/><path d=\"M0,0 L0,20 L15,20 L30,10 L15,0 Z\" class=\"cell_b\"/><g s:x=\"30\" s:y=\"10\" s:pid=\"Y\"/></g><g s:type=\"inputExt\" transform=\"translate(12,152)\" s:width=\"30\" s:height=\"20\" id=\"cell_s\"><text x=\"15\" y=\"-4\" class=\"nodelabel cell_s\" s:attribute=\"ref\">s</text><s:alias val=\"$_inputExt_\"/><path d=\"M0,0 L0,20 L15,20 L30,10 L15,0 Z\" class=\"cell_s\"/><g s:x=\"30\" s:y=\"10\" s:pid=\"Y\"/></g><line x1=\"42\" x2=\"77\" y1=\"32\" y2=\"32\" class=\"net_4 width_1\" style=\"stroke-width: 1\"/><line x1=\"42\" x2=\"52\" y1=\"97\" y2=\"97\" class=\"net_3 width_1\" style=\"stroke-width: 1\"/><line x1=\"52\" x2=\"52\" y1=\"97\" y2=\"52\" class=\"net_3 width_1\" style=\"stroke-width: 1\"/><line x1=\"52\" x2=\"77\" y1=\"52\" y2=\"52\" class=\"net_3 width_1\" style=\"stroke-width: 1\"/><line x1=\"42\" x2=\"87\" y1=\"162\" y2=\"162\" class=\"net_5 width_1\" style=\"stroke-width: 1\"/><line x1=\"87\" x2=\"87\" y1=\"162\" y2=\"57\" class=\"net_5 width_1\" style=\"stroke-width: 1\"/><line x1=\"97\" x2=\"132\" y1=\"42\" y2=\"42\" class=\"net_2 width_1\" style=\"stroke-width: 1\"/></svg>"
          },
          "metadata": {}
        }
      ]
    },
    {
      "cell_type": "code",
      "source": [
        "%%verilog\n",
        "module tb; wire out; reg a,b,s;\n",
        "  mux2 i1(out,a,b,s);\n",
        "  initial a=0; always #1 a=~a;\n",
        "  initial b=0; always #2 b=~b;\n",
        "  initial s=0; always #4 s=~s;\n",
        "  initial begin $dumpfile(\"tb.vcd\"); $dumpvars(); #10 $finish; $dumpoff; end\n",
        "  initial begin $monitor(\"%d out=%b a=%b b=%b s=%b\",$time,out,a,b,s); end\n",
        "endmodule\n",
        "\n",
        "module mux2(out,a,b,s); output out; reg out; input a,b,s;\n",
        "  always @ (a or b or s) begin if (s==1'b1) out=a; else out=b; end\n",
        "endmodule"
      ],
      "metadata": {
        "colab": {
          "base_uri": "https://localhost:8080/"
        },
        "id": "RH29Y73wWMBY",
        "outputId": "6a4bb5d4-83dd-4c4c-df13-4983d313c54e"
      },
      "execution_count": null,
      "outputs": [
        {
          "output_type": "stream",
          "name": "stdout",
          "text": [
            "VCD info: dumpfile tb.vcd opened for output.\n",
            "                   0 out=0 a=0 b=0 s=0\n",
            "                   1 out=0 a=1 b=0 s=0\n",
            "                   2 out=1 a=0 b=1 s=0\n",
            "                   3 out=1 a=1 b=1 s=0\n",
            "                   4 out=0 a=0 b=0 s=1\n",
            "                   5 out=1 a=1 b=0 s=1\n",
            "                   6 out=0 a=0 b=1 s=1\n",
            "                   7 out=1 a=1 b=1 s=1\n",
            "                   8 out=0 a=0 b=0 s=0\n",
            "                   9 out=0 a=1 b=0 s=0\n",
            "                  10 out=1 a=0 b=1 s=0\n",
            "\n"
          ]
        }
      ]
    },
    {
      "cell_type": "code",
      "source": [
        "%%waveform tb.vcd\n",
        "sign_list = ['tb.out','tb.a','tb.b','tb.s']\n",
        "time_begin = 0\n",
        "time_end = 13\n",
        "base = 'bin' # bin, dec, dec2, hex, octal"
      ],
      "metadata": {
        "colab": {
          "base_uri": "https://localhost:8080/",
          "height": 316
        },
        "id": "DHjnhzUNXabR",
        "outputId": "4bc7a9ff-bcd2-4a0e-8ed8-7f12f87540e4"
      },
      "execution_count": null,
      "outputs": [
        {
          "output_type": "display_data",
          "data": {
            "text/plain": [
              "<Figure size 1400x500 with 1 Axes>"
            ],
            "image/png": "[encoded data removed]"
          },
          "metadata": {}
        }
      ]
    },
    {
      "cell_type": "markdown",
      "source": [
        "![](https://github.com/pe8sutd/DSL2025/blob/main/VerilogColab1/Slide92.PNG?raw=1)"
      ],
      "metadata": {
        "id": "FRnDKDquunZv"
      }
    },
    {
      "cell_type": "markdown",
      "source": [
        "### Q2"
      ],
      "metadata": {
        "id": "GoVF08rfX8k4"
      }
    },
    {
      "cell_type": "markdown",
      "source": [
        "Modify the multiplexer by only include \"s\" in the sensitivity list. Rerun the simulation, can you spot the difference?"
      ],
      "metadata": {
        "id": "t1h8jHyYYqw5"
      }
    },
    {
      "cell_type": "code",
      "source": [
        "%%print_verilog\n",
        "module mux2(out,a,b,s); output out; reg out; input a,b,s;\n",
        "  always @ (s) begin if (s==1'b1) out=a; else out=b; end\n",
        "endmodule"
      ],
      "metadata": {
        "colab": {
          "base_uri": "https://localhost:8080/",
          "height": 205
        },
        "id": "czR-SZazY5zU",
        "outputId": "2896ee6d-d204-4593-f8fc-facc09c62cdc"
      },
      "execution_count": null,
      "outputs": [
        {
          "output_type": "display_data",
          "data": {
            "text/plain": [
              "<IPython.core.display.SVG object>"
            ],
            "image/svg+xml": "<svg xmlns=\"http://www.w3.org/2000/svg\" xmlns:xlink=\"http://www.w3.org/1999/xlink\" xmlns:s=\"https://github.com/nturley/netlistsvg\" width=\"174\" height=\"184\"><style>svg {\n  stroke:#000;\n  fill:none;\n}\ntext {\n  fill:#000;\n  stroke:none;\n  font-size:10px;\n  font-weight: bold;\n  font-family: &quot;Courier New&quot;, monospace;\n}\nline {\n    stroke-linecap: round;\n}\n.nodelabel {\n  text-anchor: middle;\n}\n.inputPortLabel {\n  text-anchor: end;\n}\n.splitjoinBody {\n  fill:#000;\n}</style><g s:type=\"mux\" transform=\"translate(77,22)\" s:width=\"20\" s:height=\"40\" id=\"cell_$procmux$4\"><s:alias val=\"$pmux\"/><s:alias val=\"$mux\"/><s:alias val=\"$_MUX_\"/><path d=\"M0,0 L20,10 L20,30 L0,40 Z\" class=\"cell_$procmux$4\"/><text x=\"5\" y=\"32\" class=\"nodelabel cell_$procmux$4\" s:attribute=\"\">1</text><text x=\"5\" y=\"13\" class=\"nodelabel cell_$procmux$4\" s:attribute=\"\">0</text><g s:x=\"0\" s:y=\"10\" s:pid=\"A\"/><g s:x=\"0\" s:y=\"30\" s:pid=\"B\"/><g s:x=\"10\" s:y=\"35\" s:pid=\"S\"/><g s:x=\"20\" s:y=\"20\" s:pid=\"Y\"/></g><g s:type=\"outputExt\" transform=\"translate(132,32)\" s:width=\"30\" s:height=\"20\" id=\"cell_out\"><text x=\"15\" y=\"-4\" class=\"nodelabel cell_out\" s:attribute=\"ref\">out</text><s:alias val=\"$_outputExt_\"/><path d=\"M30,0 L30,20 L15,20 L0,10 L15,0 Z\" class=\"cell_out\"/><g s:x=\"0\" s:y=\"10\" s:pid=\"A\"/></g><g s:type=\"inputExt\" transform=\"translate(12,87)\" s:width=\"30\" s:height=\"20\" id=\"cell_a\"><text x=\"15\" y=\"-4\" class=\"nodelabel cell_a\" s:attribute=\"ref\">a</text><s:alias val=\"$_inputExt_\"/><path d=\"M0,0 L0,20 L15,20 L30,10 L15,0 Z\" class=\"cell_a\"/><g s:x=\"30\" s:y=\"10\" s:pid=\"Y\"/></g><g s:type=\"inputExt\" transform=\"translate(12,22)\" s:width=\"30\" s:height=\"20\" id=\"cell_b\"><text x=\"15\" y=\"-4\" class=\"nodelabel cell_b\" s:attribute=\"ref\">b</text><s:alias val=\"$_inputExt_\"/><path d=\"M0,0 L0,20 L15,20 L30,10 L15,0 Z\" class=\"cell_b\"/><g s:x=\"30\" s:y=\"10\" s:pid=\"Y\"/></g><g s:type=\"inputExt\" transform=\"translate(12,152)\" s:width=\"30\" s:height=\"20\" id=\"cell_s\"><text x=\"15\" y=\"-4\" class=\"nodelabel cell_s\" s:attribute=\"ref\">s</text><s:alias val=\"$_inputExt_\"/><path d=\"M0,0 L0,20 L15,20 L30,10 L15,0 Z\" class=\"cell_s\"/><g s:x=\"30\" s:y=\"10\" s:pid=\"Y\"/></g><line x1=\"42\" x2=\"77\" y1=\"32\" y2=\"32\" class=\"net_4 width_1\" style=\"stroke-width: 1\"/><line x1=\"42\" x2=\"52\" y1=\"97\" y2=\"97\" class=\"net_3 width_1\" style=\"stroke-width: 1\"/><line x1=\"52\" x2=\"52\" y1=\"97\" y2=\"52\" class=\"net_3 width_1\" style=\"stroke-width: 1\"/><line x1=\"52\" x2=\"77\" y1=\"52\" y2=\"52\" class=\"net_3 width_1\" style=\"stroke-width: 1\"/><line x1=\"42\" x2=\"87\" y1=\"162\" y2=\"162\" class=\"net_5 width_1\" style=\"stroke-width: 1\"/><line x1=\"87\" x2=\"87\" y1=\"162\" y2=\"57\" class=\"net_5 width_1\" style=\"stroke-width: 1\"/><line x1=\"97\" x2=\"132\" y1=\"42\" y2=\"42\" class=\"net_2 width_1\" style=\"stroke-width: 1\"/></svg>"
          },
          "metadata": {}
        }
      ]
    },
    {
      "cell_type": "code",
      "source": [
        "%%verilog\n",
        "module tb; wire out; reg a,b,s;\n",
        "  mux2 i1(out,a,b,s);\n",
        "  initial a=0; always #1 a=~a;\n",
        "  initial b=0; always #2 b=~b;\n",
        "  initial s=0; always #4 s=~s;\n",
        "  initial begin $dumpfile(\"tb.vcd\"); $dumpvars(); #10 $finish; $dumpoff; end\n",
        "  initial begin $monitor(\"%d out=%b a=%b b=%b s=%b\",$time,out,a,b,s); end\n",
        "endmodule\n",
        "\n",
        "module mux2(out,a,b,s); output out; reg out; input a,b,s;\n",
        "  always @ (s) begin if (s==1'b1) out=a; else out=b; end\n",
        "endmodule"
      ],
      "metadata": {
        "outputId": "4c721ccc-3fac-4220-93ad-4b3527b15bd3",
        "colab": {
          "base_uri": "https://localhost:8080/"
        },
        "id": "ReeENIvvYHDj"
      },
      "execution_count": null,
      "outputs": [
        {
          "output_type": "stream",
          "name": "stdout",
          "text": [
            "VCD info: dumpfile tb.vcd opened for output.\n",
            "                   0 out=0 a=0 b=0 s=0\n",
            "                   1 out=0 a=1 b=0 s=0\n",
            "                   2 out=0 a=0 b=1 s=0\n",
            "                   3 out=0 a=1 b=1 s=0\n",
            "                   4 out=0 a=0 b=0 s=1\n",
            "                   5 out=0 a=1 b=0 s=1\n",
            "                   6 out=0 a=0 b=1 s=1\n",
            "                   7 out=0 a=1 b=1 s=1\n",
            "                   8 out=0 a=0 b=0 s=0\n",
            "                   9 out=0 a=1 b=0 s=0\n",
            "                  10 out=0 a=0 b=1 s=0\n",
            "\n"
          ]
        }
      ]
    },
    {
      "cell_type": "code",
      "source": [
        "%%waveform tb.vcd\n",
        "sign_list = ['tb.out','tb.a','tb.b','tb.s']\n",
        "time_begin = 0\n",
        "time_end = 13\n",
        "base = 'bin' # bin, dec, dec2, hex, octal"
      ],
      "metadata": {
        "colab": {
          "base_uri": "https://localhost:8080/",
          "height": 272
        },
        "id": "O51VaD4vX_sg",
        "outputId": "9e522ec9-a644-440a-a39a-0064fbeea4d8"
      },
      "execution_count": null,
      "outputs": [
        {
          "output_type": "display_data",
          "data": {
            "text/plain": [
              "<Figure size 1400x500 with 1 Axes>"
            ],
            "image/png": "[encoded data removed]"
          },
          "metadata": {}
        }
      ]
    },
    {
      "cell_type": "markdown",
      "source": [
        "### Q3 PISO"
      ],
      "metadata": {
        "id": "auZeJiMlmVW8"
      }
    },
    {
      "cell_type": "markdown",
      "source": [
        "Using the DFF, multiplexor to design a 4-bit PISO (parallel in serial out) shift register / circuit. Assume\n",
        "- input: 4-bit parallel data, pi[3:0];  \n",
        "- input: 1-bit serial data, si;\n",
        "- input: Clock, S (high to select PIPO, low to select PISO);\n",
        "- output: 4-bit parallel data, po[3:0];\n",
        "- output: 1-bit serial data so;\n",
        "- the DFF does not have Clear, thus ignore Clear for the time being;"
      ],
      "metadata": {
        "id": "RlpR3LgEmZIk"
      }
    },
    {
      "cell_type": "code",
      "source": [],
      "metadata": {
        "id": "D-vcnM-1muRg"
      },
      "execution_count": null,
      "outputs": []
    },
    {
      "cell_type": "code",
      "source": [],
      "metadata": {
        "id": "OJICDdJCmt_c"
      },
      "execution_count": null,
      "outputs": []
    },
    {
      "cell_type": "markdown",
      "source": [
        "## Decoder"
      ],
      "metadata": {
        "id": "8RZHYs0OPzXw"
      }
    },
    {
      "cell_type": "markdown",
      "source": [
        "![](https://github.com/pe8sutd/DSL2025/blob/main/VerilogColab1/Slide93.PNG?raw=1)"
      ],
      "metadata": {
        "id": "paVc45Lcuq6f"
      }
    },
    {
      "cell_type": "markdown",
      "source": [
        "![](https://github.com/pe8sutd/DSL2025/blob/main/VerilogColab1/Slide94.PNG?raw=1)"
      ],
      "metadata": {
        "id": "m-D-yKlgutxP"
      }
    },
    {
      "cell_type": "markdown",
      "source": [
        "![](https://github.com/pe8sutd/DSL2025/blob/main/VerilogColab1/Slide95.PNG?raw=1)"
      ],
      "metadata": {
        "id": "SFbsxU8kuwR3"
      }
    },
    {
      "cell_type": "markdown",
      "source": [
        "![](https://github.com/pe8sutd/DSL2025/blob/main/VerilogColab1/Slide96.PNG?raw=1)"
      ],
      "metadata": {
        "id": "WpTa83Myu0I_"
      }
    },
    {
      "cell_type": "markdown",
      "source": [
        "### Q1"
      ],
      "metadata": {
        "id": "UKs7cqosCA5x"
      }
    },
    {
      "cell_type": "markdown",
      "source": [
        "Create module of the decoder and verify with a testbench."
      ],
      "metadata": {
        "id": "2iqENLqOCCwh"
      }
    },
    {
      "cell_type": "code",
      "source": [
        "%%verilog\n",
        "module tb; wire [7:0] out; reg [2:0] in;\n",
        "  d3_8 i1(out,in);\n",
        "  initial in[2]=0; always #4 in[2]=~in[2];\n",
        "  initial in[1]=0; always #2 in[1]=~in[1];\n",
        "  initial in[0]=0; always #1 in[0]=~in[0];\n",
        "  initial begin $dumpfile(\"tb.vcd\"); $dumpvars(); #7 $finish; $dumpoff; end\n",
        "  initial begin $monitor(\"%d in=3'b%b out=8'h%h\",$time,in,out); end\n",
        "endmodule\n",
        "\n",
        "module d3_8 (output reg [7:0] out, input [2:0] in);\n",
        "  always @ (in) begin case(in)\n",
        "    3'b000: out=8'h01; 3'b001: out=8'h02; 3'b010: out=8'h04; 3'b011: out=8'h08;\n",
        "    3'b100: out=8'h10; 3'b101: out=8'h20; 3'b110: out=8'h30; 3'b111: out=8'h40;\n",
        "  endcase end\n",
        "endmodule"
      ],
      "metadata": {
        "colab": {
          "base_uri": "https://localhost:8080/"
        },
        "id": "rYQyZaHf1lDz",
        "outputId": "6a748497-f926-4361-aeaf-1e4c6491c8fd"
      },
      "execution_count": null,
      "outputs": [
        {
          "output_type": "stream",
          "name": "stdout",
          "text": [
            "VCD info: dumpfile tb.vcd opened for output.\n",
            "                   0 in=3'b000 out=8'h01\n",
            "                   1 in=3'b001 out=8'h02\n",
            "                   2 in=3'b010 out=8'h04\n",
            "                   3 in=3'b011 out=8'h08\n",
            "                   4 in=3'b100 out=8'h10\n",
            "                   5 in=3'b101 out=8'h20\n",
            "                   6 in=3'b110 out=8'h30\n",
            "                   7 in=3'b111 out=8'h40\n",
            "\n"
          ]
        }
      ]
    },
    {
      "cell_type": "code",
      "source": [
        "%%waveform tb.vcd\n",
        "sign_list = ['tb.out','tb.in']\n",
        "time_begin = 0\n",
        "time_end = 7\n",
        "base = 'hex' # bin, dec, dec2, hex, octal"
      ],
      "metadata": {
        "colab": {
          "base_uri": "https://localhost:8080/",
          "height": 291
        },
        "id": "6Peb9CdOBbKT",
        "outputId": "02ac77e0-695f-42d2-9729-999e43af2809"
      },
      "execution_count": null,
      "outputs": [
        {
          "output_type": "display_data",
          "data": {
            "text/plain": [
              "<Figure size 800x300 with 1 Axes>"
            ],
            "image/png": "[encoded data removed]"
          },
          "metadata": {}
        }
      ]
    },
    {
      "cell_type": "markdown",
      "source": [
        "### Q2"
      ],
      "metadata": {
        "id": "qkslBDR_Cznv"
      }
    },
    {
      "cell_type": "markdown",
      "source": [
        "If the case is only from 3'b000 to 3'b110, with no change for the corresponding outputs. Create the module and testbench, test for input from 3'b000 to 3'b111. What is the output for input 3'b111? How to resolve such undefined input in case statement?"
      ],
      "metadata": {
        "id": "q6A7uyYzC1hC"
      }
    },
    {
      "cell_type": "code",
      "source": [
        "%%verilog\n",
        "module tb; wire [7:0] out; reg [2:0] in;\n",
        "  d3_8 i1(out,in);\n",
        "  initial in[2]=0; always #4 in[2]=~in[2];\n",
        "  initial in[1]=0; always #2 in[1]=~in[1];\n",
        "  initial in[0]=0; always #1 in[0]=~in[0];\n",
        "  initial begin $dumpfile(\"tb.vcd\"); $dumpvars(); #9 $finish; $dumpoff; end\n",
        "  initial begin $monitor(\"%d in=3'b%b out=8'h%h\",$time,in,out); end\n",
        "endmodule\n",
        "\n",
        "module d3_8 (output reg [7:0] out, input [2:0] in);\n",
        "  always @ (in) begin case(in)\n",
        "    3'b000: out=8'h01; 3'b001: out=8'h02; 3'b010: out=8'h04; 3'b011: out=8'h08;\n",
        "    3'b100: out=8'h10; 3'b101: out=8'h20; 3'b110: out=8'h30;\n",
        "  endcase end\n",
        "endmodule"
      ],
      "metadata": {
        "colab": {
          "base_uri": "https://localhost:8080/"
        },
        "id": "piB7Ku5YDfBs",
        "outputId": "1f28eea1-2fc1-4db5-81ea-43cb93fb705c"
      },
      "execution_count": null,
      "outputs": [
        {
          "output_type": "stream",
          "name": "stdout",
          "text": [
            "VCD info: dumpfile tb.vcd opened for output.\n",
            "                   0 in=3'b000 out=8'h01\n",
            "                   1 in=3'b001 out=8'h02\n",
            "                   2 in=3'b010 out=8'h04\n",
            "                   3 in=3'b011 out=8'h08\n",
            "                   4 in=3'b100 out=8'h10\n",
            "                   5 in=3'b101 out=8'h20\n",
            "                   6 in=3'b110 out=8'h30\n",
            "                   7 in=3'b111 out=8'h30\n",
            "                   8 in=3'b000 out=8'h01\n",
            "                   9 in=3'b001 out=8'h02\n",
            "\n"
          ]
        }
      ]
    },
    {
      "cell_type": "code",
      "source": [
        "%%waveform tb.vcd\n",
        "sign_list = ['tb.out','tb.in']\n",
        "time_begin = 0\n",
        "time_end = 9\n",
        "base = 'hex' # bin, dec, dec2, hex, octal"
      ],
      "metadata": {
        "colab": {
          "base_uri": "https://localhost:8080/",
          "height": 279
        },
        "id": "K2NTcYDbDfmj",
        "outputId": "fd7363d4-73af-4dbc-f6b0-416e75848923"
      },
      "execution_count": null,
      "outputs": [
        {
          "output_type": "display_data",
          "data": {
            "text/plain": [
              "<Figure size 1000x300 with 1 Axes>"
            ],
            "image/png": "[encoded data removed]"
          },
          "metadata": {}
        }
      ]
    },
    {
      "cell_type": "markdown",
      "source": [
        "For undefined input, case statement often requires a 'default' output."
      ],
      "metadata": {
        "id": "l8MYxFuhEOWM"
      }
    },
    {
      "cell_type": "code",
      "source": [
        "%%verilog\n",
        "module tb; wire [7:0] out; reg [2:0] in;\n",
        "  d3_8 i1(out,in);\n",
        "  initial in[2]=0; always #4 in[2]=~in[2];\n",
        "  initial in[1]=0; always #2 in[1]=~in[1];\n",
        "  initial in[0]=0; always #1 in[0]=~in[0];\n",
        "  initial begin $dumpfile(\"tb.vcd\"); $dumpvars(); #9 $finish; $dumpoff; end\n",
        "  initial begin $monitor(\"%d in=3'b%b out=8'h%h\",$time,in,out); end\n",
        "endmodule\n",
        "\n",
        "module d3_8 (output reg [7:0] out, input [2:0] in);\n",
        "  always @ (in) begin case(in)\n",
        "    3'b000: out=8'h01; 3'b001: out=8'h02; 3'b010: out=8'h04; 3'b011: out=8'h08;\n",
        "    3'b100: out=8'h10; 3'b101: out=8'h20; 3'b110: out=8'h30; default: out=8'h00;\n",
        "  endcase end\n",
        "endmodule"
      ],
      "metadata": {
        "colab": {
          "base_uri": "https://localhost:8080/"
        },
        "id": "kRka-bi-Eb6b",
        "outputId": "79741476-b8b9-4746-b484-d3c8d75d2ce4"
      },
      "execution_count": null,
      "outputs": [
        {
          "output_type": "stream",
          "name": "stdout",
          "text": [
            "VCD info: dumpfile tb.vcd opened for output.\n",
            "                   0 in=3'b000 out=8'h01\n",
            "                   1 in=3'b001 out=8'h02\n",
            "                   2 in=3'b010 out=8'h04\n",
            "                   3 in=3'b011 out=8'h08\n",
            "                   4 in=3'b100 out=8'h10\n",
            "                   5 in=3'b101 out=8'h20\n",
            "                   6 in=3'b110 out=8'h30\n",
            "                   7 in=3'b111 out=8'h00\n",
            "                   8 in=3'b000 out=8'h01\n",
            "                   9 in=3'b001 out=8'h02\n",
            "\n"
          ]
        }
      ]
    },
    {
      "cell_type": "code",
      "source": [
        "%%waveform tb.vcd\n",
        "sign_list = ['tb.out','tb.in']\n",
        "time_begin = 0\n",
        "time_end = 9\n",
        "base = 'hex' # bin, dec, dec2, hex, octal"
      ],
      "metadata": {
        "colab": {
          "base_uri": "https://localhost:8080/",
          "height": 279
        },
        "id": "ONMb_bbrEcV8",
        "outputId": "5ceb53ac-0fc7-47ed-f17f-af09da6d41c0"
      },
      "execution_count": null,
      "outputs": [
        {
          "output_type": "display_data",
          "data": {
            "text/plain": [
              "<Figure size 1000x300 with 1 Axes>"
            ],
            "image/png": "[encoded data removed]"
          },
          "metadata": {}
        }
      ]
    },
    {
      "cell_type": "markdown",
      "source": [
        "## Synchronous"
      ],
      "metadata": {
        "id": "I-9AcbkkP4Zg"
      }
    },
    {
      "cell_type": "markdown",
      "source": [
        "![](https://github.com/pe8sutd/DSL2025/blob/main/VerilogColab1/Slide97.PNG?raw=1)"
      ],
      "metadata": {
        "id": "gAJdakSFu3HH"
      }
    },
    {
      "cell_type": "markdown",
      "source": [
        "![](https://github.com/pe8sutd/DSL2025/blob/main/VerilogColab1/Slide98.PNG?raw=1)"
      ],
      "metadata": {
        "id": "S_EracUiu5xv"
      }
    },
    {
      "cell_type": "markdown",
      "source": [
        "![](https://github.com/pe8sutd/DSL2025/blob/main/VerilogColab1/Slide99.PNG?raw=1)"
      ],
      "metadata": {
        "id": "WCyMlEWku76P"
      }
    },
    {
      "cell_type": "markdown",
      "source": [
        "![](https://github.com/pe8sutd/DSL2025/blob/main/VerilogColab2/Slide100.PNG?raw=1)"
      ],
      "metadata": {
        "id": "2JzRV_Ocu-NP"
      }
    },
    {
      "cell_type": "markdown",
      "source": [
        "![](https://github.com/pe8sutd/DSL2025/blob/main/VerilogColab2/Slide101.PNG?raw=1)"
      ],
      "metadata": {
        "id": "QcDHfNKovVEv"
      }
    },
    {
      "cell_type": "markdown",
      "source": [
        "![](https://github.com/pe8sutd/DSL2025/blob/main/VerilogColab2/Slide102.PNG?raw=1)"
      ],
      "metadata": {
        "id": "vutKcDGrvU6P"
      }
    },
    {
      "cell_type": "markdown",
      "source": [
        "### Q1"
      ],
      "metadata": {
        "id": "vzrpo9Aya4Hd"
      }
    },
    {
      "cell_type": "markdown",
      "source": [
        "Create a DFF with synchronous reset, and setup a testbench to verify this DFF. You need to show the reset is synchronous with clock signal, which is positive edge in this case. You also need to show the q follows d at the rising edge of the clock when reset is low."
      ],
      "metadata": {
        "id": "9oeG-2zlobHH"
      }
    },
    {
      "cell_type": "code",
      "source": [
        "%%print_verilog\n",
        "module dff(output reg q,qb, input clk,d,rst);\n",
        "always @ (posedge clk) begin if(rst) begin q=0;qb=~q; end else begin q=d;qb=~q; end end\n",
        "endmodule"
      ],
      "metadata": {
        "collapsed": true,
        "colab": {
          "base_uri": "https://localhost:8080/",
          "height": 296
        },
        "id": "gQFfhwJOa5YM",
        "outputId": "764ad547-790c-4718-9af3-a8d887b6b768"
      },
      "execution_count": null,
      "outputs": [
        {
          "output_type": "display_data",
          "data": {
            "text/plain": [
              "<IPython.core.display.SVG object>"
            ],
            "image/svg+xml": "<svg xmlns=\"http://www.w3.org/2000/svg\" xmlns:xlink=\"http://www.w3.org/1999/xlink\" xmlns:s=\"https://github.com/nturley/netlistsvg\" width=\"317\" height=\"275\"><style>svg {\n  stroke:#000;\n  fill:none;\n}\ntext {\n  fill:#000;\n  stroke:none;\n  font-size:10px;\n  font-weight: bold;\n  font-family: &quot;Courier New&quot;, monospace;\n}\nline {\n    stroke-linecap: round;\n}\n.nodelabel {\n  text-anchor: middle;\n}\n.inputPortLabel {\n  text-anchor: end;\n}\n.splitjoinBody {\n  fill:#000;\n}</style><g s:type=\"not\" transform=\"translate(78,12)\" s:width=\"30\" s:height=\"20\" id=\"cell_$not$/content/code.v:2$3\"><s:alias val=\"$_NOT_\"/><s:alias val=\"$not\"/><s:alias val=\"$logic_not\"/><path d=\"M0,0 L0,20 L20,10 Z\" class=\"cell_$not$/content/code.v:2$3\"/><circle cx=\"24\" cy=\"10\" r=\"3\" class=\"cell_$not$/content/code.v:2$3\"/><g s:x=\"-1\" s:y=\"10\" s:pid=\"A\"/><g s:x=\"27\" s:y=\"10\" s:pid=\"Y\"/></g><g s:type=\"dff\" transform=\"translate(209,223)\" s:width=\"30\" s:height=\"40\" id=\"cell_$procdff$10\"><s:alias val=\"$dff\"/><s:alias val=\"$_DFF_\"/><s:alias val=\"$_DFF_P_\"/><s:alias val=\"$adff\"/><s:alias val=\"$_DFF_\"/><s:alias val=\"$_DFF_P_\"/><s:alias val=\"$sdff\"/><s:alias val=\"$_DFF_\"/><s:alias val=\"$_DFF_P_\"/><rect width=\"30\" height=\"40\" x=\"0\" y=\"0\" class=\"cell_$procdff$10\"/><path d=\"M0,35 L5,30 L0,25\" class=\"cell_$procdff$10\"/><g s:x=\"31\" s:y=\"10\" s:pid=\"Q\"/><g s:x=\"-1\" s:y=\"30\" s:pid=\"CLK\"/><g s:x=\"-1\" s:y=\"30\" s:pid=\"C\"/><g s:x=\"-1\" s:y=\"10\" s:pid=\"D\"/><g s:x=\"15\" s:y=\"40\" s:pid=\"ARST\"/><g s:x=\"15\" s:y=\"40\" s:pid=\"SRST\"/></g><g s:type=\"dff\" transform=\"translate(209,138)\" s:width=\"30\" s:height=\"40\" id=\"cell_$procdff$11\"><s:alias val=\"$dff\"/><s:alias val=\"$_DFF_\"/><s:alias val=\"$_DFF_P_\"/><s:alias val=\"$adff\"/><s:alias val=\"$_DFF_\"/><s:alias val=\"$_DFF_P_\"/><s:alias val=\"$sdff\"/><s:alias val=\"$_DFF_\"/><s:alias val=\"$_DFF_P_\"/><rect width=\"30\" height=\"40\" x=\"0\" y=\"0\" class=\"cell_$procdff$11\"/><path d=\"M0,35 L5,30 L0,25\" class=\"cell_$procdff$11\"/><g s:x=\"31\" s:y=\"10\" s:pid=\"Q\"/><g s:x=\"-1\" s:y=\"30\" s:pid=\"CLK\"/><g s:x=\"-1\" s:y=\"30\" s:pid=\"C\"/><g s:x=\"-1\" s:y=\"10\" s:pid=\"D\"/><g s:x=\"15\" s:y=\"40\" s:pid=\"ARST\"/><g s:x=\"15\" s:y=\"40\" s:pid=\"SRST\"/></g><g s:type=\"mux\" transform=\"translate(146.33333333333334,57)\" s:width=\"20\" s:height=\"40\" id=\"cell_$procmux$5\"><s:alias val=\"$pmux\"/><s:alias val=\"$mux\"/><s:alias val=\"$_MUX_\"/><path d=\"M0,0 L20,10 L20,30 L0,40 Z\" class=\"cell_$procmux$5\"/><text x=\"5\" y=\"32\" class=\"nodelabel cell_$procmux$5\" s:attribute=\"\">1</text><text x=\"5\" y=\"13\" class=\"nodelabel cell_$procmux$5\" s:attribute=\"\">0</text><g s:x=\"0\" s:y=\"10\" s:pid=\"A\"/><g s:x=\"0\" s:y=\"30\" s:pid=\"B\"/><g s:x=\"10\" s:y=\"35\" s:pid=\"S\"/><g s:x=\"20\" s:y=\"20\" s:pid=\"Y\"/></g><g s:type=\"mux\" transform=\"translate(146.33333333333334,213)\" s:width=\"20\" s:height=\"40\" id=\"cell_$procmux$8\"><s:alias val=\"$pmux\"/><s:alias val=\"$mux\"/><s:alias val=\"$_MUX_\"/><path d=\"M0,0 L20,10 L20,30 L0,40 Z\" class=\"cell_$procmux$8\"/><text x=\"5\" y=\"32\" class=\"nodelabel cell_$procmux$8\" s:attribute=\"\">1</text><text x=\"5\" y=\"13\" class=\"nodelabel cell_$procmux$8\" s:attribute=\"\">0</text><g s:x=\"0\" s:y=\"10\" s:pid=\"A\"/><g s:x=\"0\" s:y=\"30\" s:pid=\"B\"/><g s:x=\"10\" s:y=\"35\" s:pid=\"S\"/><g s:x=\"20\" s:y=\"20\" s:pid=\"Y\"/></g><g s:type=\"outputExt\" transform=\"translate(275,223)\" s:width=\"30\" s:height=\"20\" id=\"cell_q\"><text x=\"15\" y=\"-4\" class=\"nodelabel cell_q\" s:attribute=\"ref\">q</text><s:alias val=\"$_outputExt_\"/><path d=\"M30,0 L30,20 L15,20 L0,10 L15,0 Z\" class=\"cell_q\"/><g s:x=\"0\" s:y=\"10\" s:pid=\"A\"/></g><g s:type=\"outputExt\" transform=\"translate(275,138)\" s:width=\"30\" s:height=\"20\" id=\"cell_qb\"><text x=\"15\" y=\"-4\" class=\"nodelabel cell_qb\" s:attribute=\"ref\">qb</text><s:alias val=\"$_outputExt_\"/><path d=\"M30,0 L30,20 L15,20 L0,10 L15,0 Z\" class=\"cell_qb\"/><g s:x=\"0\" s:y=\"10\" s:pid=\"A\"/></g><g s:type=\"inputExt\" transform=\"translate(143,158)\" s:width=\"30\" s:height=\"20\" id=\"cell_clk\"><text x=\"15\" y=\"-4\" class=\"nodelabel cell_clk\" s:attribute=\"ref\">clk</text><s:alias val=\"$_inputExt_\"/><path d=\"M0,0 L0,20 L15,20 L30,10 L15,0 Z\" class=\"cell_clk\"/><g s:x=\"30\" s:y=\"10\" s:pid=\"Y\"/></g><g s:type=\"inputExt\" transform=\"translate(12,97)\" s:width=\"30\" s:height=\"20\" id=\"cell_d\"><text x=\"15\" y=\"-4\" class=\"nodelabel cell_d\" s:attribute=\"ref\">d</text><s:alias val=\"$_inputExt_\"/><path d=\"M0,0 L0,20 L15,20 L30,10 L15,0 Z\" class=\"cell_d\"/><g s:x=\"30\" s:y=\"10\" s:pid=\"Y\"/></g><g s:type=\"inputExt\" transform=\"translate(77,128)\" s:width=\"30\" s:height=\"20\" id=\"cell_rst\"><text x=\"15\" y=\"-4\" class=\"nodelabel cell_rst\" s:attribute=\"ref\">rst</text><s:alias val=\"$_inputExt_\"/><path d=\"M0,0 L0,20 L15,20 L30,10 L15,0 Z\" class=\"cell_rst\"/><g s:x=\"30\" s:y=\"10\" s:pid=\"Y\"/></g><g s:type=\"constant\" transform=\"translate(77,77)\" s:width=\"30\" s:height=\"20\" id=\"cell_1\"><text x=\"15\" y=\"-4\" class=\"nodelabel cell_1\" s:attribute=\"ref\">1</text><s:alias val=\"$_constant_\"/><rect width=\"30\" height=\"20\" class=\"cell_1\"/><g s:x=\"31\" s:y=\"10\" s:pid=\"Y\"/></g><g s:type=\"constant\" transform=\"translate(77,233)\" s:width=\"30\" s:height=\"20\" id=\"cell_0\"><text x=\"15\" y=\"-4\" class=\"nodelabel cell_0\" s:attribute=\"ref\">0</text><s:alias val=\"$_constant_\"/><rect width=\"30\" height=\"20\" class=\"cell_0\"/><g s:x=\"31\" s:y=\"10\" s:pid=\"Y\"/></g><line x1=\"42\" x2=\"52\" y1=\"107\" y2=\"107\" class=\"net_5 width_1\" style=\"stroke-width: 1\"/><line x1=\"52\" x2=\"52\" y1=\"107\" y2=\"22\" class=\"net_5 width_1\" style=\"stroke-width: 1\"/><circle cx=\"52\" cy=\"107\" r=\"2\" style=\"fill:#000\" class=\"net_5 width_1\"/><line x1=\"52\" x2=\"77\" y1=\"22\" y2=\"22\" class=\"net_5 width_1\" style=\"stroke-width: 1\"/><line x1=\"42\" x2=\"128\" y1=\"107\" y2=\"107\" class=\"net_5 width_1\" style=\"stroke-width: 1\"/><line x1=\"128\" x2=\"128\" y1=\"107\" y2=\"223\" class=\"net_5 width_1\" style=\"stroke-width: 1\"/><line x1=\"128\" x2=\"146.33333333333334\" y1=\"223\" y2=\"223\" class=\"net_5 width_1\" style=\"stroke-width: 1\"/><line x1=\"173\" x2=\"183\" y1=\"168\" y2=\"168\" class=\"net_4 width_1\" style=\"stroke-width: 1\"/><line x1=\"183\" x2=\"183\" y1=\"168\" y2=\"253\" class=\"net_4 width_1\" style=\"stroke-width: 1\"/><circle cx=\"183\" cy=\"168\" r=\"2\" style=\"fill:#000\" class=\"net_4 width_1\"/><line x1=\"183\" x2=\"208\" y1=\"253\" y2=\"253\" class=\"net_4 width_1\" style=\"stroke-width: 1\"/><line x1=\"173\" x2=\"208\" y1=\"168\" y2=\"168\" class=\"net_4 width_1\" style=\"stroke-width: 1\"/><line x1=\"166.33333333333334\" x2=\"208\" y1=\"233\" y2=\"233\" class=\"net_8 width_1\" style=\"stroke-width: 1\"/><line x1=\"166.33333333333334\" x2=\"183\" y1=\"77\" y2=\"77\" class=\"net_9 width_1\" style=\"stroke-width: 1\"/><line x1=\"183\" x2=\"183\" y1=\"77\" y2=\"148\" class=\"net_9 width_1\" style=\"stroke-width: 1\"/><line x1=\"183\" x2=\"208\" y1=\"148\" y2=\"148\" class=\"net_9 width_1\" style=\"stroke-width: 1\"/><line x1=\"105\" x2=\"118\" y1=\"22\" y2=\"22\" class=\"net_7 width_1\" style=\"stroke-width: 1\"/><line x1=\"118\" x2=\"118\" y1=\"22\" y2=\"67\" class=\"net_7 width_1\" style=\"stroke-width: 1\"/><line x1=\"118\" x2=\"146.33333333333334\" y1=\"67\" y2=\"67\" class=\"net_7 width_1\" style=\"stroke-width: 1\"/><line x1=\"108\" x2=\"146.33333333333334\" y1=\"87\" y2=\"87\" class=\"net_10 width_1\" style=\"stroke-width: 1\"/><line x1=\"107\" x2=\"156.33333333333334\" y1=\"138\" y2=\"138\" class=\"net_6 width_1\" style=\"stroke-width: 1\"/><line x1=\"156.33333333333334\" x2=\"156.33333333333334\" y1=\"138\" y2=\"92\" class=\"net_6 width_1\" style=\"stroke-width: 1\"/><line x1=\"107\" x2=\"118\" y1=\"138\" y2=\"138\" class=\"net_6 width_1\" style=\"stroke-width: 1\"/><line x1=\"118\" x2=\"118\" y1=\"138\" y2=\"263\" class=\"net_6 width_1\" style=\"stroke-width: 1\"/><line x1=\"118\" x2=\"156.33333333333334\" y1=\"263\" y2=\"263\" class=\"net_6 width_1\" style=\"stroke-width: 1\"/><circle cx=\"118\" cy=\"138\" r=\"2\" style=\"fill:#000\" class=\"net_6 width_1\"/><line x1=\"156.33333333333334\" x2=\"156.33333333333334\" y1=\"263\" y2=\"248\" class=\"net_6 width_1\" style=\"stroke-width: 1\"/><line x1=\"108\" x2=\"146.33333333333334\" y1=\"243\" y2=\"243\" class=\"net_11 width_1\" style=\"stroke-width: 1\"/><line x1=\"240\" x2=\"275\" y1=\"233\" y2=\"233\" class=\"net_2 width_1\" style=\"stroke-width: 1\"/><line x1=\"240\" x2=\"275\" y1=\"148\" y2=\"148\" class=\"net_3 width_1\" style=\"stroke-width: 1\"/></svg>"
          },
          "metadata": {}
        }
      ]
    },
    {
      "cell_type": "code",
      "source": [
        "%%verilog\n",
        "module tb; wire q,qb; reg clk,d,rst;\n",
        "dff i1(q,qb,clk,d,rst);\n",
        "initial clk=0; always #1 clk=~clk;\n",
        "initial begin $dumpfile(\"tb.vcd\"); $dumpvars();\n",
        "  #0 rst=0;d=1; #2 rst=1; #2 rst=0; #2 d=0; #3 $finish; $dumpoff; end\n",
        "initial begin $monitor(\"%d q=%b; d=%b rst=%b clk=%b\",$time,q,d,rst,clk); end\n",
        "endmodule\n",
        "\n",
        "module dff(output reg q,qb, input clk,d,rst);\n",
        "always @ (posedge clk) begin if(rst) begin q=0;qb=~q; end else begin q=d;qb=~q; end end\n",
        "endmodule"
      ],
      "metadata": {
        "collapsed": true,
        "colab": {
          "base_uri": "https://localhost:8080/"
        },
        "id": "1D62UPQGdS_V",
        "outputId": "1204b8c7-c446-491b-c9ed-5386d09c0677"
      },
      "execution_count": null,
      "outputs": [
        {
          "output_type": "stream",
          "name": "stdout",
          "text": [
            "VCD info: dumpfile tb.vcd opened for output.\n",
            "                   0 q=x; d=1 rst=0 clk=0\n",
            "                   1 q=1; d=1 rst=0 clk=1\n",
            "                   2 q=1; d=1 rst=1 clk=0\n",
            "                   3 q=0; d=1 rst=1 clk=1\n",
            "                   4 q=0; d=1 rst=0 clk=0\n",
            "                   5 q=1; d=1 rst=0 clk=1\n",
            "                   6 q=1; d=0 rst=0 clk=0\n",
            "                   7 q=0; d=0 rst=0 clk=1\n",
            "                   8 q=0; d=0 rst=0 clk=0\n",
            "                   9 q=0; d=0 rst=0 clk=1\n",
            "\n"
          ]
        }
      ]
    },
    {
      "cell_type": "code",
      "source": [
        "%%waveform tb.vcd\n",
        "sign_list = ['tb.q','tb.clk','tb.d','tb.rst']\n",
        "time_begin = 0\n",
        "time_end = 9\n",
        "base = 'bin' # bin, dec, dec2, hex, octal"
      ],
      "metadata": {
        "collapsed": true,
        "colab": {
          "base_uri": "https://localhost:8080/",
          "height": 363
        },
        "id": "fksYSiuAgvaG",
        "outputId": "283c10b7-d101-446e-bd60-d4933d8de553"
      },
      "execution_count": null,
      "outputs": [
        {
          "output_type": "display_data",
          "data": {
            "text/plain": [
              "<Figure size 1000x500 with 1 Axes>"
            ],
            "image/png": "[encoded data removed]"
          },
          "metadata": {}
        }
      ]
    },
    {
      "cell_type": "markdown",
      "source": [
        "![](https://github.com/pe8sutd/DSL2025/blob/main/VerilogColab2/Slide103.PNG?raw=1)"
      ],
      "metadata": {
        "id": "9JVLkZfJvUmn"
      }
    },
    {
      "cell_type": "markdown",
      "source": [
        "![](https://github.com/pe8sutd/DSL2025/blob/main/VerilogColab2/Slide104.PNG?raw=1)"
      ],
      "metadata": {
        "id": "hztneRsmvUeo"
      }
    },
    {
      "cell_type": "markdown",
      "source": [
        "![](https://github.com/pe8sutd/DSL2025/blob/main/VerilogColab2/Slide105.PNG?raw=1)"
      ],
      "metadata": {
        "id": "hlSryUmqvzGe"
      }
    },
    {
      "cell_type": "markdown",
      "source": [
        "### Q2"
      ],
      "metadata": {
        "id": "R4ROBX8tkR_m"
      }
    },
    {
      "cell_type": "markdown",
      "source": [
        "Create a DFF that can be reset without depending on the clock signal."
      ],
      "metadata": {
        "id": "lBlimZDRpG9d"
      }
    },
    {
      "cell_type": "code",
      "source": [
        "%%verilog\n",
        "module tb; wire q,qb; reg clk,d,rst;\n",
        "dff i1(q,qb,clk,d,rst);\n",
        "initial clk=0; always #1 clk=~clk;\n",
        "initial begin $dumpfile(\"tb.vcd\"); $dumpvars();\n",
        "  #0 rst=0;d=1; #2 rst=1; #2 rst=0; #2 d=0; #3 $finish; $dumpoff; end\n",
        "initial begin $monitor(\"%d q=%b; d=%b rst=%b clk=%b\",$time,q,d,rst,clk); end\n",
        "endmodule\n",
        "\n",
        "module dff(output reg q,qb, input clk,d,rst);\n",
        "always @ (posedge clk or posedge rst) begin if(rst) begin q=0;qb=~q; end else begin q=d;qb=~q; end end\n",
        "endmodule"
      ],
      "metadata": {
        "colab": {
          "base_uri": "https://localhost:8080/"
        },
        "id": "HRYJPmA1kSh0",
        "outputId": "4b5f5f01-3040-480c-9915-fa6142006244"
      },
      "execution_count": null,
      "outputs": [
        {
          "output_type": "stream",
          "name": "stdout",
          "text": [
            "VCD info: dumpfile tb.vcd opened for output.\n",
            "                   0 q=x; d=1 rst=0 clk=0\n",
            "                   1 q=1; d=1 rst=0 clk=1\n",
            "                   2 q=0; d=1 rst=1 clk=0\n",
            "                   3 q=0; d=1 rst=1 clk=1\n",
            "                   4 q=0; d=1 rst=0 clk=0\n",
            "                   5 q=1; d=1 rst=0 clk=1\n",
            "                   6 q=1; d=0 rst=0 clk=0\n",
            "                   7 q=0; d=0 rst=0 clk=1\n",
            "                   8 q=0; d=0 rst=0 clk=0\n",
            "                   9 q=0; d=0 rst=0 clk=1\n",
            "\n"
          ]
        }
      ]
    },
    {
      "cell_type": "code",
      "source": [
        "%%waveform tb.vcd\n",
        "sign_list = ['tb.q','tb.clk','tb.d','tb.rst']\n",
        "time_begin = 0\n",
        "time_end = 9\n",
        "base = 'bin' # bin, dec, dec2, hex, octal"
      ],
      "metadata": {
        "colab": {
          "base_uri": "https://localhost:8080/",
          "height": 465
        },
        "id": "j4NpGPn3klg0",
        "outputId": "54e989e1-c739-4f7e-83bd-f24e391a48ec"
      },
      "execution_count": null,
      "outputs": [
        {
          "output_type": "display_data",
          "data": {
            "text/plain": [
              "<Figure size 1000x500 with 1 Axes>"
            ],
            "image/png": "[encoded data removed]"
          },
          "metadata": {}
        }
      ]
    },
    {
      "cell_type": "markdown",
      "source": [
        "## Module Hierarchy"
      ],
      "metadata": {
        "id": "aa0G29RLQAe5"
      }
    },
    {
      "cell_type": "markdown",
      "source": [
        "![](https://github.com/pe8sutd/DSL2025/blob/main/VerilogColab2/Slide106.PNG?raw=1)"
      ],
      "metadata": {
        "id": "VkhZ0I3TvzCI"
      }
    },
    {
      "cell_type": "markdown",
      "source": [
        "![](https://github.com/pe8sutd/DSL2025/blob/main/VerilogColab2/Slide107.PNG?raw=1)"
      ],
      "metadata": {
        "id": "36G_b0AGvy-Q"
      }
    },
    {
      "cell_type": "markdown",
      "source": [
        "![](https://github.com/pe8sutd/DSL2025/blob/main/VerilogColab2/Slide108.PNG?raw=1)"
      ],
      "metadata": {
        "id": "QVV1UTmEvy6h"
      }
    },
    {
      "cell_type": "markdown",
      "source": [
        "![](https://github.com/pe8sutd/DSL2025/blob/main/VerilogColab2/Slide109.PNG?raw=1)"
      ],
      "metadata": {
        "id": "uF9RdNNrvy2p"
      }
    },
    {
      "cell_type": "markdown",
      "source": [
        "![](https://github.com/pe8sutd/DSL2025/blob/main/VerilogColab2/Slide110.PNG?raw=1)"
      ],
      "metadata": {
        "id": "nB1YZcjQvyy2"
      }
    },
    {
      "cell_type": "markdown",
      "source": [
        "![](https://github.com/pe8sutd/DSL2025/blob/main/VerilogColab2/Slide111.PNG?raw=1)"
      ],
      "metadata": {
        "id": "UfH4PA_nvytZ"
      }
    },
    {
      "cell_type": "markdown",
      "source": [
        "![](https://github.com/pe8sutd/DSL2025/blob/main/VerilogColab2/Slide112.PNG?raw=1)"
      ],
      "metadata": {
        "id": "evb9NfGTvyp0"
      }
    },
    {
      "cell_type": "markdown",
      "source": [
        "## Synthesis and Optimization"
      ],
      "metadata": {
        "id": "ojLTzO-bQGZh"
      }
    },
    {
      "cell_type": "markdown",
      "source": [
        "![](https://github.com/pe8sutd/DSL2025/blob/main/VerilogColab2/Slide113.PNG?raw=1)"
      ],
      "metadata": {
        "id": "IjELAXYbvymc"
      }
    },
    {
      "cell_type": "markdown",
      "source": [
        "![](https://github.com/pe8sutd/DSL2025/blob/main/VerilogColab2/Slide114.PNG?raw=1)"
      ],
      "metadata": {
        "id": "26Qilc7Avyi4"
      }
    },
    {
      "cell_type": "markdown",
      "source": [
        "![](https://github.com/pe8sutd/DSL2025/blob/main/VerilogColab2/Slide115.PNG?raw=1)"
      ],
      "metadata": {
        "id": "FVa-a1Mgvyfg"
      }
    },
    {
      "cell_type": "markdown",
      "source": [
        "![](https://github.com/pe8sutd/DSL2025/blob/main/VerilogColab2/Slide116.PNG?raw=1)"
      ],
      "metadata": {
        "id": "uU7z7TODvybb"
      }
    },
    {
      "cell_type": "markdown",
      "source": [
        "![](https://github.com/pe8sutd/DSL2025/blob/main/VerilogColab2/Slide117.PNG?raw=1)"
      ],
      "metadata": {
        "id": "lKEVtgzovyXq"
      }
    },
    {
      "cell_type": "markdown",
      "source": [
        "### Q1"
      ],
      "metadata": {
        "id": "1vVf8p45wvMP"
      }
    },
    {
      "cell_type": "code",
      "source": [
        "%%print_verilog\n",
        "module add4_b(output co,output[3:0]s,input ci,input[3:0]b,a);\n",
        "  assign{co,s}=b+a+ci;\n",
        "endmodule"
      ],
      "metadata": {
        "collapsed": true,
        "id": "FZ3H-B_Mwxj7",
        "outputId": "d1174f7e-12a9-4748-f476-1539338b4dac",
        "colab": {
          "base_uri": "https://localhost:8080/",
          "height": 145
        }
      },
      "execution_count": null,
      "outputs": [
        {
          "output_type": "display_data",
          "data": {
            "text/plain": [
              "<IPython.core.display.SVG object>"
            ],
            "image/svg+xml": "<svg xmlns=\"http://www.w3.org/2000/svg\" xmlns:xlink=\"http://www.w3.org/1999/xlink\" xmlns:s=\"https://github.com/nturley/netlistsvg\" width=\"470\" height=\"124\"><style>svg {\n  stroke:#000;\n  fill:none;\n}\ntext {\n  fill:#000;\n  stroke:none;\n  font-size:10px;\n  font-weight: bold;\n  font-family: &quot;Courier New&quot;, monospace;\n}\nline {\n    stroke-linecap: round;\n}\n.nodelabel {\n  text-anchor: middle;\n}\n.inputPortLabel {\n  text-anchor: end;\n}\n.splitjoinBody {\n  fill:#000;\n}</style><g s:type=\"add\" transform=\"translate(116,27)\" s:width=\"25\" s:height=\"25\" id=\"cell_$add$/content/code.v:2$1\"><s:alias val=\"$add\"/><circle r=\"12.5\" cx=\"12.5\" cy=\"12.5\" class=\"cell_$add$/content/code.v:2$1\"/><line x1=\"7.5\" x2=\"17.5\" y1=\"12.5\" y2=\"12.5\" class=\"cell_$add$/content/code.v:2$1\"/><line x1=\"12.5\" x2=\"12.5\" y1=\"7.5\" y2=\"17.5\" class=\"cell_$add$/content/code.v:2$1\"/><g s:x=\"2\" s:y=\"5\" s:pid=\"A\"/><g s:x=\"2\" s:y=\"20\" s:pid=\"B\"/><g s:x=\"26\" s:y=\"12.5\" s:pid=\"Y\"/></g><g s:type=\"add\" transform=\"translate(242,34.5)\" s:width=\"25\" s:height=\"25\" id=\"cell_$add$/content/code.v:2$2\"><s:alias val=\"$add\"/><circle r=\"12.5\" cx=\"12.5\" cy=\"12.5\" class=\"cell_$add$/content/code.v:2$2\"/><line x1=\"7.5\" x2=\"17.5\" y1=\"12.5\" y2=\"12.5\" class=\"cell_$add$/content/code.v:2$2\"/><line x1=\"12.5\" x2=\"12.5\" y1=\"7.5\" y2=\"17.5\" class=\"cell_$add$/content/code.v:2$2\"/><g s:x=\"2\" s:y=\"5\" s:pid=\"A\"/><g s:x=\"2\" s:y=\"20\" s:pid=\"B\"/><g s:x=\"26\" s:y=\"12.5\" s:pid=\"Y\"/></g><g s:type=\"outputExt\" transform=\"translate(428,27)\" s:width=\"30\" s:height=\"20\" id=\"cell_co\"><text x=\"15\" y=\"-4\" class=\"nodelabel cell_co\" s:attribute=\"ref\">co</text><s:alias val=\"$_outputExt_\"/><path d=\"M30,0 L30,20 L15,20 L0,10 L15,0 Z\" class=\"cell_co\"/><g s:x=\"0\" s:y=\"10\" s:pid=\"A\"/></g><g s:type=\"outputExt\" transform=\"translate(428,92)\" s:width=\"30\" s:height=\"20\" id=\"cell_s\"><text x=\"15\" y=\"-4\" class=\"nodelabel cell_s\" s:attribute=\"ref\">s</text><s:alias val=\"$_outputExt_\"/><path d=\"M30,0 L30,20 L15,20 L0,10 L15,0 Z\" class=\"cell_s\"/><g s:x=\"0\" s:y=\"10\" s:pid=\"A\"/></g><g s:type=\"inputExt\" transform=\"translate(177,90.5)\" s:width=\"30\" s:height=\"20\" id=\"cell_ci\"><text x=\"15\" y=\"-4\" class=\"nodelabel cell_ci\" s:attribute=\"ref\">ci</text><s:alias val=\"$_inputExt_\"/><path d=\"M0,0 L0,20 L15,20 L30,10 L15,0 Z\" class=\"cell_ci\"/><g s:x=\"30\" s:y=\"10\" s:pid=\"Y\"/></g><g s:type=\"inputExt\" transform=\"translate(12,22)\" s:width=\"30\" s:height=\"20\" id=\"cell_b\"><text x=\"15\" y=\"-4\" class=\"nodelabel cell_b\" s:attribute=\"ref\">b</text><s:alias val=\"$_inputExt_\"/><path d=\"M0,0 L0,20 L15,20 L30,10 L15,0 Z\" class=\"cell_b\"/><g s:x=\"30\" s:y=\"10\" s:pid=\"Y\"/></g><g s:type=\"inputExt\" transform=\"translate(12,87)\" s:width=\"30\" s:height=\"20\" id=\"cell_a\"><text x=\"15\" y=\"-4\" class=\"nodelabel cell_a\" s:attribute=\"ref\">a</text><s:alias val=\"$_inputExt_\"/><path d=\"M0,0 L0,20 L15,20 L30,10 L15,0 Z\" class=\"cell_a\"/><g s:x=\"30\" s:y=\"10\" s:pid=\"Y\"/></g><g s:type=\"split\" transform=\"translate(342,26.5)\" s:width=\"5\" s:height=\"40\" id=\"cell_$split$,3,4,5,6,2,\"><rect width=\"5\" height=\"40\" class=\"splitjoinBody\" s:generic=\"body\"/><s:alias val=\"$_split_\"/><g s:x=\"0\" s:y=\"20\" s:pid=\"in\"/><g transform=\"translate(4,10)\" s:x=\"4\" s:y=\"10\" s:pid=\"out0\"><text x=\"5\" y=\"-4\">4</text></g><g transform=\"translate(4,30)\" s:x=\"4\" s:y=\"10\" s:pid=\"out0\"><text x=\"5\" y=\"-4\">0:3</text></g></g><line x1=\"42\" x2=\"118\" y1=\"32\" y2=\"32\" class=\"net_8,9,10,11 width_4\" style=\"stroke-width: 2\"/><line x1=\"42\" x2=\"91\" y1=\"97\" y2=\"97\" class=\"net_12,13,14,15 width_4\" style=\"stroke-width: 2\"/><line x1=\"91\" x2=\"91\" y1=\"97\" y2=\"47\" class=\"net_12,13,14,15 width_4\" style=\"stroke-width: 2\"/><line x1=\"91\" x2=\"118\" y1=\"47\" y2=\"47\" class=\"net_12,13,14,15 width_4\" style=\"stroke-width: 2\"/><line x1=\"142\" x2=\"244\" y1=\"39.5\" y2=\"39.5\" class=\"net_16,17,18,19,20 width_5\" style=\"stroke-width: 2\"/><line x1=\"207\" x2=\"217\" y1=\"100.5\" y2=\"100.5\" class=\"net_7 width_1\" style=\"stroke-width: 1\"/><line x1=\"217\" x2=\"217\" y1=\"100.5\" y2=\"54.5\" class=\"net_7 width_1\" style=\"stroke-width: 1\"/><line x1=\"217\" x2=\"244\" y1=\"54.5\" y2=\"54.5\" class=\"net_7 width_1\" style=\"stroke-width: 1\"/><line x1=\"347\" x2=\"428\" y1=\"37\" y2=\"37\" class=\"net_2 width_1\" style=\"stroke-width: 1\"/><line x1=\"347\" x2=\"364\" y1=\"57\" y2=\"57\" class=\"net_3,4,5,6 width_4\" style=\"stroke-width: 2\"/><line x1=\"364\" x2=\"364\" y1=\"57\" y2=\"102\" class=\"net_3,4,5,6 width_4\" style=\"stroke-width: 2\"/><line x1=\"364\" x2=\"428\" y1=\"102\" y2=\"102\" class=\"net_3,4,5,6 width_4\" style=\"stroke-width: 2\"/><line x1=\"268\" x2=\"342\" y1=\"47\" y2=\"47\" class=\"net_3,4,5,6,2 width_5\" style=\"stroke-width: 2\"/><rect x=\"78\" y=\"27\" width=\"16\" height=\"9\" class=\"net_8,9,10,11 width_4 busLabel_4\" style=\"fill: white; stroke: none\"/><text x=\"77\" y=\"35\" class=\"net_8,9,10,11 width_4 busLabel_4\">/4/</text><rect x=\"78\" y=\"92\" width=\"16\" height=\"9\" class=\"net_12,13,14,15 width_4 busLabel_4\" style=\"fill: white; stroke: none\"/><text x=\"77\" y=\"100\" class=\"net_12,13,14,15 width_4 busLabel_4\">/4/</text><rect x=\"191\" y=\"34.5\" width=\"16\" height=\"9\" class=\"net_16,17,18,19,20 width_5 busLabel_5\" style=\"fill: white; stroke: none\"/><text x=\"190\" y=\"42.5\" class=\"net_16,17,18,19,20 width_5 busLabel_5\">/5/</text><rect x=\"390\" y=\"97\" width=\"16\" height=\"9\" class=\"net_3,4,5,6 width_4 busLabel_4\" style=\"fill: white; stroke: none\"/><text x=\"389\" y=\"105\" class=\"net_3,4,5,6 width_4 busLabel_4\">/4/</text><rect x=\"304\" y=\"42\" width=\"16\" height=\"9\" class=\"net_3,4,5,6,2 width_5 busLabel_5\" style=\"fill: white; stroke: none\"/><text x=\"303\" y=\"50\" class=\"net_3,4,5,6,2 width_5 busLabel_5\">/5/</text></svg>"
          },
          "metadata": {}
        }
      ]
    },
    {
      "cell_type": "code",
      "source": [
        "%%print_verilog\n",
        "module add4_b(output reg co,output reg[3:0]s,input ci,input[3:0]b,a);\n",
        "  always @(b or a or ci) {co,s}=b+a+ci;\n",
        "endmodule"
      ],
      "metadata": {
        "id": "yIhZIEQfx0Kf",
        "outputId": "5c07cfca-060d-45df-ed19-d154ca1454f2",
        "colab": {
          "base_uri": "https://localhost:8080/",
          "height": 145
        }
      },
      "execution_count": null,
      "outputs": [
        {
          "output_type": "display_data",
          "data": {
            "text/plain": [
              "<IPython.core.display.SVG object>"
            ],
            "image/svg+xml": "<svg xmlns=\"http://www.w3.org/2000/svg\" xmlns:xlink=\"http://www.w3.org/1999/xlink\" xmlns:s=\"https://github.com/nturley/netlistsvg\" width=\"470\" height=\"124\"><style>svg {\n  stroke:#000;\n  fill:none;\n}\ntext {\n  fill:#000;\n  stroke:none;\n  font-size:10px;\n  font-weight: bold;\n  font-family: &quot;Courier New&quot;, monospace;\n}\nline {\n    stroke-linecap: round;\n}\n.nodelabel {\n  text-anchor: middle;\n}\n.inputPortLabel {\n  text-anchor: end;\n}\n.splitjoinBody {\n  fill:#000;\n}</style><g s:type=\"add\" transform=\"translate(116,27)\" s:width=\"25\" s:height=\"25\" id=\"cell_$add$/content/code.v:2$2\"><s:alias val=\"$add\"/><circle r=\"12.5\" cx=\"12.5\" cy=\"12.5\" class=\"cell_$add$/content/code.v:2$2\"/><line x1=\"7.5\" x2=\"17.5\" y1=\"12.5\" y2=\"12.5\" class=\"cell_$add$/content/code.v:2$2\"/><line x1=\"12.5\" x2=\"12.5\" y1=\"7.5\" y2=\"17.5\" class=\"cell_$add$/content/code.v:2$2\"/><g s:x=\"2\" s:y=\"5\" s:pid=\"A\"/><g s:x=\"2\" s:y=\"20\" s:pid=\"B\"/><g s:x=\"26\" s:y=\"12.5\" s:pid=\"Y\"/></g><g s:type=\"add\" transform=\"translate(242,34.5)\" s:width=\"25\" s:height=\"25\" id=\"cell_$add$/content/code.v:2$3\"><s:alias val=\"$add\"/><circle r=\"12.5\" cx=\"12.5\" cy=\"12.5\" class=\"cell_$add$/content/code.v:2$3\"/><line x1=\"7.5\" x2=\"17.5\" y1=\"12.5\" y2=\"12.5\" class=\"cell_$add$/content/code.v:2$3\"/><line x1=\"12.5\" x2=\"12.5\" y1=\"7.5\" y2=\"17.5\" class=\"cell_$add$/content/code.v:2$3\"/><g s:x=\"2\" s:y=\"5\" s:pid=\"A\"/><g s:x=\"2\" s:y=\"20\" s:pid=\"B\"/><g s:x=\"26\" s:y=\"12.5\" s:pid=\"Y\"/></g><g s:type=\"outputExt\" transform=\"translate(428,27)\" s:width=\"30\" s:height=\"20\" id=\"cell_co\"><text x=\"15\" y=\"-4\" class=\"nodelabel cell_co\" s:attribute=\"ref\">co</text><s:alias val=\"$_outputExt_\"/><path d=\"M30,0 L30,20 L15,20 L0,10 L15,0 Z\" class=\"cell_co\"/><g s:x=\"0\" s:y=\"10\" s:pid=\"A\"/></g><g s:type=\"outputExt\" transform=\"translate(428,92)\" s:width=\"30\" s:height=\"20\" id=\"cell_s\"><text x=\"15\" y=\"-4\" class=\"nodelabel cell_s\" s:attribute=\"ref\">s</text><s:alias val=\"$_outputExt_\"/><path d=\"M30,0 L30,20 L15,20 L0,10 L15,0 Z\" class=\"cell_s\"/><g s:x=\"0\" s:y=\"10\" s:pid=\"A\"/></g><g s:type=\"inputExt\" transform=\"translate(177,90.5)\" s:width=\"30\" s:height=\"20\" id=\"cell_ci\"><text x=\"15\" y=\"-4\" class=\"nodelabel cell_ci\" s:attribute=\"ref\">ci</text><s:alias val=\"$_inputExt_\"/><path d=\"M0,0 L0,20 L15,20 L30,10 L15,0 Z\" class=\"cell_ci\"/><g s:x=\"30\" s:y=\"10\" s:pid=\"Y\"/></g><g s:type=\"inputExt\" transform=\"translate(12,22)\" s:width=\"30\" s:height=\"20\" id=\"cell_b\"><text x=\"15\" y=\"-4\" class=\"nodelabel cell_b\" s:attribute=\"ref\">b</text><s:alias val=\"$_inputExt_\"/><path d=\"M0,0 L0,20 L15,20 L30,10 L15,0 Z\" class=\"cell_b\"/><g s:x=\"30\" s:y=\"10\" s:pid=\"Y\"/></g><g s:type=\"inputExt\" transform=\"translate(12,87)\" s:width=\"30\" s:height=\"20\" id=\"cell_a\"><text x=\"15\" y=\"-4\" class=\"nodelabel cell_a\" s:attribute=\"ref\">a</text><s:alias val=\"$_inputExt_\"/><path d=\"M0,0 L0,20 L15,20 L30,10 L15,0 Z\" class=\"cell_a\"/><g s:x=\"30\" s:y=\"10\" s:pid=\"Y\"/></g><g s:type=\"split\" transform=\"translate(342,26.5)\" s:width=\"5\" s:height=\"40\" id=\"cell_$split$,3,4,5,6,2,\"><rect width=\"5\" height=\"40\" class=\"splitjoinBody\" s:generic=\"body\"/><s:alias val=\"$_split_\"/><g s:x=\"0\" s:y=\"20\" s:pid=\"in\"/><g transform=\"translate(4,10)\" s:x=\"4\" s:y=\"10\" s:pid=\"out0\"><text x=\"5\" y=\"-4\">4</text></g><g transform=\"translate(4,30)\" s:x=\"4\" s:y=\"10\" s:pid=\"out0\"><text x=\"5\" y=\"-4\">0:3</text></g></g><line x1=\"42\" x2=\"118\" y1=\"32\" y2=\"32\" class=\"net_8,9,10,11 width_4\" style=\"stroke-width: 2\"/><line x1=\"42\" x2=\"91\" y1=\"97\" y2=\"97\" class=\"net_12,13,14,15 width_4\" style=\"stroke-width: 2\"/><line x1=\"91\" x2=\"91\" y1=\"97\" y2=\"47\" class=\"net_12,13,14,15 width_4\" style=\"stroke-width: 2\"/><line x1=\"91\" x2=\"118\" y1=\"47\" y2=\"47\" class=\"net_12,13,14,15 width_4\" style=\"stroke-width: 2\"/><line x1=\"142\" x2=\"244\" y1=\"39.5\" y2=\"39.5\" class=\"net_16,17,18,19,20 width_5\" style=\"stroke-width: 2\"/><line x1=\"207\" x2=\"217\" y1=\"100.5\" y2=\"100.5\" class=\"net_7 width_1\" style=\"stroke-width: 1\"/><line x1=\"217\" x2=\"217\" y1=\"100.5\" y2=\"54.5\" class=\"net_7 width_1\" style=\"stroke-width: 1\"/><line x1=\"217\" x2=\"244\" y1=\"54.5\" y2=\"54.5\" class=\"net_7 width_1\" style=\"stroke-width: 1\"/><line x1=\"347\" x2=\"428\" y1=\"37\" y2=\"37\" class=\"net_2 width_1\" style=\"stroke-width: 1\"/><line x1=\"347\" x2=\"364\" y1=\"57\" y2=\"57\" class=\"net_3,4,5,6 width_4\" style=\"stroke-width: 2\"/><line x1=\"364\" x2=\"364\" y1=\"57\" y2=\"102\" class=\"net_3,4,5,6 width_4\" style=\"stroke-width: 2\"/><line x1=\"364\" x2=\"428\" y1=\"102\" y2=\"102\" class=\"net_3,4,5,6 width_4\" style=\"stroke-width: 2\"/><line x1=\"268\" x2=\"342\" y1=\"47\" y2=\"47\" class=\"net_3,4,5,6,2 width_5\" style=\"stroke-width: 2\"/><rect x=\"78\" y=\"27\" width=\"16\" height=\"9\" class=\"net_8,9,10,11 width_4 busLabel_4\" style=\"fill: white; stroke: none\"/><text x=\"77\" y=\"35\" class=\"net_8,9,10,11 width_4 busLabel_4\">/4/</text><rect x=\"78\" y=\"92\" width=\"16\" height=\"9\" class=\"net_12,13,14,15 width_4 busLabel_4\" style=\"fill: white; stroke: none\"/><text x=\"77\" y=\"100\" class=\"net_12,13,14,15 width_4 busLabel_4\">/4/</text><rect x=\"191\" y=\"34.5\" width=\"16\" height=\"9\" class=\"net_16,17,18,19,20 width_5 busLabel_5\" style=\"fill: white; stroke: none\"/><text x=\"190\" y=\"42.5\" class=\"net_16,17,18,19,20 width_5 busLabel_5\">/5/</text><rect x=\"390\" y=\"97\" width=\"16\" height=\"9\" class=\"net_3,4,5,6 width_4 busLabel_4\" style=\"fill: white; stroke: none\"/><text x=\"389\" y=\"105\" class=\"net_3,4,5,6 width_4 busLabel_4\">/4/</text><rect x=\"304\" y=\"42\" width=\"16\" height=\"9\" class=\"net_3,4,5,6,2 width_5 busLabel_5\" style=\"fill: white; stroke: none\"/><text x=\"303\" y=\"50\" class=\"net_3,4,5,6,2 width_5 busLabel_5\">/5/</text></svg>"
          },
          "metadata": {}
        }
      ]
    },
    {
      "cell_type": "markdown",
      "source": [
        "![](https://github.com/pe8sutd/DSL2025/blob/main/VerilogColab2/Slide118.PNG?raw=1)"
      ],
      "metadata": {
        "id": "iCRUfxnNvyTu"
      }
    },
    {
      "cell_type": "markdown",
      "source": [
        "![](https://github.com/pe8sutd/DSL2025/blob/main/VerilogColab2/Slide119.PNG?raw=1)"
      ],
      "metadata": {
        "id": "qLyeixO_vyPQ"
      }
    },
    {
      "cell_type": "markdown",
      "source": [
        "![](https://github.com/pe8sutd/DSL2025/blob/main/VerilogColab2/Slide120.PNG?raw=1)"
      ],
      "metadata": {
        "id": "ujSQovonwj-I"
      }
    },
    {
      "cell_type": "markdown",
      "source": [
        "### Q2"
      ],
      "metadata": {
        "id": "kVCjFepx_hT-"
      }
    },
    {
      "cell_type": "markdown",
      "source": [
        "Verify the adder using $monitor only."
      ],
      "metadata": {
        "id": "ChqS3BKX_U7k"
      }
    },
    {
      "cell_type": "code",
      "source": [
        "%%verilog\n",
        "module tb; wire co; wire[3:0]s; reg ci;reg[3:0]b,a;\n",
        "integer i;\n",
        "add4_s i1(co,s,ci,b,a);\n",
        "initial begin $dumpfile(\"tb.vcd\");$dumpvars();\n",
        "ci=0;b=0;a=0; for (i=0;i<8;i=i+1) begin #1 ci=$random;b=$random;a=$random; end\n",
        "$dumpoff; end\n",
        "initial begin $monitor(\"%d co=%b s=%b ci=%b b=%b a=%b\",$time,co,s,ci,b,a); end\n",
        "endmodule\n",
        "\n",
        "module add4_s(output co,output[3:0]s,input ci,input[3:0]b,a); wire [2:0]c;\n",
        "  fa i0(c[0],s[0],ci,  b[0],a[0]);\n",
        "  fa i1(c[1],s[1],c[0],b[1],a[1]);\n",
        "  fa i2(c[2],s[2],c[1],b[2],a[2]);\n",
        "  fa i3(co,  s[3],c[2],b[3],a[3]);\n",
        "endmodule\n",
        "\n",
        "module fa(output co,s,input ci,b,a); wire w3,w2,w1;\n",
        "  xor g1(w1,a,b); xor g2(s,w1,ci); and g3(w2,a,b); and g4(w3,w1,ci); or g5(co,w2,w3);\n",
        "endmodule"
      ],
      "metadata": {
        "id": "0nZooAxk43IY",
        "outputId": "1188c150-e425-478b-e3f4-2e33b8ed2d01",
        "colab": {
          "base_uri": "https://localhost:8080/"
        }
      },
      "execution_count": null,
      "outputs": [
        {
          "output_type": "stream",
          "name": "stdout",
          "text": [
            "VCD info: dumpfile tb.vcd opened for output.\n",
            "                   0 co=0 s=0000 ci=0 b=0000 a=0000\n",
            "                   1 co=0 s=1010 ci=0 b=0001 a=1001\n",
            "                   2 co=1 s=1011 ci=1 b=1101 a=1101\n",
            "                   3 co=0 s=0100 ci=1 b=0010 a=0001\n",
            "                   4 co=1 s=0100 ci=1 b=0110 a=1101\n",
            "                   5 co=1 s=0110 ci=1 b=1100 a=1001\n",
            "                   6 co=0 s=1111 ci=0 b=0101 a=1010\n",
            "                   7 co=0 s=1010 ci=1 b=0111 a=0010\n",
            "                   8 co=1 s=0001 ci=1 b=0010 a=1110\n",
            "\n"
          ]
        }
      ]
    },
    {
      "cell_type": "markdown",
      "source": [
        "### Q3"
      ],
      "metadata": {
        "id": "zUtUrBV7_ktX"
      }
    },
    {
      "cell_type": "markdown",
      "source": [
        "Still using $monitor, modify the testbench to show the results in decimal numbers instead of binary number."
      ],
      "metadata": {
        "id": "QExiTOq3_BVY"
      }
    },
    {
      "cell_type": "code",
      "source": [
        "%%verilog\n",
        "\n",
        "module tb; wire co; wire[3:0]s; reg ci;reg[3:0]b,a;\n",
        "integer i;\n",
        "add4_s i1(co,s,ci,b,a);\n",
        "initial begin $dumpfile(\"tb.vcd\");$dumpvars();\n",
        "ci=0;b=0;a=0; for (i=0;i<8;i=i+1) begin #1 ci=$random;b=$random;a=$random; end\n",
        "$dumpoff; end\n",
        "wire[4:0]t; assign t={co,s};\n",
        "initial begin $monitor(\"%d t=%d ci=%d b=%d a=%d\",$time,t,ci,b,a); end\n",
        "endmodule\n",
        "\n",
        "module add4_s(output co,output[3:0]s,input ci,input[3:0]b,a); wire [2:0]c;\n",
        "  fa i0(c[0],s[0],ci,  b[0],a[0]);\n",
        "  fa i1(c[1],s[1],c[0],b[1],a[1]);\n",
        "  fa i2(c[2],s[2],c[1],b[2],a[2]);\n",
        "  fa i3(co,  s[3],c[2],b[3],a[3]);\n",
        "endmodule\n",
        "\n",
        "module fa(output co,s,input ci,b,a); wire w3,w2,w1;\n",
        "  xor g1(w1,a,b); xor g2(s,w1,ci); and g3(w2,a,b); and g4(w3,w1,ci); or g5(co,w2,w3);\n",
        "endmodule"
      ],
      "metadata": {
        "id": "gwaLBhM3-zft",
        "outputId": "1c3ea1d9-f5fb-4f74-e7c1-f83dc0875f8e",
        "colab": {
          "base_uri": "https://localhost:8080/"
        }
      },
      "execution_count": null,
      "outputs": [
        {
          "output_type": "stream",
          "name": "stdout",
          "text": [
            "VCD info: dumpfile tb.vcd opened for output.\n",
            "                   0 t= 0 ci=0 b= 0 a= 0\n",
            "                   1 t=10 ci=0 b= 1 a= 9\n",
            "                   2 t=27 ci=1 b=13 a=13\n",
            "                   3 t= 4 ci=1 b= 2 a= 1\n",
            "                   4 t=20 ci=1 b= 6 a=13\n",
            "                   5 t=22 ci=1 b=12 a= 9\n",
            "                   6 t=15 ci=0 b= 5 a=10\n",
            "                   7 t=10 ci=1 b= 7 a= 2\n",
            "                   8 t=17 ci=1 b= 2 a=14\n",
            "\n"
          ]
        }
      ]
    },
    {
      "cell_type": "markdown",
      "source": [
        "## FAQ"
      ],
      "metadata": {
        "id": "UpzzBXO4QOp4"
      }
    },
    {
      "cell_type": "markdown",
      "source": [
        "![](https://github.com/pe8sutd/DSL2025/blob/main/VerilogColab2/Slide121.PNG?raw=1)"
      ],
      "metadata": {
        "id": "ZtmpwLkDwj6T"
      }
    },
    {
      "cell_type": "markdown",
      "source": [
        "![](https://github.com/pe8sutd/DSL2025/blob/main/VerilogColab2/Slide122.PNG?raw=1)"
      ],
      "metadata": {
        "id": "Mv5NhrjVwj2O"
      }
    },
    {
      "cell_type": "markdown",
      "source": [
        "## Blocking - Nonblocking"
      ],
      "metadata": {
        "id": "MeTuxG2yQttd"
      }
    },
    {
      "cell_type": "markdown",
      "source": [
        "![](https://github.com/pe8sutd/DSL2025/blob/main/VerilogColab2/Slide123.PNG?raw=1)"
      ],
      "metadata": {
        "id": "-tsQEamkwjyV"
      }
    },
    {
      "cell_type": "markdown",
      "source": [
        "![](https://github.com/pe8sutd/DSL2025/blob/main/VerilogColab2/Slide124.PNG?raw=1)"
      ],
      "metadata": {
        "id": "WwWx5TiAwjuL"
      }
    },
    {
      "cell_type": "markdown",
      "source": [
        "![](https://github.com/pe8sutd/DSL2025/blob/main/VerilogColab2/Slide125.PNG?raw=1)"
      ],
      "metadata": {
        "id": "_jlC6I_8wjqR"
      }
    },
    {
      "cell_type": "markdown",
      "source": [
        "![](https://github.com/pe8sutd/DSL2025/blob/main/VerilogColab2/Slide126.PNG?raw=1)"
      ],
      "metadata": {
        "id": "qHpZEEHRwjmW"
      }
    },
    {
      "cell_type": "markdown",
      "source": [
        "![](https://github.com/pe8sutd/DSL2025/blob/main/VerilogColab2/Slide127.PNG?raw=1)"
      ],
      "metadata": {
        "id": "uNBQNYBywjie"
      }
    },
    {
      "cell_type": "markdown",
      "source": [
        "![](https://github.com/pe8sutd/DSL2025/blob/main/VerilogColab2/Slide128.PNG?raw=1)"
      ],
      "metadata": {
        "id": "daQS2kK-wjei"
      }
    },
    {
      "cell_type": "markdown",
      "source": [
        "![](https://github.com/pe8sutd/DSL2025/blob/main/VerilogColab2/Slide129.PNG?raw=1)"
      ],
      "metadata": {
        "id": "NM7zDlDGwjaL"
      }
    },
    {
      "cell_type": "markdown",
      "source": [
        "![](https://github.com/pe8sutd/DSL2025/blob/main/VerilogColab2/Slide130.PNG?raw=1)"
      ],
      "metadata": {
        "id": "Z7ACrxcKwjVu"
      }
    },
    {
      "cell_type": "markdown",
      "source": [
        "![](https://github.com/pe8sutd/DSL2025/blob/main/VerilogColab2/Slide131.PNG?raw=1)"
      ],
      "metadata": {
        "id": "b-dwOVtHwjQ5"
      }
    },
    {
      "cell_type": "markdown",
      "source": [
        "![](https://github.com/pe8sutd/DSL2025/blob/main/VerilogColab2/Slide132.PNG?raw=1)"
      ],
      "metadata": {
        "id": "A3KbpC27wjMl"
      }
    },
    {
      "cell_type": "markdown",
      "source": [
        "![](https://github.com/pe8sutd/DSL2025/blob/main/VerilogColab2/Slide133.PNG?raw=1)"
      ],
      "metadata": {
        "id": "7MCHYgJ5wjHZ"
      }
    },
    {
      "cell_type": "markdown",
      "source": [
        "![](https://github.com/pe8sutd/DSL2025/blob/main/VerilogColab2/Slide134.PNG?raw=1)"
      ],
      "metadata": {
        "id": "lVWERBzrwjCu"
      }
    },
    {
      "cell_type": "markdown",
      "source": [
        "## Continuous Assignments"
      ],
      "metadata": {
        "id": "_HJq55nMQWWw"
      }
    },
    {
      "cell_type": "markdown",
      "source": [
        "![](https://github.com/pe8sutd/DSL2025/blob/main/VerilogColab2/Slide135.PNG?raw=1)"
      ],
      "metadata": {
        "id": "ownhtqLhwi-v"
      }
    },
    {
      "cell_type": "markdown",
      "source": [
        "## Procedure Assignments"
      ],
      "metadata": {
        "id": "vrcdzhFwQctw"
      }
    },
    {
      "cell_type": "markdown",
      "source": [
        "![](https://github.com/pe8sutd/DSL2025/blob/main/VerilogColab2/Slide136.PNG?raw=1)"
      ],
      "metadata": {
        "id": "aZ_ayOSSwi60"
      }
    },
    {
      "cell_type": "markdown",
      "source": [
        "![](https://github.com/pe8sutd/DSL2025/blob/main/VerilogColab2/Slide137.PNG?raw=1)"
      ],
      "metadata": {
        "id": "v0_MemMYwi2-"
      }
    },
    {
      "cell_type": "markdown",
      "source": [
        "## Verilog VCD Dump"
      ],
      "metadata": {
        "id": "Mrv5x28WQhUb"
      }
    },
    {
      "cell_type": "markdown",
      "source": [
        "![](https://github.com/pe8sutd/DSL2025/blob/main/VerilogColab2/Slide138.PNG?raw=1)"
      ],
      "metadata": {
        "id": "dv8yWy_Ywiy1"
      }
    },
    {
      "cell_type": "markdown",
      "source": [
        "![](https://github.com/pe8sutd/DSL2025/blob/main/VerilogColab2/Slide139.PNG?raw=1)"
      ],
      "metadata": {
        "id": "2ZGED-OWwiuz"
      }
    },
    {
      "cell_type": "markdown",
      "source": [
        "![](https://github.com/pe8sutd/DSL2025/blob/main/VerilogColab2/Slide140.PNG?raw=1)"
      ],
      "metadata": {
        "id": "vD6X-9XIwirE"
      }
    },
    {
      "cell_type": "markdown",
      "source": [
        "![](https://github.com/pe8sutd/DSL2025/blob/main/VerilogColab2/Slide141.PNG?raw=1)"
      ],
      "metadata": {
        "id": "VI3NAd_Fwimb"
      }
    },
    {
      "cell_type": "markdown",
      "source": [
        "![](https://github.com/pe8sutd/DSL2025/blob/main/VerilogColab2/Slide142.PNG?raw=1)"
      ],
      "metadata": {
        "id": "r6F7f-1nwig3"
      }
    },
    {
      "cell_type": "markdown",
      "source": [
        "![](https://github.com/pe8sutd/DSL2025/blob/main/VerilogColab2/Slide143.PNG?raw=1)"
      ],
      "metadata": {
        "id": "fCDBRTgUxioE"
      }
    },
    {
      "cell_type": "markdown",
      "source": [
        "![](https://github.com/pe8sutd/DSL2025/blob/main/VerilogColab2/Slide144.PNG?raw=1)"
      ],
      "metadata": {
        "id": "ug-5uq4vxiV5"
      }
    }
  ]
}